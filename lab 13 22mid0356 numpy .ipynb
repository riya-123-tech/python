{
 "cells": [
  {
   "cell_type": "code",
   "execution_count": 19,
   "id": "47213f43",
   "metadata": {},
   "outputs": [],
   "source": [
    "import numpy as np\n",
    "a1D = np.array([1, 2, 3, 4])\n",
    "a2D = np.array([[1, 2], [3, 4]])\n",
    "a3D = np.array([[[1, 2], [3, 4]], [[5, 6], [7, 8]]])"
   ]
  },
  {
   "cell_type": "code",
   "execution_count": 1,
   "id": "27891321",
   "metadata": {},
   "outputs": [
    {
     "name": "stdout",
     "output_type": "stream",
     "text": [
      "2\n"
     ]
    }
   ],
   "source": [
    "#DIMENSION\n",
    "import numpy as np\n",
    "arr = np.array([[10,20, 30], [40, 50, 60]])  #2D numpy array\n",
    "print(arr.ndim) #prints the dimension"
   ]
  },
  {
   "cell_type": "code",
   "execution_count": 4,
   "id": "645b5a93",
   "metadata": {},
   "outputs": [
    {
     "name": "stdout",
     "output_type": "stream",
     "text": [
      "3\n"
     ]
    }
   ],
   "source": [
    "#DIMENSION-3D\n",
    "import numpy as np\n",
    "arr = np.array([                   #3d numpy array\n",
    "    [[10, 20, 30], [40, 50, 60]],  # First 2x3 matrix\n",
    "    [[1, 2, 3], [4, 5, 6]]         # Second 2x3 matrix\n",
    "])\n",
    "\n",
    "print(arr.ndim)"
   ]
  },
  {
   "cell_type": "code",
   "execution_count": 5,
   "id": "aa9b3dcd",
   "metadata": {},
   "outputs": [
    {
     "name": "stdout",
     "output_type": "stream",
     "text": [
      "6\n"
     ]
    }
   ],
   "source": [
    "#SIZE\n",
    "import numpy as np\n",
    "arr = np.array([[10,20, 30], [40, 50, 60]])  #2D numpy array\n",
    "print(arr.size) # returns the total number of elements in the array"
   ]
  },
  {
   "cell_type": "code",
   "execution_count": 6,
   "id": "a5fbe17a",
   "metadata": {},
   "outputs": [
    {
     "name": "stdout",
     "output_type": "stream",
     "text": [
      "(1, 6)\n"
     ]
    }
   ],
   "source": [
    "#SHAPE\n",
    "import numpy as np\n",
    "arr = np.array([[1, 2, 3, 4, 5, 6]])\n",
    "print(arr.shape) #6 elements in a single dimension (a 1D vector).\n"
   ]
  },
  {
   "cell_type": "code",
   "execution_count": 7,
   "id": "87cacd99",
   "metadata": {},
   "outputs": [
    {
     "name": "stdout",
     "output_type": "stream",
     "text": [
      "(2, 3)\n"
     ]
    }
   ],
   "source": [
    "#SHAPE-2D\n",
    "import numpy as np\n",
    "arr = np.array([[10,20, 30], [40, 50, 60]])\n",
    "print(arr.shape) #array’s dimensions ((2,3) → 2 rows, 3 columns)."
   ]
  },
  {
   "cell_type": "code",
   "execution_count": 8,
   "id": "5ca711e1",
   "metadata": {},
   "outputs": [
    {
     "name": "stdout",
     "output_type": "stream",
     "text": [
      "Original array: ['Riya' 'Dev' 'Harshini' 'Dev' 'Tamanna' 'Tanvi']\n",
      "Original shape: (6,)\n",
      "\n",
      "Reshaped array:\n",
      "[['Riya' 'Dev' 'Harshini']\n",
      " ['Dev' 'Tamanna' 'Tanvi']]\n",
      "New shape: (2, 3)\n"
     ]
    }
   ],
   "source": [
    "#RESHAPING ARRAY\n",
    "import numpy as np\n",
    "\n",
    "names = np.array([\"Riya\", \"Dev\", \"Harshini\", \"Dev\", \"Tamanna\", \"Tanvi\"]) #1D array\n",
    "print(\"Original array:\", names)\n",
    "print(\"Original shape:\", names.shape)\n",
    "\n",
    "reshaped_names = names.reshape(2, 3) # Reshape into a 2D array with 2 rows and 3 columns\n",
    "print(\"\\nReshaped array:\")\n",
    "print(reshaped_names)\n",
    "print(\"New shape:\", reshaped_names.shape)"
   ]
  },
  {
   "cell_type": "code",
   "execution_count": 10,
   "id": "3a0057c8",
   "metadata": {},
   "outputs": [],
   "source": [
    "def pythonsum(n):\n",
    "    a = range(n)          # Create a range object from 0 to n-1 for variable a (immutable sequence)\n",
    "    b = range(n)          # Create another range object from 0 to n-1 for variable b\n",
    "    c = []                # empty list to store results\n",
    "\n",
    "    for i in range(n):    # Loop over numbers from 0 to n-1\n",
    "        a[i] = i ** 2    \n",
    "        b[i] = i ** 3     \n",
    "        c.append(a[i] + b[i])  # Add the corresponding elements from a and b, append sum to c\n",
    "\n",
    "    return c              # Return the list of sums"
   ]
  },
  {
   "cell_type": "code",
   "execution_count": 12,
   "id": "d54c6798",
   "metadata": {},
   "outputs": [
    {
     "ename": "TypeError",
     "evalue": "'range' object does not support item assignment",
     "output_type": "error",
     "traceback": [
      "\u001b[0;31m---------------------------------------------------------------------------\u001b[0m",
      "\u001b[0;31mTypeError\u001b[0m                                 Traceback (most recent call last)",
      "\u001b[0;32m<ipython-input-12-13a3def8ed1c>\u001b[0m in \u001b[0;36m<module>\u001b[0;34m\u001b[0m\n\u001b[0;32m----> 1\u001b[0;31m \u001b[0mprint\u001b[0m\u001b[0;34m(\u001b[0m\u001b[0mpythonsum\u001b[0m\u001b[0;34m(\u001b[0m\u001b[0;36m5\u001b[0m\u001b[0;34m)\u001b[0m\u001b[0;34m)\u001b[0m \u001b[0;31m#error cause range(n) creates an immutable sequence—it doesn’t allow changes to its elements.\u001b[0m\u001b[0;34m\u001b[0m\u001b[0;34m\u001b[0m\u001b[0m\n\u001b[0m\u001b[1;32m      2\u001b[0m \u001b[0;31m#The line a[i] = i ** 2 tries to assign a new value to an element of range, which is invalid.\u001b[0m\u001b[0;34m\u001b[0m\u001b[0;34m\u001b[0m\u001b[0;34m\u001b[0m\u001b[0m\n",
      "\u001b[0;32m<ipython-input-10-fceb360f99c2>\u001b[0m in \u001b[0;36mpythonsum\u001b[0;34m(n)\u001b[0m\n\u001b[1;32m      5\u001b[0m \u001b[0;34m\u001b[0m\u001b[0m\n\u001b[1;32m      6\u001b[0m     \u001b[0;32mfor\u001b[0m \u001b[0mi\u001b[0m \u001b[0;32min\u001b[0m \u001b[0mrange\u001b[0m\u001b[0;34m(\u001b[0m\u001b[0mn\u001b[0m\u001b[0;34m)\u001b[0m\u001b[0;34m:\u001b[0m    \u001b[0;31m# Loop over numbers from 0 to n-1\u001b[0m\u001b[0;34m\u001b[0m\u001b[0;34m\u001b[0m\u001b[0m\n\u001b[0;32m----> 7\u001b[0;31m         \u001b[0ma\u001b[0m\u001b[0;34m[\u001b[0m\u001b[0mi\u001b[0m\u001b[0;34m]\u001b[0m \u001b[0;34m=\u001b[0m \u001b[0mi\u001b[0m \u001b[0;34m**\u001b[0m \u001b[0;36m2\u001b[0m\u001b[0;34m\u001b[0m\u001b[0;34m\u001b[0m\u001b[0m\n\u001b[0m\u001b[1;32m      8\u001b[0m         \u001b[0mb\u001b[0m\u001b[0;34m[\u001b[0m\u001b[0mi\u001b[0m\u001b[0;34m]\u001b[0m \u001b[0;34m=\u001b[0m \u001b[0mi\u001b[0m \u001b[0;34m**\u001b[0m \u001b[0;36m3\u001b[0m\u001b[0;34m\u001b[0m\u001b[0;34m\u001b[0m\u001b[0m\n\u001b[1;32m      9\u001b[0m         \u001b[0mc\u001b[0m\u001b[0;34m.\u001b[0m\u001b[0mappend\u001b[0m\u001b[0;34m(\u001b[0m\u001b[0ma\u001b[0m\u001b[0;34m[\u001b[0m\u001b[0mi\u001b[0m\u001b[0;34m]\u001b[0m \u001b[0;34m+\u001b[0m \u001b[0mb\u001b[0m\u001b[0;34m[\u001b[0m\u001b[0mi\u001b[0m\u001b[0;34m]\u001b[0m\u001b[0;34m)\u001b[0m  \u001b[0;31m# Add the corresponding elements from a and b, append sum to c\u001b[0m\u001b[0;34m\u001b[0m\u001b[0;34m\u001b[0m\u001b[0m\n",
      "\u001b[0;31mTypeError\u001b[0m: 'range' object does not support item assignment"
     ]
    }
   ],
   "source": [
    "print(pythonsum(5)) #error cause range(n) creates an immutable sequence—it doesn’t allow changes to its elements.\n",
    "#The line a[i] = i ** 2 tries to assign a new value to an element of range, which is invalid.\n"
   ]
  },
  {
   "cell_type": "code",
   "execution_count": 14,
   "id": "01352a8f",
   "metadata": {},
   "outputs": [
    {
     "name": "stdout",
     "output_type": "stream",
     "text": [
      "[0, 2, 12, 36, 80]\n"
     ]
    }
   ],
   "source": [
    "def pythonsum(n):\n",
    "    a = [0] * n  # squares  #[0] * n creates a list of zeros you can update element-by-element.\n",
    "    b = [0] * n  # cubes\n",
    "    c = []       # results\n",
    "\n",
    "    for i in range(n): \n",
    "        a[i] = i ** 2\n",
    "        b[i] = i ** 3\n",
    "        c.append(a[i] + b[i])\n",
    "\n",
    "    return c\n",
    "\n",
    "print(pythonsum(5))"
   ]
  },
  {
   "cell_type": "code",
   "execution_count": 16,
   "id": "7959aabf",
   "metadata": {},
   "outputs": [],
   "source": [
    "import numpy as np\n",
    "def numpysum(n)\n",
    "  a = np.arange(n) ** 2  #Creates an array [0,1,..n-1] and element-wise sqauring\n",
    "  b = np.arange(n) ** 3\n",
    "  c = a + b              #element wise adding - NO LOOP Overhead, hence Memory Efficient\n",
    "  return c"
   ]
  },
  {
   "cell_type": "code",
   "execution_count": 17,
   "id": "71e3f17c",
   "metadata": {},
   "outputs": [
    {
     "name": "stdout",
     "output_type": "stream",
     "text": [
      "[   0    2   12   36   80  150  252  392  576  810 1100 1452 1872 2366\n",
      " 2940]\n"
     ]
    }
   ],
   "source": [
    "print(numpysum(15))"
   ]
  },
  {
   "cell_type": "code",
   "execution_count": 21,
   "id": "8bb9a6cb",
   "metadata": {},
   "outputs": [
    {
     "data": {
      "text/plain": [
       "array([ 127, -128, -127], dtype=int8)"
      ]
     },
     "execution_count": 21,
     "metadata": {},
     "output_type": "execute_result"
    }
   ],
   "source": [
    "import numpy as np\n",
    "np.array([127, 128, 129], dtype=np.int8) #error np.int8 can only represent integers from -128 to 127.\n",
    "\n",
    "#Values 128 and 129 overflow and wrap around:\n",
    "#128 → -128\n",
    "#129 → -127."
   ]
  },
  {
   "cell_type": "code",
   "execution_count": 22,
   "id": "50c93a70",
   "metadata": {},
   "outputs": [
    {
     "data": {
      "text/plain": [
       "array([127, 128, 129], dtype=int32)"
      ]
     },
     "execution_count": 22,
     "metadata": {},
     "output_type": "execute_result"
    }
   ],
   "source": [
    "#Create int32 NumPy array\n",
    "import numpy as np\n",
    "np.array([127, 128, 129], dtype=np.int32) "
   ]
  },
  {
   "cell_type": "code",
   "execution_count": 23,
   "id": "67b8bbd7",
   "metadata": {},
   "outputs": [
    {
     "data": {
      "text/plain": [
       "array([10. , 10.1, 10.2, 10.3, 10.4, 10.5, 10.6, 10.7, 10.8, 10.9, 11. ,\n",
       "       11.1, 11.2, 11.3, 11.4, 11.5, 11.6, 11.7, 11.8, 11.9, 12. , 12.1,\n",
       "       12.2, 12.3, 12.4, 12.5, 12.6, 12.7, 12.8, 12.9, 13. , 13.1, 13.2,\n",
       "       13.3, 13.4, 13.5, 13.6, 13.7, 13.8, 13.9, 14. , 14.1, 14.2, 14.3,\n",
       "       14.4, 14.5, 14.6, 14.7, 14.8, 14.9])"
      ]
     },
     "execution_count": 23,
     "metadata": {},
     "output_type": "execute_result"
    }
   ],
   "source": [
    "#ARRAY CREATION FUNCTIONS\n",
    "import numpy as np\n",
    "np.arange(10, 15, 0.1) # Values 10 to <15 with step 0.1"
   ]
  },
  {
   "cell_type": "code",
   "execution_count": 24,
   "id": "ecd0661c",
   "metadata": {},
   "outputs": [
    {
     "data": {
      "text/plain": [
       "array([0, 1, 2, 3, 4, 5, 6, 7, 8, 9])"
      ]
     },
     "execution_count": 24,
     "metadata": {},
     "output_type": "execute_result"
    }
   ],
   "source": [
    "import numpy as np\n",
    "np.arange(10) # Numbers 0 to 9"
   ]
  },
  {
   "cell_type": "code",
   "execution_count": 25,
   "id": "cc550ab8",
   "metadata": {},
   "outputs": [
    {
     "data": {
      "text/plain": [
       "array([2., 3., 4., 5., 6., 7., 8., 9.])"
      ]
     },
     "execution_count": 25,
     "metadata": {},
     "output_type": "execute_result"
    }
   ],
   "source": [
    "import numpy as np\n",
    "np.arange(2, 10, dtype=float) # Numbers 2 to 9 as floats"
   ]
  },
  {
   "cell_type": "code",
   "execution_count": 27,
   "id": "46a3a23b",
   "metadata": {},
   "outputs": [
    {
     "data": {
      "text/plain": [
       "array([1. , 1.2, 1.4, 1.6, 1.8, 2. ])"
      ]
     },
     "execution_count": 27,
     "metadata": {},
     "output_type": "execute_result"
    }
   ],
   "source": [
    "#LINSPACE- np.linspace(start, stop, num)\n",
    "np.linspace(1., 2., 6)  # 6 evenly spaced numbers from 1 to 2\n"
   ]
  },
  {
   "cell_type": "code",
   "execution_count": 28,
   "id": "4683c581",
   "metadata": {},
   "outputs": [
    {
     "data": {
      "text/plain": [
       "array([[1., 0., 0.],\n",
       "       [0., 1., 0.],\n",
       "       [0., 0., 1.]])"
      ]
     },
     "execution_count": 28,
     "metadata": {},
     "output_type": "execute_result"
    }
   ],
   "source": [
    "# 3x3 identity matrix\n",
    "import numpy as np\n",
    "np.eye(3)"
   ]
  },
  {
   "cell_type": "code",
   "execution_count": 29,
   "id": "d237b782",
   "metadata": {},
   "outputs": [
    {
     "data": {
      "text/plain": [
       "array([[1., 0., 0., 0., 0.],\n",
       "       [0., 1., 0., 0., 0.],\n",
       "       [0., 0., 1., 0., 0.]])"
      ]
     },
     "execution_count": 29,
     "metadata": {},
     "output_type": "execute_result"
    }
   ],
   "source": [
    "import numpy as np\n",
    "np.eye(3, 5)  # 3x5 matrix with 1s on main diagonal"
   ]
  },
  {
   "cell_type": "code",
   "execution_count": 30,
   "id": "bb3ed6fc",
   "metadata": {},
   "outputs": [
    {
     "data": {
      "text/plain": [
       "array([[0., 0., 1., 0., 0.],\n",
       "       [0., 0., 0., 1., 0.],\n",
       "       [0., 0., 0., 0., 1.]])"
      ]
     },
     "execution_count": 30,
     "metadata": {},
     "output_type": "execute_result"
    }
   ],
   "source": [
    "np.eye(3, 5, k=2)  # 3x5 matrix, 1s on diagonal shifted 2 columns right"
   ]
  },
  {
   "cell_type": "code",
   "execution_count": 31,
   "id": "98151b7e",
   "metadata": {},
   "outputs": [
    {
     "data": {
      "text/plain": [
       "array([[0., 0., 0., 0., 0.],\n",
       "       [0., 0., 0., 0., 0.],\n",
       "       [1., 0., 0., 0., 0.]])"
      ]
     },
     "execution_count": 31,
     "metadata": {},
     "output_type": "execute_result"
    }
   ],
   "source": [
    "np.eye(3, 5, k=-2)  # 3x5 matrix, 1s on diagonal shifted 2 rows down"
   ]
  },
  {
   "cell_type": "code",
   "execution_count": 32,
   "id": "9509ae4a",
   "metadata": {},
   "outputs": [
    {
     "data": {
      "text/plain": [
       "array([[1, 0, 0],\n",
       "       [0, 2, 0],\n",
       "       [0, 0, 3]])"
      ]
     },
     "execution_count": 32,
     "metadata": {},
     "output_type": "execute_result"
    }
   ],
   "source": [
    "import numpy as np\n",
    "np.diag([1, 2, 3])       # 3x3 matrix with 1,2,3 on main diagonal"
   ]
  },
  {
   "cell_type": "code",
   "execution_count": 33,
   "id": "27d0a517",
   "metadata": {},
   "outputs": [
    {
     "data": {
      "text/plain": [
       "array([[0, 1, 0, 0],\n",
       "       [0, 0, 2, 0],\n",
       "       [0, 0, 0, 3],\n",
       "       [0, 0, 0, 0]])"
      ]
     },
     "execution_count": 33,
     "metadata": {},
     "output_type": "execute_result"
    }
   ],
   "source": [
    "import numpy as np\n",
    "np.diag([1, 2, 3], 1)      # 4x4 matrix with 1,2,3 on diagonal above main (k=1)"
   ]
  },
  {
   "cell_type": "code",
   "execution_count": 34,
   "id": "7e1b2f6d",
   "metadata": {},
   "outputs": [
    {
     "data": {
      "text/plain": [
       "array([1, 4])"
      ]
     },
     "execution_count": 34,
     "metadata": {},
     "output_type": "execute_result"
    }
   ],
   "source": [
    "a = np.array([[1, 2], [3, 4]])\n",
    "np.diag(a)               # Extract main diagonal [1, 4] from 2x2 matrix a"
   ]
  },
  {
   "cell_type": "code",
   "execution_count": 35,
   "id": "ee12016e",
   "metadata": {},
   "outputs": [
    {
     "data": {
      "text/plain": [
       "array([[0. , 1. ],\n",
       "       [0.5, 1. ],\n",
       "       [1. , 1. ],\n",
       "       [1.5, 1. ],\n",
       "       [2. , 1. ]])"
      ]
     },
     "execution_count": 35,
     "metadata": {},
     "output_type": "execute_result"
    }
   ],
   "source": [
    "#VANDERMONDE MATRIX\n",
    "import numpy as np\n",
    "np.vander(np.linspace(0, 2, 5), 2)  # Create Vandermonde matrix of degree 2"
   ]
  },
  {
   "cell_type": "code",
   "execution_count": 36,
   "id": "c85403e1",
   "metadata": {},
   "outputs": [
    {
     "data": {
      "text/plain": [
       "array([[1, 1],\n",
       "       [2, 1],\n",
       "       [3, 1],\n",
       "       [4, 1]])"
      ]
     },
     "execution_count": 36,
     "metadata": {},
     "output_type": "execute_result"
    }
   ],
   "source": [
    "np.vander([1, 2, 3, 4], 2)  # 4x2 Vandermonde matrix with columns [x^1, x^0]"
   ]
  },
  {
   "cell_type": "code",
   "execution_count": 37,
   "id": "5752249f",
   "metadata": {},
   "outputs": [
    {
     "data": {
      "text/plain": [
       "array([[ 1,  1,  1,  1],\n",
       "       [ 8,  4,  2,  1],\n",
       "       [27,  9,  3,  1],\n",
       "       [64, 16,  4,  1]])"
      ]
     },
     "execution_count": 37,
     "metadata": {},
     "output_type": "execute_result"
    }
   ],
   "source": [
    "np.vander((1, 2, 3, 4), 4)  # 4x4 Vandermonde matrix with powers 3 to 0"
   ]
  },
  {
   "cell_type": "code",
   "execution_count": 40,
   "id": "aa92dba2",
   "metadata": {},
   "outputs": [
    {
     "name": "stdout",
     "output_type": "stream",
     "text": [
      "[[1 1 1]\n",
      " [4 2 1]\n",
      " [9 3 1]]\n"
     ]
    }
   ],
   "source": [
    "import numpy as np\n",
    "\n",
    "x = [1, 2, 3]\n",
    "N = 3\n",
    "\n",
    "# Create Vandermonde matrix\n",
    "# Each row is an element of x raised to decreasing powers from N-1 to 0\n",
    "v = np.vander(x, N)\n",
    "\n",
    "print(v)"
   ]
  },
  {
   "cell_type": "code",
   "execution_count": 41,
   "id": "52601cfd",
   "metadata": {},
   "outputs": [
    {
     "data": {
      "text/plain": [
       "array([[ 1,  1,  1,  1],\n",
       "       [ 8,  4,  2,  1],\n",
       "       [27,  9,  3,  1],\n",
       "       [64, 16,  4,  1]])"
      ]
     },
     "execution_count": 41,
     "metadata": {},
     "output_type": "execute_result"
    }
   ],
   "source": [
    "np.vander(np.linspace(0, 2, 5), 2)\n",
    "np.vander([1, 2, 3, 4], 2)  # N = 2 → 2 columns: x**1, x**0\n",
    "np.vander([1, 2, 3, 4], 4)  # If N = 4 → 4 columns: x**3, x**2, x**1, x**0\n"
   ]
  },
  {
   "cell_type": "code",
   "execution_count": null,
   "id": "e106fba0",
   "metadata": {},
   "outputs": [],
   "source": []
  }
 ],
 "metadata": {
  "kernelspec": {
   "display_name": "Python 3",
   "language": "python",
   "name": "python3"
  },
  "language_info": {
   "codemirror_mode": {
    "name": "ipython",
    "version": 3
   },
   "file_extension": ".py",
   "mimetype": "text/x-python",
   "name": "python",
   "nbconvert_exporter": "python",
   "pygments_lexer": "ipython3",
   "version": "3.8.8"
  }
 },
 "nbformat": 4,
 "nbformat_minor": 5
}
