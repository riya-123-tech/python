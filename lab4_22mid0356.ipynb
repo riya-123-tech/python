{
 "cells": [
  {
   "cell_type": "code",
   "execution_count": 1,
   "id": "5795930d",
   "metadata": {},
   "outputs": [
    {
     "name": "stdout",
     "output_type": "stream",
     "text": [
      "Element at index 0 is 101\n",
      "Element at index 1 is 202\n",
      "Element at index 2 is 303\n",
      "Element at index 3 is 404\n",
      "Element at index 4 is 505\n"
     ]
    }
   ],
   "source": [
    "# a list of 5 elements\n",
    "numbers = [101, 202, 303, 404, 505]\n",
    "\n",
    "# print all elements using a loop\n",
    "for i in range(0, len(numbers)):\n",
    "    print(f\"Element at index {i} is {numbers[i]}\")"
   ]
  },
  {
   "cell_type": "code",
   "execution_count": 2,
   "id": "3e15aa0e",
   "metadata": {},
   "outputs": [
    {
     "name": "stdout",
     "output_type": "stream",
     "text": [
      "First 2: ['riya', 'ishaan']\n",
      "Last 2: ['harshini', 'sarayu']\n",
      "3rd to last: ['dev', 'harshini', 'sarayu']\n"
     ]
    }
   ],
   "source": [
    "# A list\n",
    "fruits = [\"riya\", \"ishaan\", \"dev\", \"harshini\", \"sarayu\"]\n",
    "\n",
    "# First 2 elements (index 0 and 1)\n",
    "print(\"First 2:\", fruits[:2])\n",
    "\n",
    "# Last 2 elements\n",
    "print(\"Last 2:\", fruits[-2:])\n",
    "\n",
    "# From 3rd element to the last (index 2 to end)\n",
    "print(\"3rd to last:\", fruits[2:])"
   ]
  },
  {
   "cell_type": "code",
   "execution_count": 3,
   "id": "5ba1f7f4",
   "metadata": {},
   "outputs": [
    {
     "name": "stdout",
     "output_type": "stream",
     "text": [
      "Color is: red\n",
      "Color is: green\n",
      "Color is: blue\n"
     ]
    }
   ],
   "source": [
    "# list\n",
    "colors = [\"red\", \"green\", \"blue\"]\n",
    "\n",
    "# Loop through each color\n",
    "for color in colors:\n",
    "    print(\"Color is:\", color)"
   ]
  },
  {
   "cell_type": "code",
   "execution_count": 4,
   "id": "f394a7ea",
   "metadata": {},
   "outputs": [
    {
     "name": "stdout",
     "output_type": "stream",
     "text": [
      "Sliced Color: green\n",
      "Sliced Color: blue\n",
      "Sliced Color: yellow\n"
     ]
    }
   ],
   "source": [
    "# reuse the colors list\n",
    "colors = [\"red\", \"green\", \"blue\", \"yellow\", \"purple\"]\n",
    "\n",
    "#loop through the middle 3 colors (index 1 to 3)\n",
    "for color in colors[1:4]:  # includes index 1, 2, 3\n",
    "    print(\"Sliced Color:\", color)"
   ]
  },
  {
   "cell_type": "code",
   "execution_count": 5,
   "id": "77c5d60e",
   "metadata": {},
   "outputs": [
    {
     "name": "stdout",
     "output_type": "stream",
     "text": [
      "Name: Alice\n",
      "Age: 25\n",
      "Job: Engineer\n"
     ]
    }
   ],
   "source": [
    "# Example of a tuple\n",
    "person = (\"Alice\", 25, \"Engineer\")\n",
    "\n",
    "# Accessing elements is just like a list\n",
    "print(\"Name:\", person[0])\n",
    "print(\"Age:\", person[1])\n",
    "print(\"Job:\", person[2])"
   ]
  },
  {
   "cell_type": "code",
   "execution_count": null,
   "id": "eecdcd12",
   "metadata": {},
   "outputs": [],
   "source": []
  }
 ],
 "metadata": {
  "kernelspec": {
   "display_name": "Python 3",
   "language": "python",
   "name": "python3"
  },
  "language_info": {
   "codemirror_mode": {
    "name": "ipython",
    "version": 3
   },
   "file_extension": ".py",
   "mimetype": "text/x-python",
   "name": "python",
   "nbconvert_exporter": "python",
   "pygments_lexer": "ipython3",
   "version": "3.8.8"
  }
 },
 "nbformat": 4,
 "nbformat_minor": 5
}
