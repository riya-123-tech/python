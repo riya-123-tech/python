{
 "cells": [
  {
   "cell_type": "code",
   "execution_count": 3,
   "id": "d55cada4",
   "metadata": {
    "scrolled": true
   },
   "outputs": [
    {
     "name": "stdout",
     "output_type": "stream",
     "text": [
      "['title', 'genre', 'year', 'duration', 'rating', 'director']\n",
      "['Inception', 'Sci-Fi', '2010', '148', '8.8', 'Christopher Nolan']\n",
      "['The Dark Knight', 'Action', '2008', '152', '9.0', 'Christopher Nolan']\n",
      "['Interstellar', 'Sci-Fi', '2014', '169', '8.6', 'Christopher Nolan']\n",
      "['Titanic', 'Romance', '1997', '195', '7.9', 'James Cameron']\n",
      "['Avatar', 'Sci-Fi', '2009', '162', '7.8', 'James Cameron']\n"
     ]
    }
   ],
   "source": [
    "#importing csv data without pandas\n",
    "import csv\n",
    "\n",
    "file_path = \"/Users/riyaparikh/Downloads/moviepython.csv\"\n",
    "\n",
    "with open(file_path, newline='') as csvfile:  # Open and read CSV file\n",
    "    reader = csv.reader(csvfile)\n",
    "    data = list(reader)  # Convert to a list (each row is a list)\n",
    "\n",
    "for row in data[:6]:   # header + 5 rows\n",
    "    print(row)\n"
   ]
  },
  {
   "cell_type": "code",
   "execution_count": 4,
   "id": "22663c1e",
   "metadata": {},
   "outputs": [
    {
     "name": "stdout",
     "output_type": "stream",
     "text": [
      "Shape: (21, 6)\n",
      "             title    genre  year  duration  rating           director\n",
      "0        Inception   Sci-Fi  2010       148     8.8  Christopher Nolan\n",
      "1  The Dark Knight   Action  2008       152     9.0  Christopher Nolan\n",
      "2     Interstellar   Sci-Fi  2014       169     8.6  Christopher Nolan\n",
      "3          Titanic  Romance  1997       195     7.9      James Cameron\n",
      "4           Avatar   Sci-Fi  2009       162     7.8      James Cameron\n"
     ]
    }
   ],
   "source": [
    "#importing csv data using pandas\n",
    "import pandas as pd\n",
    "file_path = \"/Users/riyaparikh/Downloads/moviepython.csv\"\n",
    "df = pd.read_csv(file_path) # Read CSV into DataFrame\n",
    "\n",
    "print(\"Shape:\", df.shape)   # rows × columns\n",
    "print(df.head())            # first 5 rows\n"
   ]
  },
  {
   "cell_type": "code",
   "execution_count": 5,
   "id": "007630d1",
   "metadata": {},
   "outputs": [
    {
     "name": "stdout",
     "output_type": "stream",
     "text": [
      "\n",
      "Movie Titles:\n",
      " 0          Inception\n",
      "1    The Dark Knight\n",
      "2       Interstellar\n",
      "3            Titanic\n",
      "4             Avatar\n",
      "Name: title, dtype: object\n",
      "\n",
      "First 3 rows:\n",
      "              title   genre  year  duration  rating           director\n",
      "0        Inception  Sci-Fi  2010       148     8.8  Christopher Nolan\n",
      "1  The Dark Knight  Action  2008       152     9.0  Christopher Nolan\n",
      "2     Interstellar  Sci-Fi  2014       169     8.6  Christopher Nolan\n"
     ]
    }
   ],
   "source": [
    "# Access specific columns\n",
    "print(\"\\nMovie Titles:\\n\", df[\"title\"].head())\n",
    "\n",
    "# Access rows using iloc\n",
    "print(\"\\nFirst 3 rows:\\n\", df.iloc[:3])\n"
   ]
  },
  {
   "cell_type": "code",
   "execution_count": 6,
   "id": "616672e8",
   "metadata": {},
   "outputs": [],
   "source": [
    "# Create a new row\n",
    "new_row = pd.DataFrame({\n",
    "    \"title\": [\"New Movie\"],\n",
    "    \"genre\": [\"Drama\"],\n",
    "    \"year\": [2024],\n",
    "    \"duration\": [130],\n",
    "    \"rating\": [8.2],\n",
    "    \"votes\": [12000]\n",
    "})\n",
    "\n",
    "# Append without header (to avoid duplication)\n",
    "new_row.to_csv(file_path, mode='a', header=False, index=False)\n"
   ]
  },
  {
   "cell_type": "code",
   "execution_count": 7,
   "id": "c0cde870",
   "metadata": {},
   "outputs": [
    {
     "name": "stdout",
     "output_type": "stream",
     "text": [
      "            title      genre  year  duration  rating                director\n",
      "16  Black Panther     Action  2018       134     7.3            Ryan Coogler\n",
      "17   Finding Nemo  Animation  2003       100     8.1          Andrew Stanton\n",
      "18          Shrek  Animation  2001        90     7.9          Andrew Adamson\n",
      "19      Toy Story  Animation  1995        81     8.3  John LasseterNew Movie\n",
      "20      New Movie      Drama  2024       130     8.2                   12000\n"
     ]
    }
   ],
   "source": [
    "print(df.tail()) #this doesnt show the appended row as we need to load csv again to see changes\n"
   ]
  },
  {
   "cell_type": "code",
   "execution_count": 9,
   "id": "bf9c43ba",
   "metadata": {},
   "outputs": [
    {
     "ename": "ParserError",
     "evalue": "Error tokenizing data. C error: Expected 6 fields in line 22, saw 11\n",
     "output_type": "error",
     "traceback": [
      "\u001b[0;31m---------------------------------------------------------------------------\u001b[0m",
      "\u001b[0;31mParserError\u001b[0m                               Traceback (most recent call last)",
      "\u001b[0;32m<ipython-input-9-e353b04d62ae>\u001b[0m in \u001b[0;36m<module>\u001b[0;34m\u001b[0m\n\u001b[1;32m     17\u001b[0m \u001b[0;34m\u001b[0m\u001b[0m\n\u001b[1;32m     18\u001b[0m \u001b[0;31m#  Reload CSV to check if appended\u001b[0m\u001b[0;34m\u001b[0m\u001b[0;34m\u001b[0m\u001b[0;34m\u001b[0m\u001b[0m\n\u001b[0;32m---> 19\u001b[0;31m \u001b[0mdf_updated\u001b[0m \u001b[0;34m=\u001b[0m \u001b[0mpd\u001b[0m\u001b[0;34m.\u001b[0m\u001b[0mread_csv\u001b[0m\u001b[0;34m(\u001b[0m\u001b[0mfile_path\u001b[0m\u001b[0;34m)\u001b[0m\u001b[0;34m\u001b[0m\u001b[0;34m\u001b[0m\u001b[0m\n\u001b[0m\u001b[1;32m     20\u001b[0m \u001b[0;34m\u001b[0m\u001b[0m\n\u001b[1;32m     21\u001b[0m \u001b[0mprint\u001b[0m\u001b[0;34m(\u001b[0m\u001b[0;34m\"Last 5 rows after append:\"\u001b[0m\u001b[0;34m)\u001b[0m\u001b[0;34m\u001b[0m\u001b[0;34m\u001b[0m\u001b[0m\n",
      "\u001b[0;32m/opt/anaconda3/lib/python3.8/site-packages/pandas/io/parsers.py\u001b[0m in \u001b[0;36mread_csv\u001b[0;34m(filepath_or_buffer, sep, delimiter, header, names, index_col, usecols, squeeze, prefix, mangle_dupe_cols, dtype, engine, converters, true_values, false_values, skipinitialspace, skiprows, skipfooter, nrows, na_values, keep_default_na, na_filter, verbose, skip_blank_lines, parse_dates, infer_datetime_format, keep_date_col, date_parser, dayfirst, cache_dates, iterator, chunksize, compression, thousands, decimal, lineterminator, quotechar, quoting, doublequote, escapechar, comment, encoding, dialect, error_bad_lines, warn_bad_lines, delim_whitespace, low_memory, memory_map, float_precision, storage_options)\u001b[0m\n\u001b[1;32m    608\u001b[0m     \u001b[0mkwds\u001b[0m\u001b[0;34m.\u001b[0m\u001b[0mupdate\u001b[0m\u001b[0;34m(\u001b[0m\u001b[0mkwds_defaults\u001b[0m\u001b[0;34m)\u001b[0m\u001b[0;34m\u001b[0m\u001b[0;34m\u001b[0m\u001b[0m\n\u001b[1;32m    609\u001b[0m \u001b[0;34m\u001b[0m\u001b[0m\n\u001b[0;32m--> 610\u001b[0;31m     \u001b[0;32mreturn\u001b[0m \u001b[0m_read\u001b[0m\u001b[0;34m(\u001b[0m\u001b[0mfilepath_or_buffer\u001b[0m\u001b[0;34m,\u001b[0m \u001b[0mkwds\u001b[0m\u001b[0;34m)\u001b[0m\u001b[0;34m\u001b[0m\u001b[0;34m\u001b[0m\u001b[0m\n\u001b[0m\u001b[1;32m    611\u001b[0m \u001b[0;34m\u001b[0m\u001b[0m\n\u001b[1;32m    612\u001b[0m \u001b[0;34m\u001b[0m\u001b[0m\n",
      "\u001b[0;32m/opt/anaconda3/lib/python3.8/site-packages/pandas/io/parsers.py\u001b[0m in \u001b[0;36m_read\u001b[0;34m(filepath_or_buffer, kwds)\u001b[0m\n\u001b[1;32m    466\u001b[0m \u001b[0;34m\u001b[0m\u001b[0m\n\u001b[1;32m    467\u001b[0m     \u001b[0;32mwith\u001b[0m \u001b[0mparser\u001b[0m\u001b[0;34m:\u001b[0m\u001b[0;34m\u001b[0m\u001b[0;34m\u001b[0m\u001b[0m\n\u001b[0;32m--> 468\u001b[0;31m         \u001b[0;32mreturn\u001b[0m \u001b[0mparser\u001b[0m\u001b[0;34m.\u001b[0m\u001b[0mread\u001b[0m\u001b[0;34m(\u001b[0m\u001b[0mnrows\u001b[0m\u001b[0;34m)\u001b[0m\u001b[0;34m\u001b[0m\u001b[0;34m\u001b[0m\u001b[0m\n\u001b[0m\u001b[1;32m    469\u001b[0m \u001b[0;34m\u001b[0m\u001b[0m\n\u001b[1;32m    470\u001b[0m \u001b[0;34m\u001b[0m\u001b[0m\n",
      "\u001b[0;32m/opt/anaconda3/lib/python3.8/site-packages/pandas/io/parsers.py\u001b[0m in \u001b[0;36mread\u001b[0;34m(self, nrows)\u001b[0m\n\u001b[1;32m   1055\u001b[0m     \u001b[0;32mdef\u001b[0m \u001b[0mread\u001b[0m\u001b[0;34m(\u001b[0m\u001b[0mself\u001b[0m\u001b[0;34m,\u001b[0m \u001b[0mnrows\u001b[0m\u001b[0;34m=\u001b[0m\u001b[0;32mNone\u001b[0m\u001b[0;34m)\u001b[0m\u001b[0;34m:\u001b[0m\u001b[0;34m\u001b[0m\u001b[0;34m\u001b[0m\u001b[0m\n\u001b[1;32m   1056\u001b[0m         \u001b[0mnrows\u001b[0m \u001b[0;34m=\u001b[0m \u001b[0mvalidate_integer\u001b[0m\u001b[0;34m(\u001b[0m\u001b[0;34m\"nrows\"\u001b[0m\u001b[0;34m,\u001b[0m \u001b[0mnrows\u001b[0m\u001b[0;34m)\u001b[0m\u001b[0;34m\u001b[0m\u001b[0;34m\u001b[0m\u001b[0m\n\u001b[0;32m-> 1057\u001b[0;31m         \u001b[0mindex\u001b[0m\u001b[0;34m,\u001b[0m \u001b[0mcolumns\u001b[0m\u001b[0;34m,\u001b[0m \u001b[0mcol_dict\u001b[0m \u001b[0;34m=\u001b[0m \u001b[0mself\u001b[0m\u001b[0;34m.\u001b[0m\u001b[0m_engine\u001b[0m\u001b[0;34m.\u001b[0m\u001b[0mread\u001b[0m\u001b[0;34m(\u001b[0m\u001b[0mnrows\u001b[0m\u001b[0;34m)\u001b[0m\u001b[0;34m\u001b[0m\u001b[0;34m\u001b[0m\u001b[0m\n\u001b[0m\u001b[1;32m   1058\u001b[0m \u001b[0;34m\u001b[0m\u001b[0m\n\u001b[1;32m   1059\u001b[0m         \u001b[0;32mif\u001b[0m \u001b[0mindex\u001b[0m \u001b[0;32mis\u001b[0m \u001b[0;32mNone\u001b[0m\u001b[0;34m:\u001b[0m\u001b[0;34m\u001b[0m\u001b[0;34m\u001b[0m\u001b[0m\n",
      "\u001b[0;32m/opt/anaconda3/lib/python3.8/site-packages/pandas/io/parsers.py\u001b[0m in \u001b[0;36mread\u001b[0;34m(self, nrows)\u001b[0m\n\u001b[1;32m   2059\u001b[0m     \u001b[0;32mdef\u001b[0m \u001b[0mread\u001b[0m\u001b[0;34m(\u001b[0m\u001b[0mself\u001b[0m\u001b[0;34m,\u001b[0m \u001b[0mnrows\u001b[0m\u001b[0;34m=\u001b[0m\u001b[0;32mNone\u001b[0m\u001b[0;34m)\u001b[0m\u001b[0;34m:\u001b[0m\u001b[0;34m\u001b[0m\u001b[0;34m\u001b[0m\u001b[0m\n\u001b[1;32m   2060\u001b[0m         \u001b[0;32mtry\u001b[0m\u001b[0;34m:\u001b[0m\u001b[0;34m\u001b[0m\u001b[0;34m\u001b[0m\u001b[0m\n\u001b[0;32m-> 2061\u001b[0;31m             \u001b[0mdata\u001b[0m \u001b[0;34m=\u001b[0m \u001b[0mself\u001b[0m\u001b[0;34m.\u001b[0m\u001b[0m_reader\u001b[0m\u001b[0;34m.\u001b[0m\u001b[0mread\u001b[0m\u001b[0;34m(\u001b[0m\u001b[0mnrows\u001b[0m\u001b[0;34m)\u001b[0m\u001b[0;34m\u001b[0m\u001b[0;34m\u001b[0m\u001b[0m\n\u001b[0m\u001b[1;32m   2062\u001b[0m         \u001b[0;32mexcept\u001b[0m \u001b[0mStopIteration\u001b[0m\u001b[0;34m:\u001b[0m\u001b[0;34m\u001b[0m\u001b[0;34m\u001b[0m\u001b[0m\n\u001b[1;32m   2063\u001b[0m             \u001b[0;32mif\u001b[0m \u001b[0mself\u001b[0m\u001b[0;34m.\u001b[0m\u001b[0m_first_chunk\u001b[0m\u001b[0;34m:\u001b[0m\u001b[0;34m\u001b[0m\u001b[0;34m\u001b[0m\u001b[0m\n",
      "\u001b[0;32mpandas/_libs/parsers.pyx\u001b[0m in \u001b[0;36mpandas._libs.parsers.TextReader.read\u001b[0;34m()\u001b[0m\n",
      "\u001b[0;32mpandas/_libs/parsers.pyx\u001b[0m in \u001b[0;36mpandas._libs.parsers.TextReader._read_low_memory\u001b[0;34m()\u001b[0m\n",
      "\u001b[0;32mpandas/_libs/parsers.pyx\u001b[0m in \u001b[0;36mpandas._libs.parsers.TextReader._read_rows\u001b[0;34m()\u001b[0m\n",
      "\u001b[0;32mpandas/_libs/parsers.pyx\u001b[0m in \u001b[0;36mpandas._libs.parsers.TextReader._tokenize_rows\u001b[0;34m()\u001b[0m\n",
      "\u001b[0;32mpandas/_libs/parsers.pyx\u001b[0m in \u001b[0;36mpandas._libs.parsers.raise_parser_error\u001b[0;34m()\u001b[0m\n",
      "\u001b[0;31mParserError\u001b[0m: Error tokenizing data. C error: Expected 6 fields in line 22, saw 11\n"
     ]
    }
   ],
   "source": [
    "import pandas as pd\n",
    "\n",
    "file_path = \"/Users/riyaparikh/Downloads/moviepython.csv\"\n",
    "\n",
    "# Create a new row\n",
    "new_row = pd.DataFrame({\n",
    "    \"title\": [\"New Movie\"],\n",
    "    \"genre\": [\"Drama\"],\n",
    "    \"year\": [2024],\n",
    "    \"duration\": [130],\n",
    "    \"rating\": [8.2],\n",
    "    \"votes\": [12000]\n",
    "})\n",
    "\n",
    "# Append row\n",
    "new_row.to_csv(file_path, mode='a', header=False, index=False)\n",
    "\n",
    "#  Reload CSV to check if appended\n",
    "df_updated = pd.read_csv(file_path)\n",
    "\n",
    "print(\"Last 5 rows after append:\")\n",
    "print(df_updated.tail())\n",
    "#That error means your CSV got corrupted — one of the rows doesn’t have exactly 6 values (your file expects 6 columns"
   ]
  },
  {
   "cell_type": "code",
   "execution_count": 10,
   "id": "9c40718d",
   "metadata": {},
   "outputs": [
    {
     "name": "stdout",
     "output_type": "stream",
     "text": [
      " Problem at line 22: New Movie,Drama,2024,130,8.2,12000New Movie,Drama,2024,130,8.2,12000\n",
      "\n"
     ]
    }
   ],
   "source": [
    "with open(\"/Users/riyaparikh/Downloads/moviepython.csv\") as f:\n",
    "    for i, line in enumerate(f, start=1):\n",
    "        if line.count(\",\") != 5:   # 6 columns → 5 commas\n",
    "            print(f\" Problem at line {i}: {line}\")\n",
    "#checking the issue"
   ]
  },
  {
   "cell_type": "code",
   "execution_count": 11,
   "id": "80ff0e9a",
   "metadata": {},
   "outputs": [
    {
     "name": "stdout",
     "output_type": "stream",
     "text": [
      " CSV loaded, shape: (22, 6)\n",
      "           title      genre  year  duration  rating                director\n",
      "17  Finding Nemo  Animation  2003       100     8.1          Andrew Stanton\n",
      "18         Shrek  Animation  2001        90     7.9          Andrew Adamson\n",
      "19     Toy Story  Animation  1995        81     8.3  John LasseterNew Movie\n",
      "20     New Movie      Drama  2024       130     8.2                   12000\n",
      "21     New Movie      Drama  2024       130     8.2                   12000\n"
     ]
    },
    {
     "name": "stderr",
     "output_type": "stream",
     "text": [
      "b'Skipping line 22: expected 6 fields, saw 11\\n'\n"
     ]
    }
   ],
   "source": [
    "import pandas as pd\n",
    "\n",
    "file_path = \"/Users/riyaparikh/Downloads/moviepython.csv\"\n",
    "\n",
    "df = pd.read_csv(file_path, error_bad_lines=False, warn_bad_lines=True)\n",
    "\n",
    "print(\" CSV loaded, shape:\", df.shape)\n",
    "print(df.tail())\n",
    "#printing the last five rows to check if new movie was appended or not"
   ]
  },
  {
   "cell_type": "code",
   "execution_count": null,
   "id": "4e1950b9",
   "metadata": {},
   "outputs": [],
   "source": []
  }
 ],
 "metadata": {
  "kernelspec": {
   "display_name": "Python 3",
   "language": "python",
   "name": "python3"
  },
  "language_info": {
   "codemirror_mode": {
    "name": "ipython",
    "version": 3
   },
   "file_extension": ".py",
   "mimetype": "text/x-python",
   "name": "python",
   "nbconvert_exporter": "python",
   "pygments_lexer": "ipython3",
   "version": "3.8.8"
  }
 },
 "nbformat": 4,
 "nbformat_minor": 5
}
