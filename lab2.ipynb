{
 "cells": [
  {
   "cell_type": "code",
   "execution_count": 1,
   "id": "08f6a4c7",
   "metadata": {},
   "outputs": [
    {
     "name": "stdout",
     "output_type": "stream",
     "text": [
      "10\n"
     ]
    }
   ],
   "source": [
    "s=\"hello riya\"\n",
    "print(len(s))"
   ]
  },
  {
   "cell_type": "code",
   "execution_count": 2,
   "id": "409d3768",
   "metadata": {},
   "outputs": [
    {
     "name": "stdout",
     "output_type": "stream",
     "text": [
      "hello riya\n"
     ]
    }
   ],
   "source": [
    "a=\"hello\"\n",
    "b=\"riya\"\n",
    "r=a+\" \"+b\n",
    "print(r)"
   ]
  },
  {
   "cell_type": "code",
   "execution_count": 3,
   "id": "b30c4b16",
   "metadata": {},
   "outputs": [
    {
     "name": "stdout",
     "output_type": "stream",
     "text": [
      "Requirement already satisfied: jieba in /opt/anaconda3/lib/python3.8/site-packages (0.42.1)\n",
      "Note: you may need to restart the kernel to use updated packages.\n"
     ]
    }
   ],
   "source": [
    "pip install jieba"
   ]
  },
  {
   "cell_type": "code",
   "execution_count": 4,
   "id": "06170f65",
   "metadata": {},
   "outputs": [],
   "source": [
    "import jieba"
   ]
  },
  {
   "cell_type": "code",
   "execution_count": 7,
   "id": "c799d2b2",
   "metadata": {},
   "outputs": [],
   "source": [
    "from urllib import request"
   ]
  },
  {
   "cell_type": "raw",
   "id": "c4b221bc",
   "metadata": {},
   "source": []
  },
  {
   "cell_type": "code",
   "execution_count": 8,
   "id": "ae4b3c4b",
   "metadata": {},
   "outputs": [
    {
     "name": "stderr",
     "output_type": "stream",
     "text": [
      "[nltk_data] Downloading package punkt to\n",
      "[nltk_data]     /Users/riyaparikh/nltk_data...\n",
      "[nltk_data]   Package punkt is already up-to-date!\n"
     ]
    },
    {
     "data": {
      "text/plain": [
       "True"
      ]
     },
     "execution_count": 8,
     "metadata": {},
     "output_type": "execute_result"
    }
   ],
   "source": [
    "import nltk\n",
    "nltk.download('punkt')"
   ]
  },
  {
   "cell_type": "code",
   "execution_count": 20,
   "id": "2f71c9f4",
   "metadata": {},
   "outputs": [],
   "source": [
    "url=\"https://sherlock-holm.es/stories/plain-text/empt.txt\""
   ]
  },
  {
   "cell_type": "code",
   "execution_count": 10,
   "id": "092ca987",
   "metadata": {},
   "outputs": [],
   "source": [
    "response=request.urlopen(url)"
   ]
  },
  {
   "cell_type": "code",
   "execution_count": 13,
   "id": "5b8a000c",
   "metadata": {},
   "outputs": [],
   "source": [
    "con=response.read().decode('UTF8')"
   ]
  },
  {
   "cell_type": "code",
   "execution_count": 12,
   "id": "be562a11",
   "metadata": {},
   "outputs": [
    {
     "data": {
      "text/plain": [
       "'\\n\\nThis error means the HTTP response didn’t fully download — Python received fewer bytes than it expected.\\nIt’s often caused by network interruptions or the server closing the connection early.\\nYou can fix it by retrying the request or using libraries/options that handle partial reads automatically \\n(like requests).'"
      ]
     },
     "execution_count": 12,
     "metadata": {},
     "output_type": "execute_result"
    }
   ],
   "source": [
    "\"\"\"\n",
    "ERROR RECIEVED-INCOMPLETE READ\n",
    "This error means the HTTP response didn’t fully download — Python received fewer bytes than it expected.\n",
    "It’s often caused by network interruptions or the server closing the connection early.\n",
    "You can fix it by retrying the request or using libraries/options that handle partial reads automatically \n",
    "(like requests).\"\"\""
   ]
  },
  {
   "cell_type": "code",
   "execution_count": 14,
   "id": "acea21da",
   "metadata": {},
   "outputs": [],
   "source": [
    "from nltk.tokenize import word_tokenize"
   ]
  },
  {
   "cell_type": "code",
   "execution_count": 26,
   "id": "6714c13a",
   "metadata": {},
   "outputs": [
    {
     "name": "stdout",
     "output_type": "stream",
     "text": [
      "['THE', 'ADVENTURE', 'OF', 'THE', 'EMPTY', 'HOUSE', 'Arthur', 'Conan', 'Doyle', 'It', 'was', 'in', 'the', 'spring', 'of', 'the', 'year', '1894', 'that', 'all', 'London', 'was', 'interested', ',', 'and', 'the', 'fashionable', 'world', 'dismayed', ',', 'by', 'the', 'murder', 'of', 'the', 'Honourable', 'Ronald', 'Adair', 'under', 'most', 'unusual', 'and', 'inexplicable', 'circumstances', '.', 'The', 'public', 'has', 'already', 'learned', 'those', 'particulars', 'of', 'the', 'crime', 'which', 'came', 'out', 'in', 'the', 'police', 'investigation', ';', 'but', 'a', 'good', 'deal', 'was', 'suppressed', 'upon', 'that', 'occasion', ',', 'since', 'the', 'case', 'for', 'the', 'prosecution', 'was', 'so', 'overwhelmingly', 'strong', 'that', 'it', 'was', 'not', 'necessary', 'to', 'bring', 'forward', 'all', 'the', 'facts', '.', 'Only', 'now', ',', 'at', 'the', 'end', 'of', 'nearly', 'ten', 'years', ',', 'am', 'I', 'allowed', 'to', 'supply', 'those', 'missing', 'links', 'which', 'make', 'up', 'the', 'whole', 'of', 'that', 'remarkable', 'chain', '.', 'The', 'crime', 'was', 'of', 'interest', 'in', 'itself', ',', 'but', 'that', 'interest', 'was', 'as', 'nothing', 'to', 'me', 'compared', 'to', 'the', 'inconceivable', 'sequel', ',', 'which', 'afforded', 'me', 'the']\n"
     ]
    }
   ],
   "source": [
    "from urllib import request\n",
    "from nltk.tokenize import word_tokenize\n",
    "\n",
    "url = \"https://sherlock-holm.es/stories/plain-text/empt.txt\"\n",
    "response = request.urlopen(url)\n",
    "\n",
    "con = response.read().decode('UTF8')\n",
    "\n",
    "# Tokenize\n",
    "tokens = word_tokenize(con)\n",
    "\n",
    "print(tokens[:150])\n"
   ]
  },
  {
   "cell_type": "code",
   "execution_count": null,
   "id": "1f4716f9",
   "metadata": {},
   "outputs": [],
   "source": []
  }
 ],
 "metadata": {
  "kernelspec": {
   "display_name": "Python 3",
   "language": "python",
   "name": "python3"
  },
  "language_info": {
   "codemirror_mode": {
    "name": "ipython",
    "version": 3
   },
   "file_extension": ".py",
   "mimetype": "text/x-python",
   "name": "python",
   "nbconvert_exporter": "python",
   "pygments_lexer": "ipython3",
   "version": "3.8.8"
  }
 },
 "nbformat": 4,
 "nbformat_minor": 5
}
