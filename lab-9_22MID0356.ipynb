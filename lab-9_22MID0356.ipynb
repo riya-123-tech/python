{
 "cells": [
  {
   "cell_type": "code",
   "execution_count": 1,
   "id": "365c829c",
   "metadata": {},
   "outputs": [],
   "source": [
    "class emp:\n",
    "    n=0 #no of employees\n",
    "    raise_amt=1.04 #class variable\n",
    "    def __init__(self,first,last,pay): #instance variables\n",
    "        self.first=first\n",
    "        self.last=last\n",
    "        self.pay=pay\n",
    "        emp.n+=1\n",
    "        \n",
    "    def apply_raise(self):\n",
    "        self.pay=int(self.pay*self.raise_amt)"
   ]
  },
  {
   "cell_type": "code",
   "execution_count": 2,
   "id": "db9a9940",
   "metadata": {},
   "outputs": [],
   "source": [
    "e1=emp(\"riya\",\"parikh\",23000000) #includes only instance variables"
   ]
  },
  {
   "cell_type": "code",
   "execution_count": 3,
   "id": "c298e351",
   "metadata": {},
   "outputs": [
    {
     "name": "stdout",
     "output_type": "stream",
     "text": [
      "1\n"
     ]
    }
   ],
   "source": [
    "print(emp.n)"
   ]
  },
  {
   "cell_type": "code",
   "execution_count": 4,
   "id": "5b5d8e05",
   "metadata": {},
   "outputs": [
    {
     "name": "stdout",
     "output_type": "stream",
     "text": [
      "{'first': 'riya', 'last': 'parikh', 'pay': 23000000}\n"
     ]
    }
   ],
   "source": [
    "print(e1.__dict__) #raise_amt is not in e1's scope"
   ]
  },
  {
   "cell_type": "code",
   "execution_count": 5,
   "id": "35c53e82",
   "metadata": {},
   "outputs": [
    {
     "name": "stdout",
     "output_type": "stream",
     "text": [
      "{'__module__': '__main__', 'n': 1, 'raise_amt': 1.04, '__init__': <function emp.__init__ at 0x7fa2894e2310>, 'apply_raise': <function emp.apply_raise at 0x7fa2894e2790>, '__dict__': <attribute '__dict__' of 'emp' objects>, '__weakref__': <attribute '__weakref__' of 'emp' objects>, '__doc__': None}\n"
     ]
    }
   ],
   "source": [
    "print(emp.__dict__)"
   ]
  },
  {
   "cell_type": "code",
   "execution_count": 6,
   "id": "28bd1155",
   "metadata": {},
   "outputs": [],
   "source": [
    "e1.raise_amt=1.05 #since the class variable is updated using object. now it comes under e1's scope"
   ]
  },
  {
   "cell_type": "code",
   "execution_count": 7,
   "id": "b34aac57",
   "metadata": {},
   "outputs": [
    {
     "name": "stdout",
     "output_type": "stream",
     "text": [
      "{'first': 'riya', 'last': 'parikh', 'pay': 23000000, 'raise_amt': 1.05}\n"
     ]
    }
   ],
   "source": [
    "print(e1.__dict__) #this includes instance as well as class variables "
   ]
  },
  {
   "cell_type": "code",
   "execution_count": 8,
   "id": "5b855468",
   "metadata": {},
   "outputs": [],
   "source": [
    "e2=emp(\"ishaan\",\"khan\",440000) #class object=2\n",
    "e3=emp(\"lavanya\",\"rawat\",76000) #class object=2"
   ]
  },
  {
   "cell_type": "code",
   "execution_count": 9,
   "id": "23a25217",
   "metadata": {},
   "outputs": [
    {
     "name": "stdout",
     "output_type": "stream",
     "text": [
      "{'first': 'ishaan', 'last': 'khan', 'pay': 440000}\n",
      "{'first': 'lavanya', 'last': 'rawat', 'pay': 76000}\n"
     ]
    }
   ],
   "source": [
    "print(e2.__dict__)\n",
    "print(e3.__dict__)  #raise_amt is not in the scope of this objects"
   ]
  },
  {
   "cell_type": "code",
   "execution_count": 10,
   "id": "8b4beea5",
   "metadata": {},
   "outputs": [
    {
     "name": "stdout",
     "output_type": "stream",
     "text": [
      "3\n"
     ]
    }
   ],
   "source": [
    "print(emp.n)"
   ]
  },
  {
   "cell_type": "code",
   "execution_count": 11,
   "id": "fdf65f0e",
   "metadata": {},
   "outputs": [
    {
     "name": "stdout",
     "output_type": "stream",
     "text": [
      "{'first': 'riya', 'last': 'parikh', 'pay': 24150000, 'raise_amt': 1.05}\n"
     ]
    }
   ],
   "source": [
    "e1.apply_raise()\n",
    "print(e1.__dict__) #pay increased after apply_raise function"
   ]
  },
  {
   "cell_type": "code",
   "execution_count": 18,
   "id": "333e958f",
   "metadata": {},
   "outputs": [
    {
     "name": "stdout",
     "output_type": "stream",
     "text": [
      "{'first': 'lavanya', 'last': 'rawat', 'pay': 76000, 'raise_amt': 1.9}\n",
      "{'first': 'lavanya', 'last': 'rawat', 'pay': 144400, 'raise_amt': 1.9}\n"
     ]
    }
   ],
   "source": [
    "e3.raise_amt=1.9 #raise_amt updated and hence now comes under scope\n",
    "print(e3.__dict__) \n",
    "e3.apply_raise()\n",
    "print(e3.__dict__)"
   ]
  },
  {
   "cell_type": "code",
   "execution_count": 17,
   "id": "fb38e376",
   "metadata": {},
   "outputs": [],
   "source": []
  },
  {
   "cell_type": "markdown",
   "id": "95dd28c6",
   "metadata": {},
   "source": [
    "INHERITANCE"
   ]
  },
  {
   "cell_type": "code",
   "execution_count": 20,
   "id": "0a28bf41",
   "metadata": {},
   "outputs": [
    {
     "name": "stdout",
     "output_type": "stream",
     "text": [
      "hello from parent\n"
     ]
    }
   ],
   "source": [
    "class parent: #parent class\n",
    "    def greet(self): #Method in parent class\n",
    "        print(\"hello from parent\")\n",
    "class child(parent):\n",
    "    pass    # No new methods or attributes, inherits everything from parent\n",
    "        \n",
    "obj=child() # Create an object of child class\n",
    "obj.greet()"
   ]
  },
  {
   "cell_type": "code",
   "execution_count": 21,
   "id": "4d62152e",
   "metadata": {},
   "outputs": [
    {
     "name": "stdout",
     "output_type": "stream",
     "text": [
      "hello from parent\n",
      "hello from child\n"
     ]
    }
   ],
   "source": [
    "class parent:\n",
    "    def greet(self):\n",
    "        print(\"hello from parent\")\n",
    "class child(parent):    # Child class inherits from parent\n",
    "    def greet(self):  # Override the greet() method\n",
    "        super().greet()  # Call greet() from parent class first\n",
    "        print(\"hello from child\")    # Then add child's own message\n",
    "        \n",
    "obj=child()\n",
    "obj.greet()"
   ]
  },
  {
   "cell_type": "code",
   "execution_count": 22,
   "id": "a7d0baae",
   "metadata": {},
   "outputs": [
    {
     "name": "stdout",
     "output_type": "stream",
     "text": [
      "method a\n",
      "method b\n",
      "method c\n"
     ]
    }
   ],
   "source": [
    "class A:\n",
    "    def method_a(self):\n",
    "        print(\"method a\")\n",
    "\n",
    "class B:\n",
    "    def method_b(self):\n",
    "        print(\"method b\")\n",
    "\n",
    "class C(A, B):  # C inherits from both A and B; mutliclass inheritance\n",
    "    def method_c(self):\n",
    "        print(\"method c\")\n",
    "\n",
    "obj = C()  # Create an object of class C\n",
    "\n",
    "# Call methods from all classes\n",
    "obj.method_a()  # Inherited from A\n",
    "obj.method_b()  # Inherited from B\n",
    "obj.method_c()  # Defined in C\n"
   ]
  },
  {
   "cell_type": "code",
   "execution_count": 23,
   "id": "54b2f5bd",
   "metadata": {},
   "outputs": [
    {
     "name": "stdout",
     "output_type": "stream",
     "text": [
      "Hello from Grandparent\n",
      "Hello from Parent\n",
      "Hello from Child\n"
     ]
    }
   ],
   "source": [
    "class Grandparent:  # Base class\n",
    "    def greet(self):\n",
    "        print(\"Hello from Grandparent\")\n",
    "\n",
    "class Parent(Grandparent):  # Inherits from Grandparent\n",
    "    def greet_parent(self):\n",
    "        print(\"Hello from Parent\")\n",
    "\n",
    "class Child(Parent):  # Inherits from Parent (and indirectly from Grandparent)\n",
    "    def greet_child(self):\n",
    "        print(\"Hello from Child\")\n",
    "\n",
    "\n",
    "obj = Child() # Create object of Child\n",
    "\n",
    "# Access methods from all levels\n",
    "obj.greet()         # From Grandparent\n",
    "obj.greet_parent()  # From Parent\n",
    "obj.greet_child()   # From Child\n"
   ]
  },
  {
   "cell_type": "code",
   "execution_count": 24,
   "id": "42c67bf1",
   "metadata": {},
   "outputs": [],
   "source": [
    "class contact:\n",
    "    all_contacts=[]\n",
    "    \n",
    "    def __init__(self,name,email):\n",
    "        self.name=name\n",
    "        self.email=email\n",
    "        contact.all_contacts.append(self)\n",
    "        "
   ]
  },
  {
   "cell_type": "code",
   "execution_count": 25,
   "id": "610a32f6",
   "metadata": {},
   "outputs": [],
   "source": [
    "class supplier(contact):\n",
    "    def order(self,order):\n",
    "        print(\"send\" \"{}order to {}\".format(order,self))\n",
    "        "
   ]
  },
  {
   "cell_type": "code",
   "execution_count": 26,
   "id": "646bdf19",
   "metadata": {},
   "outputs": [
    {
     "name": "stdout",
     "output_type": "stream",
     "text": [
      "some body somebody@example.net sup plier supplier@example.net\n"
     ]
    }
   ],
   "source": [
    "c=contact(\"some body\",\"somebody@example.net\")\n",
    "s=supplier(\"sup plier\",\"supplier@example.net\")\n",
    "print(c.name,c.email,s.name,s.email)"
   ]
  },
  {
   "cell_type": "code",
   "execution_count": 27,
   "id": "1f1bf5aa",
   "metadata": {},
   "outputs": [
    {
     "data": {
      "text/plain": [
       "[<__main__.contact at 0x7fa2899743d0>, <__main__.supplier at 0x7fa2899746d0>]"
      ]
     },
     "execution_count": 27,
     "metadata": {},
     "output_type": "execute_result"
    }
   ],
   "source": [
    "c.all_contacts"
   ]
  },
  {
   "cell_type": "code",
   "execution_count": 28,
   "id": "e2a849cf",
   "metadata": {},
   "outputs": [],
   "source": [
    "class ContactList(list):\n",
    "    def search(self, name):\n",
    "        \"\"\"Return all contacts that contain the search value in their name.\"\"\"\n",
    "        matching_contacts = []\n",
    "        for contact in self:\n",
    "            if name in contact.name:\n",
    "                matching_contacts.append(contact)\n",
    "        return matching_contacts\n"
   ]
  },
  {
   "cell_type": "code",
   "execution_count": 29,
   "id": "4014d9c0",
   "metadata": {},
   "outputs": [],
   "source": [
    "class Contact:\n",
    "    all_contacts = ContactList()  # Shared list of all contacts\n",
    "\n",
    "    def __init__(self, name, email):\n",
    "        self.name = name\n",
    "        self.email = email\n",
    "        self.all_contacts.append(self)  # Add self to the shared contact list\n"
   ]
  },
  {
   "cell_type": "code",
   "execution_count": 30,
   "id": "4f6434f4",
   "metadata": {},
   "outputs": [
    {
     "name": "stdout",
     "output_type": "stream",
     "text": [
      "['John A', 'John B']\n"
     ]
    }
   ],
   "source": [
    "# Create contact objects\n",
    "c1 = Contact(\"John A\", \"johna@example.net\")\n",
    "c2 = Contact(\"John B\", \"johnb@example.net\")\n",
    "c3 = Contact(\"Jenna C\", \"jennac@example.net\")\n",
    "\n",
    "# Search for contacts containing 'John'\n",
    "print([c.name for c in Contact.all_contacts.search('John')])\n"
   ]
  },
  {
   "cell_type": "code",
   "execution_count": 32,
   "id": "6c57e2f1",
   "metadata": {},
   "outputs": [
    {
     "name": "stdout",
     "output_type": "stream",
     "text": [
      "Student: Riya, Roll No: 101, Marks: 85\n",
      "Student: Ishaan, Roll No: 102, Marks: 90\n",
      "Student: Lavanya, Roll No: 103, Marks: 0\n",
      "Student: Saanvi, Roll No: N/A, Marks: 78\n",
      "Student: Rakshit, Roll No: 105, Marks: 92\n",
      "Student: Unknown, Roll No: 106, Marks: 67\n",
      "Student: Neha, Roll No: 107, Marks: 0\n",
      "Student: Rahul, Roll No: 108, Marks: 88\n",
      "Student: Ananya, Roll No: 109, Marks: 80\n",
      "Student: Kunal, Roll No: N/A, Marks: 0\n"
     ]
    }
   ],
   "source": [
    "import csv\n",
    "\n",
    "# Step 1: Define Student class\n",
    "class Student:\n",
    "    def __init__(self, name, roll_no, marks):\n",
    "        self.name = name if name else \"Unknown\"         # Default for missing name\n",
    "        self.roll_no = roll_no if roll_no else \"N/A\"    # Default for missing roll no\n",
    "        self.marks = int(marks) if marks else 0         # Default for missing marks\n",
    "\n",
    "    def __str__(self):\n",
    "        return f\"Student: {self.name}, Roll No: {self.roll_no}, Marks: {self.marks}\"\n",
    "\n",
    "# Step 2: Read file and create objects\n",
    "students = []\n",
    "with open(\"/Users/riyaparikh/Downloads/students.csv\", \"r\") as file:\n",
    "    reader = csv.DictReader(file)\n",
    "    for row in reader:\n",
    "        student_obj = Student(row[\"name\"], row[\"roll_no\"], row[\"marks\"])\n",
    "        students.append(student_obj)\n",
    "\n",
    "# Step 3: Print each student object\n",
    "for student in students:\n",
    "    print(student)\n"
   ]
  },
  {
   "cell_type": "code",
   "execution_count": 33,
   "id": "160cbe1b",
   "metadata": {},
   "outputs": [
    {
     "name": "stdout",
     "output_type": "stream",
     "text": [
      "Student: Riya, Roll No: 101, Marks: 85\n",
      "Student: Ishaan, Roll No: 102, Marks: 90\n",
      "Student: Lavanya, Roll No: 103, Marks: 0\n",
      "Student: Saanvi, Roll No: N/A, Marks: 78\n",
      "Student: Rakshit, Roll No: 105, Marks: 92\n",
      "Student: Unknown, Roll No: 106, Marks: 67\n",
      "Student: Neha, Roll No: 107, Marks: 0\n",
      "Student: Rahul, Roll No: 108, Marks: 88\n",
      "Student: Ananya, Roll No: 109, Marks: 80\n",
      "Student: Kunal, Roll No: N/A, Marks: 0\n"
     ]
    }
   ],
   "source": [
    "import csv\n",
    "\n",
    "# Class definition\n",
    "class Student:\n",
    "    def __init__(self, name, roll_no, marks):\n",
    "        self.name = name if name else \"Unknown\"         # Default for missing name\n",
    "        self.roll_no = roll_no if roll_no else \"N/A\"    # Default for missing roll no\n",
    "        self.marks = int(marks) if marks else 0         # Default for missing marks\n",
    "\n",
    "    def __str__(self):\n",
    "        return f\"Student: {self.name}, Roll No: {self.roll_no}, Marks: {self.marks}\"\n",
    "\n",
    "# List to hold all Student objects\n",
    "students = []\n",
    "\n",
    "# Read CSV file and create an object for each row\n",
    "with open(\"/Users/riyaparikh/Downloads/students.csv\", \"r\") as file:\n",
    "    reader = csv.DictReader(file)\n",
    "    for row in reader:\n",
    "        student_obj = Student(row[\"name\"], row[\"roll_no\"], row[\"marks\"])\n",
    "        students.append(student_obj)\n",
    "\n",
    "# Print all Student objects\n",
    "for student in students:\n",
    "    print(student)\n"
   ]
  },
  {
   "cell_type": "code",
   "execution_count": 37,
   "id": "da77468e",
   "metadata": {},
   "outputs": [
    {
     "name": "stdout",
     "output_type": "stream",
     "text": [
      "Riya\n",
      "101\n",
      "85\n"
     ]
    }
   ],
   "source": [
    "# Access first student\n",
    "first_student = students[0]\n",
    "print(first_student.name)\n",
    "print(first_student.roll_no)\n",
    "print(first_student.marks)\n",
    "\n",
    "\n",
    "\n"
   ]
  },
  {
   "cell_type": "code",
   "execution_count": 35,
   "id": "40309fd0",
   "metadata": {},
   "outputs": [
    {
     "name": "stdout",
     "output_type": "stream",
     "text": [
      "Riya 101 85\n",
      "Ishaan 102 90\n",
      "Lavanya 103 0\n",
      "Saanvi N/A 78\n",
      "Rakshit 105 92\n",
      "Unknown 106 67\n",
      "Neha 107 0\n",
      "Rahul 108 88\n",
      "Ananya 109 80\n",
      "Kunal N/A 0\n"
     ]
    }
   ],
   "source": [
    "# Loop through all\n",
    "for s in students:\n",
    "    print(s.name, s.roll_no, s.marks)"
   ]
  },
  {
   "cell_type": "code",
   "execution_count": 36,
   "id": "e766f030",
   "metadata": {},
   "outputs": [
    {
     "name": "stdout",
     "output_type": "stream",
     "text": [
      "Student: Lavanya, Roll No: 103, Marks: 0\n"
     ]
    }
   ],
   "source": [
    "# Access specific student by index\n",
    "third_student = students[2]\n",
    "print(third_student)\n"
   ]
  },
  {
   "cell_type": "code",
   "execution_count": null,
   "id": "9895ad15",
   "metadata": {},
   "outputs": [],
   "source": []
  }
 ],
 "metadata": {
  "kernelspec": {
   "display_name": "Python 3",
   "language": "python",
   "name": "python3"
  },
  "language_info": {
   "codemirror_mode": {
    "name": "ipython",
    "version": 3
   },
   "file_extension": ".py",
   "mimetype": "text/x-python",
   "name": "python",
   "nbconvert_exporter": "python",
   "pygments_lexer": "ipython3",
   "version": "3.8.8"
  }
 },
 "nbformat": 4,
 "nbformat_minor": 5
}
