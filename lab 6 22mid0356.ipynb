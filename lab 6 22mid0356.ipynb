{
 "cells": [
  {
   "cell_type": "code",
   "execution_count": 22,
   "id": "d4aaca09",
   "metadata": {},
   "outputs": [
    {
     "name": "stdout",
     "output_type": "stream",
     "text": [
      "I have a dog.\n",
      "My dog's name is sarayu.\n",
      "\n",
      "I have a cat.\n",
      "My cat's name is angel.\n",
      "\n"
     ]
    }
   ],
   "source": [
    "\n",
    "def describe_pet(animal_type, pet_name):\n",
    "    print(f\"I have a {animal_type}.\")\n",
    "    print(f\"My {animal_type}'s name is {pet_name}.\\n\")\n",
    "\n",
    "# Positional arguments :order matters\n",
    "describe_pet('dog', 'sarayu')\n",
    "\n",
    "# Keyword arguments: order doesn't matter\n",
    "describe_pet(animal_type='cat', pet_name='angel')"
   ]
  },
  {
   "cell_type": "code",
   "execution_count": 6,
   "id": "957909ee",
   "metadata": {},
   "outputs": [
    {
     "name": "stdout",
     "output_type": "stream",
     "text": [
      "I have a dog.\n",
      "My dog's name is bruno.\n",
      "\n",
      "I have a mouse.\n",
      "My mouse's name is mickey.\n",
      "\n",
      "I have a duck.\n",
      "My duck's name is donald.\n",
      "\n"
     ]
    }
   ],
   "source": [
    "def describe_pet(animal_type, pet_name):\n",
    "    print(f\"I have a {animal_type}.\")\n",
    "    print(f\"My {animal_type}'s name is {pet_name}.\\n\")\n",
    "\n",
    "# Calling the same function multiple times\n",
    "describe_pet('dog', 'bruno')\n",
    "describe_pet('mouse', 'mickey')\n",
    "describe_pet('duck', 'donald')"
   ]
  },
  {
   "cell_type": "code",
   "execution_count": 3,
   "id": "6d03931b",
   "metadata": {},
   "outputs": [
    {
     "name": "stdout",
     "output_type": "stream",
     "text": [
      "I have a dog.\n",
      "My dog's name is bruno.\n",
      "\n",
      "I have a bruno.\n",
      "My bruno's name is dog.\n",
      "\n"
     ]
    }
   ],
   "source": [
    "def describe_pet(animal_type, pet_name):\n",
    "    print(f\"I have a {animal_type}.\")\n",
    "    print(f\"My {animal_type}'s name is {pet_name}.\\n\")\n",
    "\n",
    "\n",
    "describe_pet('dog', 'bruno')# Correct order\n",
    "describe_pet('bruno', 'dog')# Wrong order "
   ]
  },
  {
   "cell_type": "code",
   "execution_count": 4,
   "id": "0db9bed5",
   "metadata": {},
   "outputs": [
    {
     "name": "stdout",
     "output_type": "stream",
     "text": [
      "I have a dog.\n",
      "My dog's name is bruno.\n",
      "\n",
      "I have a cat.\n",
      "My cat's name is angel.\n",
      "\n"
     ]
    }
   ],
   "source": [
    "\n",
    "def describe_pet(animal_type, pet_name):\n",
    "    print(f\"I have a {animal_type}.\")\n",
    "    print(f\"My {animal_type}'s name is {pet_name}.\\n\")\n",
    "\n",
    "describe_pet(pet_name='bruno', animal_type='dog')# Keyword arguments allow any order\n",
    "describe_pet(animal_type='cat', pet_name='angel')"
   ]
  },
  {
   "cell_type": "code",
   "execution_count": 5,
   "id": "17cff9b9",
   "metadata": {},
   "outputs": [
    {
     "name": "stdout",
     "output_type": "stream",
     "text": [
      "I have a dog.\n",
      "My dog's name is bruno.\n",
      "\n",
      "I have a cat.\n",
      "My cat's name is angel.\n",
      "\n",
      "I have a duck.\n",
      "My duck's name is donald.\n",
      "\n"
     ]
    }
   ],
   "source": [
    "def describe_pet(pet_name, animal_type='dog'):\n",
    "    print(f\"I have a {animal_type}.\")\n",
    "    print(f\"My {animal_type}'s name is {pet_name}.\\n\")\n",
    "\n",
    "describe_pet('bruno')# Using default value\n",
    "describe_pet('angel', 'cat')# Overriding default value\n",
    "describe_pet('donald', 'duck')"
   ]
  },
  {
   "cell_type": "code",
   "execution_count": 8,
   "id": "45ec9672",
   "metadata": {},
   "outputs": [
    {
     "name": "stdout",
     "output_type": "stream",
     "text": [
      "I have a dog.\n",
      "My dog's name is bruno.\n",
      "\n",
      "I have a dog.\n",
      "My dog's name is Kala.\n",
      "\n",
      "I have a cat.\n",
      "My cat's name is angek.\n",
      "\n",
      "I have a mouse.\n",
      "My mouse's name is mickey.\n",
      "\n",
      "I have a duck.\n",
      "My duck's name is donald.\n",
      "\n"
     ]
    }
   ],
   "source": [
    "\n",
    "def describe_pet(pet_name, animal_type='dog'):\n",
    "    print(f\"I have a {animal_type}.\")\n",
    "    print(f\"My {animal_type}'s name is {pet_name}.\\n\")\n",
    "\n",
    "\n",
    "describe_pet('bruno')  # Positional argument for pet_name only\n",
    "# bruno → pet_name, animal_type uses default 'dog'\n",
    "\n",
    "# Keyword argument for pet_name\n",
    "describe_pet(pet_name='Kala')  \n",
    "describe_pet('angek', 'cat') # Two positional arguments \n",
    "describe_pet(pet_name='mickey', animal_type='mouse') # Two keyword arguments \n",
    "\n",
    "# Two keyword arguments (order swapped)\n",
    "describe_pet(animal_type='duck', pet_name='donald')  "
   ]
  },
  {
   "cell_type": "code",
   "execution_count": 9,
   "id": "537d6144",
   "metadata": {},
   "outputs": [
    {
     "name": "stdout",
     "output_type": "stream",
     "text": [
      "Bruno\n",
      "Mickey\n"
     ]
    }
   ],
   "source": [
    "\n",
    "def get_formatted_pet_name(pet_name): #Return the pet's name in title case.\n",
    "    return pet_name.title()\n",
    "\n",
    "print(get_formatted_pet_name('bruno'))\n",
    "print(get_formatted_pet_name('mickey'))"
   ]
  },
  {
   "cell_type": "code",
   "execution_count": 10,
   "id": "1ad295da",
   "metadata": {},
   "outputs": [
    {
     "name": "stdout",
     "output_type": "stream",
     "text": [
      "I have a dog.\n",
      "My dog's name is bruno.\n",
      "\n",
      "I have a mouse.\n",
      "My mouse's name is mickey.\n",
      "\n"
     ]
    }
   ],
   "source": [
    "\n",
    "def describe_pet(pet_name, animal_type='dog'):\n",
    "    print(f\"I have a {animal_type}.\")\n",
    "    print(f\"My {animal_type}'s name is {pet_name}.\\n\")\n",
    "\n",
    "describe_pet('bruno')                  # Uses default animal_type\n",
    "describe_pet('mickey', 'mouse')        # Overrides default"
   ]
  },
  {
   "cell_type": "code",
   "execution_count": 15,
   "id": "1839b035",
   "metadata": {},
   "outputs": [
    {
     "name": "stdout",
     "output_type": "stream",
     "text": [
      "{'name': 'bruno', 'animal_type': 'dog'}\n"
     ]
    }
   ],
   "source": [
    "def build_pet_profile(name, animal_type):  #Return a dictionary about a pet.\n",
    "\n",
    "    return {'name': name, 'animal_type': animal_type}\n",
    "\n",
    "pet = build_pet_profile('bruno', 'dog')\n",
    "print(pet)"
   ]
  },
  {
   "cell_type": "code",
   "execution_count": 12,
   "id": "4db87452",
   "metadata": {},
   "outputs": [
    {
     "name": "stdout",
     "output_type": "stream",
     "text": [
      "Hello, Mickey!\n",
      "Hello, Donald!\n",
      "Hello, Bruno!\n"
     ]
    }
   ],
   "source": [
    "def greet_pets(pet_names):\n",
    "    for name in pet_names:\n",
    "        print(f\"Hello, {name.title()}!\")\n",
    "\n",
    "pets = ['mickey', 'donald', 'bruno']\n",
    "greet_pets(pets)"
   ]
  },
  {
   "cell_type": "code",
   "execution_count": 13,
   "id": "0865f6b3",
   "metadata": {},
   "outputs": [
    {
     "name": "stdout",
     "output_type": "stream",
     "text": [
      "['BRUNO', 'CHONKY', 'RAKU']\n"
     ]
    }
   ],
   "source": [
    "def uppercase_pets(pet_names): #Modify list elements to uppercase.\n",
    "    \n",
    "    for i in range(len(pet_names)):\n",
    "        pet_names[i] = pet_names[i].upper()\n",
    "\n",
    "pets = ['bruno', 'chonky', 'raku']\n",
    "uppercase_pets(pets)\n",
    "print(pets)"
   ]
  },
  {
   "cell_type": "code",
   "execution_count": 14,
   "id": "ec2dbaed",
   "metadata": {},
   "outputs": [
    {
     "name": "stdout",
     "output_type": "stream",
     "text": [
      "Original: ['bruno', 'mickey', 'donald']\n",
      "Modified: ['BRUNO', 'MICKEY', 'DONALD']\n"
     ]
    }
   ],
   "source": [
    "def uppercase_pets_copy(pet_names):#Work on a copy to avoid modifying original list.\n",
    "    for i in range(len(pet_names)):\n",
    "        pet_names[i] = pet_names[i].upper()\n",
    "    return pet_names\n",
    "\n",
    "pets = ['bruno', 'mickey', 'donald']\n",
    "new_list = uppercase_pets_copy(pets[:])  # Passing a copy\n",
    "print(\"Original:\", pets)\n",
    "print(\"Modified:\", new_list)"
   ]
  },
  {
   "cell_type": "code",
   "execution_count": 16,
   "id": "7ca76dd8",
   "metadata": {},
   "outputs": [
    {
     "name": "stdout",
     "output_type": "stream",
     "text": [
      "My pets are:\n",
      "- bruno\n",
      "My pets are:\n",
      "- bruno\n",
      "- mickey\n",
      "- donald\n"
     ]
    }
   ],
   "source": [
    "def list_pets(*pets): #Accepts any number of pet names.\n",
    "   # *pets collects all arguments into a tuple.\n",
    "   \n",
    "    print(\"My pets are:\")\n",
    "    for pet in pets:  # Loop through each pet name\n",
    "        print(f\"- {pet}\")\n",
    "\n",
    "# Passing one argument\n",
    "list_pets('bruno')\n",
    "\n",
    "# Passing multiple arguments\n",
    "list_pets('bruno', 'mickey', 'donald')"
   ]
  },
  {
   "cell_type": "code",
   "execution_count": 17,
   "id": "24fb6349",
   "metadata": {},
   "outputs": [
    {
     "name": "stdout",
     "output_type": "stream",
     "text": [
      "Owner: riya\n",
      "Pets:\n",
      "- bruno\n",
      "- mickey\n",
      "- donald\n"
     ]
    }
   ],
   "source": [
    "def show_pet_info(owner, *pets):\n",
    "   \n",
    "    print(f\"Owner: {owner}\")\n",
    "    print(\"Pets:\")\n",
    "    for pet in pets:  # Loop through each pet name\n",
    "        print(f\"- {pet}\")\n",
    "\n",
    "# First argument is owner, rest are pets\n",
    "show_pet_info('riya', 'bruno', 'mickey', 'donald')"
   ]
  },
  {
   "cell_type": "code",
   "execution_count": 18,
   "id": "aaefa06d",
   "metadata": {},
   "outputs": [
    {
     "name": "stdout",
     "output_type": "stream",
     "text": [
      "{'animal_type': 'dog', 'age': 3, 'color': 'brown', 'name': 'bruno'}\n"
     ]
    }
   ],
   "source": [
    "def build_pet_profile(name, **info):#Accepts arbitrary keyword arguments.\n",
    "    #**info stores them as a dictionary.\n",
    "    info['name'] = name  # Add the pet name to the dictionary\n",
    "    return info\n",
    "\n",
    "# Passing extra details as keyword arguments\n",
    "pet = build_pet_profile('bruno', animal_type='dog', age=3, color='brown')\n",
    "print(pet)  # Output will be a dictionary with all details"
   ]
  },
  {
   "cell_type": "code",
   "execution_count": 1,
   "id": "dc29c199",
   "metadata": {},
   "outputs": [
    {
     "ename": "ModuleNotFoundError",
     "evalue": "No module named 'pets'",
     "output_type": "error",
     "traceback": [
      "\u001b[0;31m---------------------------------------------------------------------------\u001b[0m",
      "\u001b[0;31mModuleNotFoundError\u001b[0m                       Traceback (most recent call last)",
      "\u001b[0;32m<ipython-input-1-bf59fab62a2e>\u001b[0m in \u001b[0;36m<module>\u001b[0;34m\u001b[0m\n\u001b[1;32m      1\u001b[0m \u001b[0;31m# Import the module\u001b[0m\u001b[0;34m\u001b[0m\u001b[0;34m\u001b[0m\u001b[0;34m\u001b[0m\u001b[0m\n\u001b[0;32m----> 2\u001b[0;31m \u001b[0;32mimport\u001b[0m \u001b[0mpets\u001b[0m\u001b[0;34m\u001b[0m\u001b[0;34m\u001b[0m\u001b[0m\n\u001b[0m\u001b[1;32m      3\u001b[0m \u001b[0;34m\u001b[0m\u001b[0m\n\u001b[1;32m      4\u001b[0m \u001b[0;31m# Call the function from the module\u001b[0m\u001b[0;34m\u001b[0m\u001b[0;34m\u001b[0m\u001b[0;34m\u001b[0m\u001b[0m\n\u001b[1;32m      5\u001b[0m \u001b[0mpets\u001b[0m\u001b[0;34m.\u001b[0m\u001b[0mdescribe_pet\u001b[0m\u001b[0;34m(\u001b[0m\u001b[0;34m'dog'\u001b[0m\u001b[0;34m,\u001b[0m \u001b[0;34m'bruno'\u001b[0m\u001b[0;34m)\u001b[0m\u001b[0;34m\u001b[0m\u001b[0;34m\u001b[0m\u001b[0m\n",
      "\u001b[0;31mModuleNotFoundError\u001b[0m: No module named 'pets'"
     ]
    }
   ],
   "source": [
    "# Import the module\n",
    "import pets\n",
    "\n",
    "# Call the function from the module\n",
    "pets.describe_pet('dog', 'bruno')"
   ]
  },
  {
   "cell_type": "code",
   "execution_count": 23,
   "id": "242889fd",
   "metadata": {},
   "outputs": [
    {
     "name": "stdout",
     "output_type": "stream",
     "text": [
      "Collecting nbimporter\n",
      "  Downloading nbimporter-0.3.4-py3-none-any.whl (4.9 kB)\n",
      "Installing collected packages: nbimporter\n",
      "Successfully installed nbimporter-0.3.4\n",
      "Note: you may need to restart the kernel to use updated packages.\n"
     ]
    }
   ],
   "source": [
    "pip install nbimporter"
   ]
  },
  {
   "cell_type": "code",
   "execution_count": null,
   "id": "32b79905",
   "metadata": {},
   "outputs": [],
   "source": []
  }
 ],
 "metadata": {
  "kernelspec": {
   "display_name": "Python 3",
   "language": "python",
   "name": "python3"
  },
  "language_info": {
   "codemirror_mode": {
    "name": "ipython",
    "version": 3
   },
   "file_extension": ".py",
   "mimetype": "text/x-python",
   "name": "python",
   "nbconvert_exporter": "python",
   "pygments_lexer": "ipython3",
   "version": "3.8.8"
  }
 },
 "nbformat": 4,
 "nbformat_minor": 5
}
