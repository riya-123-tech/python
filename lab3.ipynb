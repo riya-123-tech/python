{
 "cells": [
  {
   "cell_type": "code",
   "execution_count": 1,
   "id": "9fa361c2",
   "metadata": {},
   "outputs": [
    {
     "name": "stdout",
     "output_type": "stream",
     "text": [
      "Ω\n"
     ]
    }
   ],
   "source": [
    "print('\\u03a9')"
   ]
  },
  {
   "cell_type": "code",
   "execution_count": 2,
   "id": "4e10837d",
   "metadata": {},
   "outputs": [
    {
     "name": "stdout",
     "output_type": "stream",
     "text": [
      "😀\n"
     ]
    }
   ],
   "source": [
    "print('\\U0001f600')"
   ]
  },
  {
   "cell_type": "code",
   "execution_count": 3,
   "id": "d57d7772",
   "metadata": {},
   "outputs": [],
   "source": [
    "import unicodedata"
   ]
  },
  {
   "cell_type": "code",
   "execution_count": 4,
   "id": "0dfb89a1",
   "metadata": {},
   "outputs": [
    {
     "name": "stdout",
     "output_type": "stream",
     "text": [
      "Ω\n",
      "😀\n"
     ]
    }
   ],
   "source": [
    "omega=unicodedata.lookup(\"GREEK CAPITAL LETTER OMEGA\")\n",
    "smiley=unicodedata.lookup(\"GRINNING FACE\")\n",
    "print(omega)\n",
    "print(smiley)"
   ]
  },
  {
   "cell_type": "code",
   "execution_count": 5,
   "id": "927df356",
   "metadata": {},
   "outputs": [
    {
     "data": {
      "text/plain": [
       "65"
      ]
     },
     "execution_count": 5,
     "metadata": {},
     "output_type": "execute_result"
    }
   ],
   "source": [
    "ord(\"A\")"
   ]
  },
  {
   "cell_type": "code",
   "execution_count": 6,
   "id": "94a5d060",
   "metadata": {},
   "outputs": [
    {
     "data": {
      "text/plain": [
       "97"
      ]
     },
     "execution_count": 6,
     "metadata": {},
     "output_type": "execute_result"
    }
   ],
   "source": [
    "ord(\"a\")"
   ]
  },
  {
   "cell_type": "code",
   "execution_count": 7,
   "id": "7b0402d8",
   "metadata": {},
   "outputs": [
    {
     "name": "stdout",
     "output_type": "stream",
     "text": [
      "enter a character R\n",
      "82\n"
     ]
    }
   ],
   "source": [
    "char=input(\"enter a character \")\n",
    "print(ord(char))"
   ]
  },
  {
   "cell_type": "code",
   "execution_count": 9,
   "id": "37754c0b",
   "metadata": {},
   "outputs": [
    {
     "name": "stdout",
     "output_type": "stream",
     "text": [
      "enter a character 诶\n",
      "35830\n"
     ]
    }
   ],
   "source": [
    "char=input(\"enter a character \")\n",
    "print(ord(char))"
   ]
  },
  {
   "cell_type": "code",
   "execution_count": 11,
   "id": "859da918",
   "metadata": {},
   "outputs": [
    {
     "name": "stdout",
     "output_type": "stream",
     "text": [
      "93326215443944152681699238856266700490715968264381621468592963895217599993229915608941463976156518286253697920827223758251185210916864000000000000000000000000\n"
     ]
    }
   ],
   "source": [
    "import math\n",
    "r=math.factorial(100)\n",
    "print(r)"
   ]
  },
  {
   "cell_type": "code",
   "execution_count": 2,
   "id": "2f66d3b2",
   "metadata": {},
   "outputs": [],
   "source": [
    "import nltk"
   ]
  },
  {
   "cell_type": "code",
   "execution_count": 5,
   "id": "f4612ae9",
   "metadata": {},
   "outputs": [
    {
     "name": "stdout",
     "output_type": "stream",
     "text": [
      "my name is riya\n"
     ]
    },
    {
     "ename": "TypeError",
     "evalue": "'module' object is not callable",
     "output_type": "error",
     "traceback": [
      "\u001b[0;31m---------------------------------------------------------------------------\u001b[0m",
      "\u001b[0;31mTypeError\u001b[0m                                 Traceback (most recent call last)",
      "\u001b[0;32m<ipython-input-5-985877f37fa9>\u001b[0m in \u001b[0;36m<module>\u001b[0;34m\u001b[0m\n\u001b[1;32m      3\u001b[0m     \u001b[0msentences\u001b[0m\u001b[0;34m=\u001b[0m\u001b[0mnltk\u001b[0m\u001b[0;34m.\u001b[0m\u001b[0msent_tokenize\u001b[0m\u001b[0;34m(\u001b[0m\u001b[0mtexts\u001b[0m\u001b[0;34m)\u001b[0m\u001b[0;34m\u001b[0m\u001b[0;34m\u001b[0m\u001b[0m\n\u001b[1;32m      4\u001b[0m     \u001b[0;32mfor\u001b[0m \u001b[0msentence\u001b[0m \u001b[0;32min\u001b[0m \u001b[0msentences\u001b[0m\u001b[0;34m:\u001b[0m\u001b[0;34m\u001b[0m\u001b[0;34m\u001b[0m\u001b[0m\n\u001b[0;32m----> 5\u001b[0;31m         \u001b[0mwords\u001b[0m\u001b[0;34m=\u001b[0m\u001b[0mnltk\u001b[0m\u001b[0;34m.\u001b[0m\u001b[0mtokenize\u001b[0m\u001b[0;34m(\u001b[0m\u001b[0msentence\u001b[0m\u001b[0;34m)\u001b[0m\u001b[0;34m\u001b[0m\u001b[0;34m\u001b[0m\u001b[0m\n\u001b[0m\u001b[1;32m      6\u001b[0m         \u001b[0mtagged_words\u001b[0m\u001b[0;34m=\u001b[0m\u001b[0mnltk\u001b[0m\u001b[0;34m.\u001b[0m\u001b[0mpos_tag\u001b[0m\u001b[0;34m(\u001b[0m\u001b[0mwords\u001b[0m\u001b[0;34m)\u001b[0m\u001b[0;34m\u001b[0m\u001b[0;34m\u001b[0m\u001b[0m\n\u001b[1;32m      7\u001b[0m         \u001b[0mprint\u001b[0m\u001b[0;34m(\u001b[0m\u001b[0mtagged_words\u001b[0m\u001b[0;34m)\u001b[0m\u001b[0;34m\u001b[0m\u001b[0;34m\u001b[0m\u001b[0m\n",
      "\u001b[0;31mTypeError\u001b[0m: 'module' object is not callable"
     ]
    }
   ],
   "source": [
    "texts=input()\n",
    "for text in texts:\n",
    "    sentences=nltk.sent_tokenize(texts)\n",
    "    for sentence in sentences:\n",
    "        words=nltk.tokenize(sentence)\n",
    "        tagged_words=nltk.pos_tag(words)\n",
    "        print(tagged_words)"
   ]
  },
  {
   "cell_type": "code",
   "execution_count": 4,
   "id": "a3fb35b0",
   "metadata": {},
   "outputs": [
    {
     "name": "stderr",
     "output_type": "stream",
     "text": [
      "[nltk_data] Downloading package punkt to\n",
      "[nltk_data]     /Users/riyaparikh/nltk_data...\n",
      "[nltk_data]   Unzipping tokenizers/punkt.zip.\n"
     ]
    },
    {
     "data": {
      "text/plain": [
       "True"
      ]
     },
     "execution_count": 4,
     "metadata": {},
     "output_type": "execute_result"
    }
   ],
   "source": [
    "nltk.download('punkt')"
   ]
  },
  {
   "cell_type": "code",
   "execution_count": 6,
   "id": "d155a1be",
   "metadata": {},
   "outputs": [
    {
     "name": "stdout",
     "output_type": "stream",
     "text": [
      "Title: Death of a hero\n",
      "Author: Richard Aldington\n",
      "Release date: July 27, 2025 [eBook #76571]\n",
      "Language: English\n",
      "Original publication: New York: Covici-Friede, Inc, 1929\n",
      "Credits: Sean/IB@DP\n",
      "\n",
      "A NOVEL BY\n",
      "RICHARD ALDINGTON\n",
      "\r\n",
      "1929\r\n",
      "COVICI · FRIEDE · INC · NEW YORK\r\n",
      "\n",
      "\r\n",
      "COPYRIGHT, 1929, BY COVICI-FRIEDE, INC.\n",
      "\r\n",
      "Second printing, July, 1929\r\n",
      "Third printing, July, 1929\r\n",
      "Fourth printing, October, 1929\n",
      "\n",
      "Manufactured in the United States of America\n",
      "by the VAN REES PRESS, New York\n",
      "\n",
      "\n",
      "“See how we trifle! but one \n"
     ]
    }
   ],
   "source": [
    "import requests\n",
    "from bs4 import BeautifulSoup\n",
    "url = \"https://www.gutenberg.org/cache/epub/76571/pg76571-images.html\"\n",
    "\n",
    "response = requests.get(url)\n",
    "html_content = response.text\n",
    "\n",
    "soup = BeautifulSoup(html_content, 'html.parser')\n",
    "paragraphs = soup.find_all('p')\n",
    "novel_text = \"\\n\".join(p.get_text() for p in paragraphs)\n",
    "print(novel_text[:500])"
   ]
  },
  {
   "cell_type": "code",
   "execution_count": 7,
   "id": "87b890fe",
   "metadata": {},
   "outputs": [
    {
     "name": "stdout",
     "output_type": "stream",
     "text": [
      "Total words: 121705\n"
     ]
    }
   ],
   "source": [
    "words = novel_text.split()\n",
    "print(\"Total words:\", len(words))\n"
   ]
  },
  {
   "cell_type": "code",
   "execution_count": 8,
   "id": "b504cd6d",
   "metadata": {},
   "outputs": [
    {
     "name": "stdout",
     "output_type": "stream",
     "text": [
      "Total characters: 718721\n"
     ]
    }
   ],
   "source": [
    "print(\"Total characters:\", len(novel_text))\n"
   ]
  },
  {
   "cell_type": "code",
   "execution_count": 9,
   "id": "0a44137e",
   "metadata": {},
   "outputs": [
    {
     "name": "stdout",
     "output_type": "stream",
     "text": [
      "Top 10 most common words:\n",
      "the: 6697\n",
      "and: 4761\n",
      "of: 3501\n",
      "to: 3033\n",
      "a: 2972\n",
      "in: 2025\n",
      "he: 1892\n",
      "was: 1849\n",
      "it: 1270\n",
      "they: 1163\n"
     ]
    }
   ],
   "source": [
    "import re\n",
    "from collections import Counter\n",
    "\n",
    "words = re.findall(r'\\b\\w+\\b', novel_text.lower())\n",
    "word_freq = Counter(words).most_common(10)\n",
    "\n",
    "print(\"Top 10 most common words:\")\n",
    "for word, freq in word_freq:\n",
    "    print(f\"{word}: {freq}\")\n"
   ]
  },
  {
   "cell_type": "code",
   "execution_count": null,
   "id": "daead2d3",
   "metadata": {},
   "outputs": [],
   "source": []
  }
 ],
 "metadata": {
  "kernelspec": {
   "display_name": "Python 3",
   "language": "python",
   "name": "python3"
  },
  "language_info": {
   "codemirror_mode": {
    "name": "ipython",
    "version": 3
   },
   "file_extension": ".py",
   "mimetype": "text/x-python",
   "name": "python",
   "nbconvert_exporter": "python",
   "pygments_lexer": "ipython3",
   "version": "3.8.8"
  }
 },
 "nbformat": 4,
 "nbformat_minor": 5
}
