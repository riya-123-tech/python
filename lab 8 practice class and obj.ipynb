{
 "cells": [
  {
   "cell_type": "markdown",
   "id": "5920fb60",
   "metadata": {},
   "source": [
    "lab 8 practice class and obj"
   ]
  },
  {
   "cell_type": "code",
   "execution_count": 1,
   "id": "c8494f4c",
   "metadata": {},
   "outputs": [
    {
     "name": "stdout",
     "output_type": "stream",
     "text": [
      "Title: Harry Potter, Author: J.K. Rowling\n",
      "Title: The Hobbit, Author: J.R.R. Tolkien\n"
     ]
    }
   ],
   "source": [
    "class Book:\n",
    "    def __init__(self, title, author):\n",
    "        self.title = title\n",
    "        self.author = author\n",
    "\n",
    "    def show(self):\n",
    "        print(f\"Title: {self.title}, Author: {self.author}\")\n",
    "\n",
    "# Create objects\n",
    "b1 = Book(\"Harry Potter\", \"J.K. Rowling\")\n",
    "b2 = Book(\"The Hobbit\", \"J.R.R. Tolkien\")\n",
    "\n",
    "b1.show()\n",
    "b2.show()\n"
   ]
  },
  {
   "cell_type": "code",
   "execution_count": 3,
   "id": "e01c122b",
   "metadata": {},
   "outputs": [
    {
     "name": "stdout",
     "output_type": "stream",
     "text": [
      "Name: riya, Marks: 90\n",
      "Name: rakshit, Marks: 85\n"
     ]
    }
   ],
   "source": [
    "class Student:\n",
    "    def __init__(self, name, marks):\n",
    "        self.name = name\n",
    "        self.marks = marks\n",
    "\n",
    "    def display(self):\n",
    "        print(f\"Name: {self.name}, Marks: {self.marks}\")\n",
    "\n",
    "s1 = Student(\"riya\", 90)\n",
    "s2 = Student(\"rakshit\", 85)\n",
    "\n",
    "s1.display()\n",
    "s2.display()\n"
   ]
  },
  {
   "cell_type": "code",
   "execution_count": 4,
   "id": "bff97c5d",
   "metadata": {},
   "outputs": [
    {
     "name": "stdout",
     "output_type": "stream",
     "text": [
      "riya's Balance: 1500\n"
     ]
    }
   ],
   "source": [
    "class BankAccount:\n",
    "    def __init__(self, name, balance):\n",
    "        self.name = name\n",
    "        self.balance = balance\n",
    "\n",
    "    def deposit(self, amount):\n",
    "        self.balance += amount\n",
    "\n",
    "    def display(self):\n",
    "        print(f\"{self.name}'s Balance: {self.balance}\")\n",
    "\n",
    "acc = BankAccount(\"riya\", 1000)\n",
    "acc.deposit(500)\n",
    "acc.display()\n"
   ]
  },
  {
   "cell_type": "code",
   "execution_count": 5,
   "id": "853e8d4a",
   "metadata": {},
   "outputs": [
    {
     "name": "stdout",
     "output_type": "stream",
     "text": [
      "DDLJ is a Hit\n"
     ]
    }
   ],
   "source": [
    "class Movie:\n",
    "    def __init__(self, title, rating):\n",
    "        self.title = title\n",
    "        self.rating = rating\n",
    "\n",
    "    def check(self):\n",
    "        if self.rating >= 8:\n",
    "            print(f\"{self.title} is a Hit\")\n",
    "        else:\n",
    "            print(f\"{self.title} is a Flop\")\n",
    "\n",
    "m = Movie(\"DDLJ\", 9)\n",
    "m.check()\n"
   ]
  },
  {
   "cell_type": "code",
   "execution_count": null,
   "id": "dec365b2",
   "metadata": {},
   "outputs": [],
   "source": []
  }
 ],
 "metadata": {
  "kernelspec": {
   "display_name": "Python 3",
   "language": "python",
   "name": "python3"
  },
  "language_info": {
   "codemirror_mode": {
    "name": "ipython",
    "version": 3
   },
   "file_extension": ".py",
   "mimetype": "text/x-python",
   "name": "python",
   "nbconvert_exporter": "python",
   "pygments_lexer": "ipython3",
   "version": "3.8.8"
  }
 },
 "nbformat": 4,
 "nbformat_minor": 5
}
