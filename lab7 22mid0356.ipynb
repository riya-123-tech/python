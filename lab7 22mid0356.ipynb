{
 "cells": [
  {
   "cell_type": "code",
   "execution_count": 2,
   "id": "4b477b0a",
   "metadata": {},
   "outputs": [],
   "source": [
    "def double(x): #fuction to return double of a given number\n",
    "    return x*2"
   ]
  },
  {
   "cell_type": "code",
   "execution_count": 3,
   "id": "db64feb4",
   "metadata": {},
   "outputs": [
    {
     "name": "stdout",
     "output_type": "stream",
     "text": [
      "8\n"
     ]
    }
   ],
   "source": [
    "print(double(4))"
   ]
  },
  {
   "cell_type": "code",
   "execution_count": 5,
   "id": "676c7396",
   "metadata": {},
   "outputs": [
    {
     "name": "stdout",
     "output_type": "stream",
     "text": [
      "<function <lambda> at 0x7fc9906db700>\n"
     ]
    }
   ],
   "source": [
    "print( lambda x:x*2)  #this prints memory address of lambda function"
   ]
  },
  {
   "cell_type": "code",
   "execution_count": 6,
   "id": "c16da8a9",
   "metadata": {},
   "outputs": [
    {
     "name": "stdout",
     "output_type": "stream",
     "text": [
      "6\n"
     ]
    }
   ],
   "source": [
    "f = lambda x: x * 2 #calls the function f defined using lambda and runs it\n",
    "print(f(3))"
   ]
  },
  {
   "cell_type": "code",
   "execution_count": 7,
   "id": "7ab0749b",
   "metadata": {},
   "outputs": [
    {
     "name": "stdout",
     "output_type": "stream",
     "text": [
      "88\n"
     ]
    }
   ],
   "source": [
    "def add(x,y):\n",
    "    return x+y #fuction to return sum of two numbers\n",
    "print(add(34,54))"
   ]
  },
  {
   "cell_type": "code",
   "execution_count": 8,
   "id": "5e5ace1c",
   "metadata": {},
   "outputs": [
    {
     "name": "stdout",
     "output_type": "stream",
     "text": [
      "79\n"
     ]
    }
   ],
   "source": [
    "a=lambda x,y: x+y\n",
    "print(a(23,56))"
   ]
  },
  {
   "cell_type": "code",
   "execution_count": 9,
   "id": "ec2e0c0d",
   "metadata": {},
   "outputs": [
    {
     "name": "stdout",
     "output_type": "stream",
     "text": [
      "101\n",
      "202\n",
      "303\n",
      "404\n",
      "505\n"
     ]
    }
   ],
   "source": [
    "l=[101,202,303,404,505]\n",
    "for i in range(5):\n",
    "    print(l[i])"
   ]
  },
  {
   "cell_type": "code",
   "execution_count": 10,
   "id": "ca27135b",
   "metadata": {},
   "outputs": [
    {
     "name": "stdout",
     "output_type": "stream",
     "text": [
      "[4, 5, 6, 7, 8, 9]\n",
      "4\n",
      "5\n",
      "6\n",
      "7\n",
      "8\n",
      "9\n"
     ]
    }
   ],
   "source": [
    "c=456789\n",
    "digits=[int(d) for d in str(c)]\n",
    "print(digits)\n",
    "for digit in digits:\n",
    "    print(digit)"
   ]
  },
  {
   "cell_type": "code",
   "execution_count": 11,
   "id": "c4515335",
   "metadata": {},
   "outputs": [
    {
     "name": "stdout",
     "output_type": "stream",
     "text": [
      "['__add__', '__class__', '__contains__', '__delattr__', '__delitem__', '__dir__', '__doc__', '__eq__', '__format__', '__ge__', '__getattribute__', '__getitem__', '__gt__', '__hash__', '__iadd__', '__imul__', '__init__', '__init_subclass__', '__iter__', '__le__', '__len__', '__lt__', '__mul__', '__ne__', '__new__', '__reduce__', '__reduce_ex__', '__repr__', '__reversed__', '__rmul__', '__setattr__', '__setitem__', '__sizeof__', '__str__', '__subclasshook__', 'append', 'clear', 'copy', 'count', 'extend', 'index', 'insert', 'pop', 'remove', 'reverse', 'sort']\n"
     ]
    }
   ],
   "source": [
    "print(dir(digits)) #List of all the attributes and methods of an object"
   ]
  },
  {
   "cell_type": "code",
   "execution_count": 18,
   "id": "0426ff11",
   "metadata": {},
   "outputs": [
    {
     "name": "stdout",
     "output_type": "stream",
     "text": [
      "riya\n"
     ]
    }
   ],
   "source": [
    "names=[\"riya\",\"ema\",\"tom\",\"hinton\"]\n",
    "#looper=names.__iter__()\n",
    "looper=iter(names)\n",
    "print(next(looper))     #this prints the next element in the list.\n",
    "                        #it remembers the element printed and will go in an order. \n",
    "                        #it cannot print in reverse order "
   ]
  },
  {
   "cell_type": "code",
   "execution_count": 14,
   "id": "a268b6a2",
   "metadata": {},
   "outputs": [
    {
     "name": "stdout",
     "output_type": "stream",
     "text": [
      "ema\n"
     ]
    }
   ],
   "source": [
    "print(next(looper))"
   ]
  },
  {
   "cell_type": "code",
   "execution_count": 15,
   "id": "72dfac22",
   "metadata": {},
   "outputs": [
    {
     "name": "stdout",
     "output_type": "stream",
     "text": [
      "tom\n"
     ]
    }
   ],
   "source": [
    "print(next(looper))"
   ]
  },
  {
   "cell_type": "code",
   "execution_count": 16,
   "id": "4693dd56",
   "metadata": {},
   "outputs": [
    {
     "name": "stdout",
     "output_type": "stream",
     "text": [
      "hinton\n"
     ]
    }
   ],
   "source": [
    "print(next(looper))"
   ]
  },
  {
   "cell_type": "code",
   "execution_count": 17,
   "id": "8e04edc8",
   "metadata": {},
   "outputs": [
    {
     "ename": "StopIteration",
     "evalue": "",
     "output_type": "error",
     "traceback": [
      "\u001b[0;31m---------------------------------------------------------------------------\u001b[0m",
      "\u001b[0;31mStopIteration\u001b[0m                             Traceback (most recent call last)",
      "\u001b[0;32m<ipython-input-17-4b384d5cbb74>\u001b[0m in \u001b[0;36m<module>\u001b[0;34m\u001b[0m\n\u001b[0;32m----> 1\u001b[0;31m \u001b[0mprint\u001b[0m\u001b[0;34m(\u001b[0m\u001b[0mnext\u001b[0m\u001b[0;34m(\u001b[0m\u001b[0mlooper\u001b[0m\u001b[0;34m)\u001b[0m\u001b[0;34m)\u001b[0m\u001b[0;34m\u001b[0m\u001b[0;34m\u001b[0m\u001b[0m\n\u001b[0m",
      "\u001b[0;31mStopIteration\u001b[0m: "
     ]
    }
   ],
   "source": [
    "print(next(looper)) #error cause no more names in the list"
   ]
  },
  {
   "cell_type": "code",
   "execution_count": 20,
   "id": "2445185d",
   "metadata": {
    "scrolled": true
   },
   "outputs": [
    {
     "ename": "TypeError",
     "evalue": "'list' object is not an iterator",
     "output_type": "error",
     "traceback": [
      "\u001b[0;31m---------------------------------------------------------------------------\u001b[0m",
      "\u001b[0;31mTypeError\u001b[0m                                 Traceback (most recent call last)",
      "\u001b[0;32m<ipython-input-20-8d11f2d1806e>\u001b[0m in \u001b[0;36m<module>\u001b[0;34m\u001b[0m\n\u001b[1;32m      3\u001b[0m \u001b[0;32mwhile\u001b[0m \u001b[0;32mTrue\u001b[0m\u001b[0;34m:\u001b[0m\u001b[0;34m\u001b[0m\u001b[0;34m\u001b[0m\u001b[0m\n\u001b[1;32m      4\u001b[0m     \u001b[0;32mtry\u001b[0m\u001b[0;34m:\u001b[0m\u001b[0;34m\u001b[0m\u001b[0;34m\u001b[0m\u001b[0m\n\u001b[0;32m----> 5\u001b[0;31m         \u001b[0mname\u001b[0m\u001b[0;34m=\u001b[0m\u001b[0mnext\u001b[0m\u001b[0;34m(\u001b[0m\u001b[0mnames\u001b[0m\u001b[0;34m)\u001b[0m\u001b[0;34m\u001b[0m\u001b[0;34m\u001b[0m\u001b[0m\n\u001b[0m\u001b[1;32m      6\u001b[0m         \u001b[0mprint\u001b[0m\u001b[0;34m(\u001b[0m\u001b[0mname\u001b[0m\u001b[0;34m)\u001b[0m\u001b[0;34m\u001b[0m\u001b[0;34m\u001b[0m\u001b[0m\n\u001b[1;32m      7\u001b[0m     \u001b[0;32mexcept\u001b[0m \u001b[0mStopIteration\u001b[0m\u001b[0;34m:\u001b[0m\u001b[0;34m\u001b[0m\u001b[0;34m\u001b[0m\u001b[0m\n",
      "\u001b[0;31mTypeError\u001b[0m: 'list' object is not an iterator"
     ]
    }
   ],
   "source": [
    "#to resolve the above error we use try catch block\n",
    "looper=iter(names)\n",
    "while True:\n",
    "    try:\n",
    "        name=next(names)\n",
    "        print(name)\n",
    "    except StopIteration:\n",
    "        break                  #error cause list is iterable, but not an iterator."
   ]
  },
  {
   "cell_type": "code",
   "execution_count": 22,
   "id": "00e15f2f",
   "metadata": {},
   "outputs": [
    {
     "name": "stdout",
     "output_type": "stream",
     "text": [
      "['riya', 'ema', 'tom', 'hinton']\n",
      "['riya', 'ema', 'tom', 'hinton']\n",
      "['riya', 'ema', 'tom', 'hinton']\n",
      "['riya', 'ema', 'tom', 'hinton']\n"
     ]
    }
   ],
   "source": [
    "looper=iter(names)\n",
    "while True:\n",
    "    try:\n",
    "        name=next(looper) #looper is an iterator\n",
    "        print(names)#prints the list four times as looper has four elements\n",
    "    except StopIteration:\n",
    "        break"
   ]
  },
  {
   "cell_type": "code",
   "execution_count": 23,
   "id": "dc279320",
   "metadata": {},
   "outputs": [
    {
     "name": "stdout",
     "output_type": "stream",
     "text": [
      "riya\n",
      "ema\n",
      "tom\n",
      "hinton\n"
     ]
    }
   ],
   "source": [
    "looper=iter(names)\n",
    "while True:\n",
    "    try:\n",
    "        name=next(looper) #looper is an iterator\n",
    "        print(name) #prints each element one by one\n",
    "    except StopIteration:\n",
    "        break"
   ]
  },
  {
   "cell_type": "code",
   "execution_count": 24,
   "id": "ff8a0404",
   "metadata": {},
   "outputs": [
    {
     "name": "stdout",
     "output_type": "stream",
     "text": [
      "<map object at 0x7fc9d00cb940>\n"
     ]
    }
   ],
   "source": [
    "def square(x):\n",
    "    return x*x\n",
    "numbers=[1,2,3,4,5]\n",
    "print(map(square,numbers)) #maps the numbers in the list one by one to the function square\n",
    "#this gives the address of the map object"
   ]
  },
  {
   "cell_type": "code",
   "execution_count": 25,
   "id": "f00d9dbe",
   "metadata": {},
   "outputs": [
    {
     "name": "stdout",
     "output_type": "stream",
     "text": [
      "[1, 4, 9, 16, 25]\n"
     ]
    }
   ],
   "source": [
    "def square(x):\n",
    "    return x*x\n",
    "numbers=[1,2,3,4,5]\n",
    "print(list(map(square,numbers))) #collects the values from the iterator into a list,\n",
    "                                    #and displays the squared numbers"
   ]
  },
  {
   "cell_type": "code",
   "execution_count": 26,
   "id": "aed13802",
   "metadata": {},
   "outputs": [
    {
     "name": "stdout",
     "output_type": "stream",
     "text": [
      "[1, 4, 9, 16, 25]\n"
     ]
    }
   ],
   "source": [
    "numbers=[1,2,3,4,5]\n",
    "print(list(map(lambda x:x*x,numbers)))"
   ]
  },
  {
   "cell_type": "code",
   "execution_count": 27,
   "id": "5660dee9",
   "metadata": {},
   "outputs": [
    {
     "name": "stdout",
     "output_type": "stream",
     "text": [
      "[False, False, False, True, True]\n"
     ]
    }
   ],
   "source": [
    "numbers=[1,2,3,4,5]\n",
    "print(list(map(lambda x:x>3,numbers)))  #prints boolean values of the list according to given condition"
   ]
  },
  {
   "cell_type": "code",
   "execution_count": 28,
   "id": "1f5cb449",
   "metadata": {},
   "outputs": [
    {
     "name": "stdout",
     "output_type": "stream",
     "text": [
      "[4, 5]\n"
     ]
    }
   ],
   "source": [
    "numbers=[1,2,3,4,5]\n",
    "print(list(filter(lambda x:x>3,numbers)))#prints the values that satisfy the condition; filters out unwanted values"
   ]
  },
  {
   "cell_type": "code",
   "execution_count": 29,
   "id": "8506da26",
   "metadata": {},
   "outputs": [
    {
     "name": "stdout",
     "output_type": "stream",
     "text": [
      "['riya', 'rakshit', 'dev', 'harshini']\n"
     ]
    }
   ],
   "source": [
    "names = [\"RIYA\", \"RAKSHIT\", \"DEV\", \"HARSHINI\"]\n",
    "lower_names = list(map(lambda x: x.lower(), names))\n",
    "print(lower_names)"
   ]
  },
  {
   "cell_type": "code",
   "execution_count": 30,
   "id": "97c1571a",
   "metadata": {},
   "outputs": [
    {
     "name": "stdout",
     "output_type": "stream",
     "text": [
      "['riya', 'rakshit', 'dev', 'harshini']\n"
     ]
    }
   ],
   "source": [
    "def to_lower(name):\n",
    "    return name.lower()\n",
    "\n",
    "names = [\"RIYA\", \"RAKSHIT\", \"DEV\", \"HARSHINI\"]\n",
    "lower_names = list(map(to_lower, names))\n",
    "print(lower_names)"
   ]
  },
  {
   "cell_type": "code",
   "execution_count": 31,
   "id": "94ce0be0",
   "metadata": {},
   "outputs": [],
   "source": [
    "from functools import reduce"
   ]
  },
  {
   "cell_type": "code",
   "execution_count": 32,
   "id": "b327fb17",
   "metadata": {},
   "outputs": [
    {
     "name": "stdout",
     "output_type": "stream",
     "text": [
      "15\n"
     ]
    }
   ],
   "source": [
    "print(reduce(lambda x,y:x+y,numbers)) #reduce combines items into a single result. \n",
    "#here, it adds all values in the list"
   ]
  },
  {
   "cell_type": "code",
   "execution_count": 33,
   "id": "0defec95",
   "metadata": {},
   "outputs": [
    {
     "name": "stdout",
     "output_type": "stream",
     "text": [
      "my name is riya\n"
     ]
    }
   ],
   "source": [
    "tokens = [\"my\", \"name\", \"is\", \"riya\"]\n",
    "sentence = reduce(lambda a, b: a + \" \" + b, tokens)\n",
    "print(sentence)"
   ]
  },
  {
   "cell_type": "code",
   "execution_count": null,
   "id": "5f3a115d",
   "metadata": {},
   "outputs": [],
   "source": []
  }
 ],
 "metadata": {
  "kernelspec": {
   "display_name": "Python 3",
   "language": "python",
   "name": "python3"
  },
  "language_info": {
   "codemirror_mode": {
    "name": "ipython",
    "version": 3
   },
   "file_extension": ".py",
   "mimetype": "text/x-python",
   "name": "python",
   "nbconvert_exporter": "python",
   "pygments_lexer": "ipython3",
   "version": "3.8.8"
  }
 },
 "nbformat": 4,
 "nbformat_minor": 5
}
