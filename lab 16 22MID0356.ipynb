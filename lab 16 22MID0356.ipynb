{
 "cells": [
  {
   "cell_type": "markdown",
   "id": "aefa04b0-fb97-4c8f-9583-cff4b9785f85",
   "metadata": {},
   "source": [
    "# ** Pandas MultiIndex "
   ]
  },
  {
   "cell_type": "code",
   "execution_count": 2,
   "id": "0f76cd09-613d-4519-be76-3fadee565b45",
   "metadata": {},
   "outputs": [
    {
     "name": "stdout",
     "output_type": "stream",
     "text": [
      "0       10\n",
      "1    29.98\n",
      "2      aBC\n",
      "3       88\n",
      "4       51\n",
      "dtype: object\n"
     ]
    }
   ],
   "source": [
    "# Create a pandas Series from a list with mixed data types and print it\n",
    "import pandas as pd\n",
    "\n",
    "data = [10, 29.98, 'aBC', 88, 51]\n",
    "series_from_list = pd.Series(data)\n",
    "print(series_from_list)\n"
   ]
  },
  {
   "cell_type": "code",
   "execution_count": 3,
   "id": "35f416de-beb6-4769-b7f6-ecd60b78e0fd",
   "metadata": {},
   "outputs": [
    {
     "name": "stdout",
     "output_type": "stream",
     "text": [
      "     Name  Age  Score\n",
      "0    Riya   21     85\n",
      "1  Ishaan   15     90\n",
      "2  Sonali   50     78\n",
      "3   Zahir   55     92\n"
     ]
    }
   ],
   "source": [
    "# Create a pandas DataFrame from a dictionary and print it\n",
    "import pandas as pd\n",
    "\n",
    "data = {\n",
    "    'Name': ['Riya', 'Ishaan', 'Sonali', 'Zahir'],\n",
    "    'Age': [21, 15, 50, 55],\n",
    "    'Score': [85, 90, 78, 92]\n",
    "}\n",
    "\n",
    "df = pd.DataFrame(data)\n",
    "print(df)\n"
   ]
  },
  {
   "cell_type": "code",
   "execution_count": 4,
   "id": "536641b8-c0e9-4f3d-aadf-d64ccc34d637",
   "metadata": {},
   "outputs": [
    {
     "name": "stdout",
     "output_type": "stream",
     "text": [
      "a     NaN\n",
      "b     8.0\n",
      "c    15.0\n",
      "d     NaN\n",
      "dtype: float64\n"
     ]
    }
   ],
   "source": [
    "# Multiply two pandas Series element-wise based on matching indices\n",
    "import pandas as pd\n",
    "\n",
    "s1 = pd.Series([1, 2, 3], index=[\"a\", \"b\", \"c\"])\n",
    "s2 = pd.Series([4, 5, 6], index=[\"b\", \"c\", \"d\"])\n",
    "print(s1 * s2)\n"
   ]
  },
  {
   "cell_type": "code",
   "execution_count": 5,
   "id": "c6e09c9b-188e-4d76-bd69-1af45ebd59cc",
   "metadata": {},
   "outputs": [
    {
     "name": "stdout",
     "output_type": "stream",
     "text": [
      "0    15\n",
      "1    20\n",
      "2    25\n",
      "dtype: int64\n"
     ]
    }
   ],
   "source": [
    "# Add two pandas Series element-wise and print the result\n",
    "import pandas as pd\n",
    "\n",
    "series_a = pd.Series([12, 14, 16])\n",
    "series_b = pd.Series([3, 6, 9])\n",
    "sum_series = series_a + series_b \n",
    "print(sum_series)"
   ]
  },
  {
   "cell_type": "code",
   "execution_count": 6,
   "id": "5552de3e-65a6-4238-9a81-435879a53cad",
   "metadata": {},
   "outputs": [
    {
     "name": "stdout",
     "output_type": "stream",
     "text": [
      "Letter  Subject\n",
      "X       History    75\n",
      "        Physics    89\n",
      "Y       History    82\n",
      "        Physics    95\n",
      "dtype: int64\n"
     ]
    }
   ],
   "source": [
    "# Create a pandas Series with a MultiIndex and print it\n",
    "import pandas as pd\n",
    "\n",
    "arrays = [\n",
    "    ['X', 'X', 'Y', 'Y'],\n",
    "    ['History', 'Physics', 'History', 'Physics']\n",
    "]\n",
    "index = pd.MultiIndex.from_arrays(arrays, names=('Letter', 'Subject'))\n",
    "\n",
    "multi_s = pd.Series([75, 89, 82, 95], index=index)\n",
    "print(multi_s)"
   ]
  },
  {
   "cell_type": "code",
   "execution_count": 7,
   "id": "26c3975f-f9a2-4dee-bd4d-07c6398f475e",
   "metadata": {},
   "outputs": [
    {
     "name": "stdout",
     "output_type": "stream",
     "text": [
      "Letter  Subject\n",
      "X       History    78\n",
      "        Physics    91\n",
      "Y       History    83\n",
      "        Physics    88\n",
      "dtype: int64\n"
     ]
    }
   ],
   "source": [
    "# Create a pandas Series with a MultiIndex from tuples and print it\n",
    "import pandas as pd  \n",
    "\n",
    "tuples = [('X', 'History'), ('X', 'Physics'), ('Y', 'History'), ('Y', 'Physics')]\n",
    "index = pd.MultiIndex.from_tuples(tuples, names=('Letter', 'Subject'))\n",
    "\n",
    "multi_s = pd.Series([78, 91, 83, 88], index=index)\n",
    "print(multi_s)\n"
   ]
  },
  {
   "cell_type": "code",
   "execution_count": 8,
   "id": "45e1ccff-88ca-4c8a-8036-e028d4eb6fc4",
   "metadata": {},
   "outputs": [
    {
     "name": "stdout",
     "output_type": "stream",
     "text": [
      "Letter  Subject\n",
      "X       History    76\n",
      "        Physics    84\n",
      "Y       History    91\n",
      "        Physics    87\n",
      "dtype: int64\n"
     ]
    }
   ],
   "source": [
    "# Create a pandas Series with a MultiIndex using the Cartesian product and print it\n",
    "import pandas as pd\n",
    "\n",
    "index = pd.MultiIndex.from_product(\n",
    "    [['X', 'Y'], ['History', 'Physics']],\n",
    "    names=('Letter', 'Subject')\n",
    ")\n",
    "\n",
    "multi_s = pd.Series([76, 84, 91, 87], index=index)\n",
    "print(multi_s)\n"
   ]
  },
  {
   "cell_type": "code",
   "execution_count": 9,
   "id": "cebeeba3-0553-4bc7-a822-1f19eaf2a5d9",
   "metadata": {},
   "outputs": [
    {
     "name": "stdout",
     "output_type": "stream",
     "text": [
      "Alphabet  Subject\n",
      "A         Math       90\n",
      "          Science    85\n",
      "B         Math       88\n",
      "          Science    92\n",
      "dtype: int64\n"
     ]
    }
   ],
   "source": [
    "df = pd.DataFrame({\n",
    "    'Alphabet': ['A', 'A', 'B', 'B'],\n",
    "    'Subject': ['Math', 'Science', 'Math', 'Science']\n",
    "})\n",
    "index = pd.MultiIndex.from_frame(df, names=('Alphabet', 'Subject'))\n",
    "\n",
    "multi_s = pd.Series([90, 85, 88, 92], index=index)\n",
    "print(multi_s)"
   ]
  },
  {
   "cell_type": "markdown",
   "id": "d367e443-d4ff-47c7-8ea0-02e0e9639c10",
   "metadata": {},
   "source": [
    "## Demonstration of Pandas MultiIndex: Creation, Access, Slicing, Reordering, Grouping, and MultiIndex Columns\n"
   ]
  },
  {
   "cell_type": "code",
   "execution_count": 12,
   "id": "eb86fc0e-4f8e-4f94-8f0a-c54d9211c660",
   "metadata": {},
   "outputs": [
    {
     "name": "stdout",
     "output_type": "stream",
     "text": [
      "MultiIndex Series from arrays:\n",
      " Alphabet  Subject\n",
      "A         Math       90\n",
      "          Science    85\n",
      "B         Math       88\n",
      "          Science    92\n",
      "dtype: int64 \n",
      "\n",
      "MultiIndex Series from tuples:\n",
      " Alphabet  Subject\n",
      "A         Math       70\n",
      "          Science    75\n",
      "B         Math       80\n",
      "          Science    82\n",
      "dtype: int64 \n",
      "\n",
      "MultiIndex Series from product:\n",
      " Alphabet  Subject\n",
      "A         Math       77\n",
      "          Science    85\n",
      "B         Math       72\n",
      "          Science    76\n",
      "dtype: int64 \n",
      "\n"
     ]
    }
   ],
   "source": [
    "import pandas as pd\n",
    "import numpy as np\n",
    "\n",
    "#  MULTI-INDEX FROM ARRAYS \n",
    "# Create a MultiIndex Series from arrays\n",
    "arrays = [\n",
    "    [\"A\", \"A\", \"B\", \"B\"],\n",
    "    [\"Math\", \"Science\", \"Math\", \"Science\"]\n",
    "]\n",
    "index = pd.MultiIndex.from_arrays(arrays, names=(\"Alphabet\", \"Subject\"))\n",
    "multi_s = pd.Series([90, 85, 88, 92], index=index)\n",
    "print(\"MultiIndex Series from arrays:\\n\", multi_s, \"\\n\")\n",
    "\n",
    "# MULTI-INDEX FROM TUPLES \n",
    "# Create a MultiIndex Series from tuples\n",
    "tuples = [\n",
    "    (\"A\", \"Math\"), (\"A\", \"Science\"),\n",
    "    (\"B\", \"Math\"), (\"B\", \"Science\")\n",
    "]\n",
    "index2 = pd.MultiIndex.from_tuples(tuples, names=(\"Alphabet\", \"Subject\"))\n",
    "multi_s2 = pd.Series([70, 75, 80, 82], index=index2)\n",
    "print(\"MultiIndex Series from tuples:\\n\", multi_s2, \"\\n\")\n",
    "\n",
    "#  MULTI-INDEX FROM PRODUCT\n",
    "# Create a MultiIndex Series using the Cartesian product of iterables\n",
    "iterables = [[\"A\", \"B\"], [\"Math\", \"Science\"]]\n",
    "index3 = pd.MultiIndex.from_product(iterables, names=(\"Alphabet\", \"Subject\"))\n",
    "multi_s3 = pd.Series(np.random.randint(60, 100, size=4), index=index3)\n",
    "print(\"MultiIndex Series from product:\\n\", multi_s3, \"\\n\")\n"
   ]
  },
  {
   "cell_type": "code",
   "execution_count": 13,
   "id": "1e6da278-7674-4973-86dd-e4c3213bffdb",
   "metadata": {},
   "outputs": [
    {
     "name": "stdout",
     "output_type": "stream",
     "text": [
      "Access all subjects for 'A':\n",
      " Subject\n",
      "Math       90\n",
      "Science    85\n",
      "dtype: int64 \n",
      "\n",
      "Access specific element (B, Science):\n",
      " 92 \n",
      "\n"
     ]
    }
   ],
   "source": [
    "# ACCESSING DATA\n",
    "# Access all subjects for a letter and specific element\n",
    "print(\"Access all subjects for 'A':\\n\", multi_s.loc[\"A\"], \"\\n\")\n",
    "print(\"Access specific element (B, Science):\\n\", multi_s.loc[(\"B\", \"Science\")], \"\\n\")\n",
    "\n"
   ]
  },
  {
   "cell_type": "code",
   "execution_count": 14,
   "id": "77dbc614-bb72-4800-97b9-48b5a1ef94a6",
   "metadata": {},
   "outputs": [
    {
     "name": "stdout",
     "output_type": "stream",
     "text": [
      "Slicing from A to B:\n",
      " Alphabet  Subject\n",
      "A         Math       90\n",
      "          Science    85\n",
      "B         Math       88\n",
      "          Science    92\n",
      "dtype: int64 \n",
      "\n",
      "Partial slice for all Math:\n",
      " Alphabet\n",
      "A    90\n",
      "B    88\n",
      "dtype: int64 \n",
      "\n"
     ]
    }
   ],
   "source": [
    "#SLICING\n",
    "# Demonstrate slicing by rows and partial columns\n",
    "print(\"Slicing from A to B:\\n\", multi_s.loc[\"A\":\"B\"], \"\\n\")\n",
    "print(\"Partial slice for all Math:\\n\", multi_s.loc[:, \"Math\"], \"\\n\")\n"
   ]
  },
  {
   "cell_type": "code",
   "execution_count": 15,
   "id": "8635cc12-ca7a-4b79-92a7-db73506b6510",
   "metadata": {},
   "outputs": [
    {
     "name": "stdout",
     "output_type": "stream",
     "text": [
      "Swapping levels:\n",
      " Subject  Alphabet\n",
      "Math     A           90\n",
      "Science  A           85\n",
      "Math     B           88\n",
      "Science  B           92\n",
      "dtype: int64 \n",
      "\n",
      "Reordering levels:\n",
      " Subject  Alphabet\n",
      "Math     A           77\n",
      "Science  A           85\n",
      "Math     B           72\n",
      "Science  B           76\n",
      "dtype: int64 \n",
      "\n"
     ]
    }
   ],
   "source": [
    "#REORDERING LEVELS\n",
    "# Swap and reorder levels of MultiIndex Series\n",
    "print(\"Swapping levels:\\n\", multi_s.swaplevel(), \"\\n\")\n",
    "print(\"Reordering levels:\\n\", multi_s3.reorder_levels([\"Subject\", \"Alphabet\"]), \"\\n\")\n"
   ]
  },
  {
   "cell_type": "code",
   "execution_count": 16,
   "id": "3e407808-4412-4283-88fb-2c90b407aac6",
   "metadata": {},
   "outputs": [
    {
     "name": "stdout",
     "output_type": "stream",
     "text": [
      "MultiIndex Series constructed automatically:\n",
      " A  X    0.24273\n",
      "   Y   -0.52901\n",
      "B  X    0.33211\n",
      "   Y   -0.48367\n",
      "dtype: float64 \n",
      "\n",
      "DataFrame with MultiIndex automatically:\n",
      "               Score1    Score2\n",
      "Group1 One  0.441388 -0.019941\n",
      "       Two  0.032215 -0.416864\n",
      "Group2 One  0.794166 -0.434857\n",
      "       Two  0.093989 -0.238952 \n",
      "\n"
     ]
    }
   ],
   "source": [
    "# MULTI-INDEX AUTOMATIC CONSTRUCTION \n",
    "# Create MultiIndex Series and DataFrame automatically\n",
    "multi_s_auto = pd.Series(\n",
    "    np.random.randn(4),\n",
    "    index=pd.MultiIndex.from_arrays([[\"A\", \"A\", \"B\", \"B\"], [\"X\", \"Y\", \"X\", \"Y\"]])\n",
    ")\n",
    "print(\"MultiIndex Series constructed automatically:\\n\", multi_s_auto, \"\\n\")\n",
    "\n",
    "df_auto = pd.DataFrame(\n",
    "    np.random.randn(4, 2),\n",
    "    index=pd.MultiIndex.from_arrays([[\"Group1\", \"Group1\", \"Group2\", \"Group2\"],\n",
    "                                     [\"One\", \"Two\", \"One\", \"Two\"]]),\n",
    "    columns=[\"Score1\", \"Score2\"]\n",
    ")\n",
    "print(\"DataFrame with MultiIndex automatically:\\n\", df_auto, \"\\n\")\n"
   ]
  },
  {
   "cell_type": "code",
   "execution_count": 17,
   "id": "b887e55f-2687-455a-9d64-ef6a3f4fa274",
   "metadata": {},
   "outputs": [
    {
     "name": "stdout",
     "output_type": "stream",
     "text": [
      "Original DataFrame:\n",
      "        Math  Science\n",
      "A one    85       82\n",
      "  two    90       88\n",
      "B one    95       92\n",
      "  two    80       84 \n",
      "\n",
      "Mean by group:\n",
      "    Math  Science\n",
      "A  87.5     85.0\n",
      "B  87.5     88.0 \n",
      "\n",
      "Reindexed to align with original index:\n",
      "        Math  Science\n",
      "A one  87.5     85.0\n",
      "  two  87.5     85.0\n",
      "B one  87.5     88.0\n",
      "  two  87.5     88.0 \n",
      "\n"
     ]
    }
   ],
   "source": [
    " # GROUPBY AND RE-INDEX \n",
    "# Group by MultiIndex level and reindex to align with original\n",
    "df = pd.DataFrame({\n",
    "    \"Math\": [85, 90, 95, 80],\n",
    "    \"Science\": [82, 88, 92, 84]\n",
    "}, index=pd.MultiIndex.from_arrays([[\"A\", \"A\", \"B\", \"B\"], [\"one\", \"two\", \"one\", \"two\"]]))\n",
    "print(\"Original DataFrame:\\n\", df, \"\\n\")\n",
    "\n",
    "mean_by_group = df.groupby(level=0).mean()\n",
    "print(\"Mean by group:\\n\", mean_by_group, \"\\n\")\n",
    "\n",
    "aligned = mean_by_group.reindex(df.index, level=0)\n",
    "print(\"Reindexed to align with original index:\\n\", aligned, \"\\n\")\n"
   ]
  },
  {
   "cell_type": "code",
   "execution_count": 18,
   "id": "d24e206e-5ff5-4065-8419-3e8b16f52821",
   "metadata": {},
   "outputs": [
    {
     "name": "stdout",
     "output_type": "stream",
     "text": [
      "Cross-section for level 'two':\n",
      "    Math  Science\n",
      "A    90       88\n",
      "B    80       84 \n",
      "\n",
      "Unsorted MultiIndex Series:\n",
      " B  X    0.33211\n",
      "   Y   -0.48367\n",
      "A  Y   -0.52901\n",
      "   X    0.24273\n",
      "dtype: float64 \n",
      "\n",
      "Sorted by index:\n",
      " A  X    0.24273\n",
      "   Y   -0.52901\n",
      "B  X    0.33211\n",
      "   Y   -0.48367\n",
      "dtype: float64 \n",
      "\n"
     ]
    }
   ],
   "source": [
    "# CROSS-SECTION\n",
    "# Select rows from a specific level\n",
    "print(\"Cross-section for level 'two':\\n\", df.xs(\"two\", level=1), \"\\n\")\n",
    "\n",
    "#SORTING MULTI-INDEX\n",
    "# Shuffle MultiIndex Series and sort by index\n",
    "unsorted = multi_s_auto.sample(frac=1)\n",
    "print(\"Unsorted MultiIndex Series:\\n\", unsorted, \"\\n\")\n",
    "print(\"Sorted by index:\\n\", unsorted.sort_index(), \"\\n\")\n"
   ]
  },
  {
   "cell_type": "code",
   "execution_count": 19,
   "id": "8583cc55-0343-471d-a7cc-39c69d74c364",
   "metadata": {},
   "outputs": [
    {
     "name": "stdout",
     "output_type": "stream",
     "text": [
      "DataFrame with MultiIndex columns:\n",
      " Type    Score        \n",
      "Subject  Math Science\n",
      "0          85      82\n",
      "1          90      88\n",
      "2          95      92\n",
      "3          80      84 \n",
      "\n",
      "Columns before removing unused levels:\n",
      " MultiIndex([('Score', 'Math')],\n",
      "           ) \n",
      "\n",
      "Columns after remove_unused_levels:\n",
      " MultiIndex([('Score', 'Math')],\n",
      "           ) \n",
      "\n"
     ]
    }
   ],
   "source": [
    "# MultiIndex columns + remove_unused_levels \n",
    "# Create a DataFrame with MultiIndex columns and demonstrate removing unused levels\n",
    "arrays = [[\"Score\", \"Score\"], [\"Math\", \"Science\"]]\n",
    "multi_columns = pd.MultiIndex.from_arrays(arrays, names=[\"Type\", \"Subject\"])\n",
    "\n",
    "df_multi = pd.DataFrame(\n",
    "    [[85, 82], [90, 88], [95, 92], [80, 84]],\n",
    "    columns=multi_columns\n",
    ")\n",
    "print(\"DataFrame with MultiIndex columns:\\n\", df_multi, \"\\n\")\n",
    "\n",
    "# Drop one column (Math only) and remove unused levels\n",
    "sub_df = df_multi[(\"Score\", \"Math\")].to_frame()\n",
    "print(\"Columns before removing unused levels:\\n\", sub_df.columns, \"\\n\")\n",
    "print(\"Columns after remove_unused_levels:\\n\", sub_df.columns.remove_unused_levels(), \"\\n\")\n"
   ]
  },
  {
   "cell_type": "code",
   "execution_count": null,
   "id": "5b2cb262-a24d-45b7-8d50-4b53fb58b63b",
   "metadata": {},
   "outputs": [],
   "source": []
  }
 ],
 "metadata": {
  "kernelspec": {
   "display_name": "Python 3 (ipykernel)",
   "language": "python",
   "name": "python3"
  },
  "language_info": {
   "codemirror_mode": {
    "name": "ipython",
    "version": 3
   },
   "file_extension": ".py",
   "mimetype": "text/x-python",
   "name": "python",
   "nbconvert_exporter": "python",
   "pygments_lexer": "ipython3",
   "version": "3.8.8"
  }
 },
 "nbformat": 4,
 "nbformat_minor": 5
}
