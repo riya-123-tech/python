{
 "cells": [
  {
   "cell_type": "markdown",
   "id": "7d9a5818-bb59-4ef9-8e6a-a10077bae6c3",
   "metadata": {},
   "source": [
    "STORAGE INSTRUCTIONS\n",
    "USE DICT, NESTED DICT, USE LIST INSIDE A DICT, COLLECTION OF DICT AS 1 DICT\n",
    "\n",
    "TRY LOOPING THROUGH LIST FOR ENTIRE OR SOME SPECIFIC VAL ( SHOULD NOT GIVE ERROR IF NO VAL IS PRESENT SO ASSIGN DEFAULT VAL)\n",
    "RETRIEVAL BY VALUE\n",
    "\n",
    "CREATA BASIC DB AND USE APPEND, ABLE TO SEE LAST 4 ELEMENTS, DEMONSTRATE SEQ UNPACKING"
   ]
  },
  {
   "cell_type": "code",
   "execution_count": 5,
   "id": "db7b3ce1-3d07-42b7-8572-4a4c55cb8eb0",
   "metadata": {},
   "outputs": [
    {
     "name": "stdout",
     "output_type": "stream",
     "text": [
      "\n",
      "====== Medical Database Menu ======\n",
      "1. Add new patient\n",
      "2. Find patient by name\n",
      "3. List all diagnoses\n",
      "4. Show last 4 patient entries\n",
      "5. Unpack first patient record\n",
      "6. Exit\n"
     ]
    },
    {
     "name": "stdin",
     "output_type": "stream",
     "text": [
      "Enter your choice (1-6):  2\n",
      "\n",
      "Enter patient name to search:  Keshav\n"
     ]
    },
    {
     "name": "stdout",
     "output_type": "stream",
     "text": [
      "No patient found with that name.\n",
      "\n",
      "\n",
      "====== Medical Database Menu ======\n",
      "1. Add new patient\n",
      "2. Find patient by name\n",
      "3. List all diagnoses\n",
      "4. Show last 4 patient entries\n",
      "5. Unpack first patient record\n",
      "6. Exit\n"
     ]
    },
    {
     "name": "stdin",
     "output_type": "stream",
     "text": [
      "Enter your choice (1-6):  1\n"
     ]
    },
    {
     "name": "stdout",
     "output_type": "stream",
     "text": [
      "\n",
      "--- Enter New Patient Details ---\n"
     ]
    },
    {
     "name": "stdin",
     "output_type": "stream",
     "text": [
      "Patient Name:  Kaushik\n",
      "Age:  21\n",
      "Gender:  male\n",
      "Enter symptoms (comma separated):  cold,fever\n",
      "Enter diagnoses (comma separated):  none\n",
      "Enter medications (comma separated):  tablets\n"
     ]
    },
    {
     "name": "stdout",
     "output_type": "stream",
     "text": [
      "\n",
      " Patient Kaushik added successfully!\n",
      "\n",
      "\n",
      "====== Medical Database Menu ======\n",
      "1. Add new patient\n",
      "2. Find patient by name\n",
      "3. List all diagnoses\n",
      "4. Show last 4 patient entries\n",
      "5. Unpack first patient record\n",
      "6. Exit\n"
     ]
    },
    {
     "name": "stdin",
     "output_type": "stream",
     "text": [
      "Enter your choice (1-6):  1\n"
     ]
    },
    {
     "name": "stdout",
     "output_type": "stream",
     "text": [
      "\n",
      "--- Enter New Patient Details ---\n"
     ]
    },
    {
     "name": "stdin",
     "output_type": "stream",
     "text": [
      "Patient Name:  dharshini\n",
      "Age:  20\n",
      "Gender:  female\n",
      "Enter symptoms (comma separated):  cough,fever\n",
      "Enter diagnoses (comma separated):  none\n",
      "Enter medications (comma separated):  pills\n"
     ]
    },
    {
     "name": "stdout",
     "output_type": "stream",
     "text": [
      "\n",
      " Patient dharshini added successfully!\n",
      "\n",
      "\n",
      "====== Medical Database Menu ======\n",
      "1. Add new patient\n",
      "2. Find patient by name\n",
      "3. List all diagnoses\n",
      "4. Show last 4 patient entries\n",
      "5. Unpack first patient record\n",
      "6. Exit\n"
     ]
    },
    {
     "name": "stdin",
     "output_type": "stream",
     "text": [
      "Enter your choice (1-6):  4\n"
     ]
    },
    {
     "name": "stdout",
     "output_type": "stream",
     "text": [
      "\n",
      "--- Last 4 Patients ---\n",
      "{'id': 1, 'name': 'Kaushik', 'age': '21', 'gender': 'male', 'symptoms': ['cold', 'fever'], 'diagnoses': ['none'], 'medications': ['tablets']}\n",
      "{'id': 2, 'name': 'dharshini', 'age': '20', 'gender': 'female', 'symptoms': ['cough', 'fever'], 'diagnoses': ['none'], 'medications': ['pills']}\n",
      "\n",
      "====== Medical Database Menu ======\n",
      "1. Add new patient\n",
      "2. Find patient by name\n",
      "3. List all diagnoses\n",
      "4. Show last 4 patient entries\n",
      "5. Unpack first patient record\n",
      "6. Exit\n"
     ]
    },
    {
     "name": "stdin",
     "output_type": "stream",
     "text": [
      "Enter your choice (1-6):  6\n"
     ]
    },
    {
     "name": "stdout",
     "output_type": "stream",
     "text": [
      "Exiting Medical DB. Bye!\n"
     ]
    }
   ],
   "source": [
    "medical_db = {\n",
    "    \"patients\": []  # List of dicts; each dict = one patient record\n",
    "}\n",
    "\n",
    "\n",
    "def add_patient():\n",
    "    print(\"\\n--- Enter New Patient Details ---\")\n",
    "    name = input(\"Patient Name: \").strip()\n",
    "    age = input(\"Age: \").strip()\n",
    "    gender = input(\"Gender: \").strip()\n",
    "\n",
    "    symptoms_input = input(\"Enter symptoms (comma separated): \").strip()\n",
    "    symptoms = [s.strip() for s in symptoms_input.split(\",\") if s.strip()] or []\n",
    "\n",
    "    diagnoses_input = input(\"Enter diagnoses (comma separated): \").strip()\n",
    "    diagnoses = [d.strip() for d in diagnoses_input.split(\",\") if d.strip()] or []\n",
    "\n",
    "    medications_input = input(\"Enter medications (comma separated): \").strip()\n",
    "    medications = [m.strip() for m in medications_input.split(\",\") if m.strip()] or []\n",
    "\n",
    "    patient_id = len(medical_db[\"patients\"]) + 1\n",
    "    patient = {\n",
    "        \"id\": patient_id,\n",
    "        \"name\": name,\n",
    "        \"age\": age,\n",
    "        \"gender\": gender,\n",
    "        \"symptoms\": symptoms,\n",
    "        \"diagnoses\": diagnoses,\n",
    "        \"medications\": medications\n",
    "    }\n",
    "\n",
    "    medical_db[\"patients\"].append(patient)\n",
    "    print(f\"\\n Patient {name} added successfully!\\n\")\n",
    "\n",
    "def find_patient_by_name():\n",
    "    name = input(\"\\nEnter patient name to search: \").strip()\n",
    "    found = [p for p in medical_db[\"patients\"] if p[\"name\"].lower() == name.lower()]\n",
    "    if not found:\n",
    "        print(\"No patient found with that name.\\n\")\n",
    "    else:\n",
    "        print(\"Patient(s) found:\\n\")\n",
    "        for p in found:\n",
    "            print(p)\n",
    "\n",
    "def list_all_diagnoses():\n",
    "    print(\"\\n--- All Diagnoses ---\")\n",
    "    for patient in medical_db[\"patients\"]:\n",
    "        diagnoses = patient.get(\"diagnoses\", [])\n",
    "        if diagnoses:\n",
    "            print(f\"{patient['name']}: {', '.join(diagnoses)}\")\n",
    "        else:\n",
    "            print(f\"{patient['name']}: No diagnoses recorded.\")\n",
    "\n",
    "def show_last_four_patients():\n",
    "    print(\"\\n--- Last 4 Patients ---\")\n",
    "    for patient in medical_db[\"patients\"][-4:]:\n",
    "        print(patient)\n",
    "\n",
    "def unpack_first_patient():\n",
    "    if not medical_db[\"patients\"]:\n",
    "        print(\"No patient to unpack.\\n\")\n",
    "        return\n",
    "\n",
    "    patient = medical_db[\"patients\"][0]\n",
    "    id_, name, age, gender = patient[\"id\"], patient[\"name\"], patient[\"age\"], patient[\"gender\"]\n",
    "    print(f\"\\n--- Sequence Unpacking ---\")\n",
    "    print(f\"ID: {id_}, Name: {name}, Age: {age}, Gender: {gender}\")\n",
    "\n",
    "def main_menu():\n",
    "    while True:\n",
    "        print(\"\\n====== Medical Database Menu ======\")\n",
    "        print(\"1. Add new patient\")\n",
    "        print(\"2. Find patient by name\")\n",
    "        print(\"3. List all diagnoses\")\n",
    "        print(\"4. Show last 4 patient entries\")\n",
    "        print(\"5. Unpack first patient record\")\n",
    "        print(\"6. Exit\")\n",
    "        choice = input(\"Enter your choice (1-6): \").strip()\n",
    "\n",
    "        if choice == \"1\":\n",
    "            add_patient()\n",
    "        elif choice == \"2\":\n",
    "            find_patient_by_name()\n",
    "        elif choice == \"3\":\n",
    "            list_all_diagnoses()\n",
    "        elif choice == \"4\":\n",
    "            show_last_four_patients()\n",
    "        elif choice == \"5\":\n",
    "            unpack_first_patient()\n",
    "        elif choice == \"6\":\n",
    "            print(\"Exiting Medical DB. Bye!\")\n",
    "            break\n",
    "        else:\n",
    "            print(\"Invalid choice. Please enter a number from 1 to 6.\")\n",
    "\n",
    "main_menu()\n"
   ]
  },
  {
   "cell_type": "code",
   "execution_count": null,
   "id": "3b594772-5834-43f1-84df-6f469f0ea1b0",
   "metadata": {},
   "outputs": [],
   "source": []
  }
 ],
 "metadata": {
  "kernelspec": {
   "display_name": "Python 3 (ipykernel)",
   "language": "python",
   "name": "python3"
  },
  "language_info": {
   "codemirror_mode": {
    "name": "ipython",
    "version": 3
   },
   "file_extension": ".py",
   "mimetype": "text/x-python",
   "name": "python",
   "nbconvert_exporter": "python",
   "pygments_lexer": "ipython3",
   "version": "3.12.7"
  }
 },
 "nbformat": 4,
 "nbformat_minor": 5
}
