{
 "cells": [
  {
   "cell_type": "code",
   "execution_count": 1,
   "id": "8f3d1a80",
   "metadata": {},
   "outputs": [
    {
     "name": "stdout",
     "output_type": "stream",
     "text": [
      "Sleeping for 1 second...\n",
      "Done sleeping\n",
      "Finished in 1.01 seconds\n"
     ]
    }
   ],
   "source": [
    "import time\n",
    "\n",
    "# start timer\n",
    "start_time = time.perf_counter()\n",
    "\n",
    "def pause_for_a_sec():\n",
    "    # wait for 1 sec\n",
    "    print(\"Sleeping for 1 second...\")\n",
    "    time.sleep(1)\n",
    "    print(\"Done sleeping\")\n",
    "\n",
    "# run the function\n",
    "pause_for_a_sec()\n",
    "\n",
    "# stop timer\n",
    "end_time = time.perf_counter()\n",
    "\n",
    "# show total time\n",
    "print(f\"Finished in {round(end_time - start_time, 2)} seconds\")\n"
   ]
  },
  {
   "cell_type": "code",
   "execution_count": 2,
   "id": "af627d28",
   "metadata": {},
   "outputs": [
    {
     "name": "stdout",
     "output_type": "stream",
     "text": [
      "Sleeping for 1 second...\n",
      "Done sleeping\n",
      "Sleeping for 1 second...\n",
      "Done sleeping\n",
      "Finished in 2.01 seconds\n"
     ]
    }
   ],
   "source": [
    "import time\n",
    "\n",
    "# start timer\n",
    "start_time = time.perf_counter()\n",
    "\n",
    "def pause_for_a_sec():\n",
    "    # pause for a second\n",
    "    print(\"Sleeping for 1 second...\")\n",
    "    time.sleep(1)\n",
    "    print(\"Done sleeping\")\n",
    "\n",
    "# run the function twice\n",
    "pause_for_a_sec()\n",
    "pause_for_a_sec()\n",
    "\n",
    "# stop timer\n",
    "end_time = time.perf_counter()\n",
    "\n",
    "# print total time\n",
    "print(f\"Finished in {round(end_time - start_time, 2)} seconds\")\n"
   ]
  },
  {
   "cell_type": "code",
   "execution_count": null,
   "id": "8a40b14a",
   "metadata": {},
   "outputs": [],
   "source": [
    "# The function is not doing anything on the CPU, just waiting for a second"
   ]
  },
  {
   "cell_type": "markdown",
   "id": "420bf15b",
   "metadata": {},
   "source": [
    "photo"
   ]
  },
  {
   "cell_type": "code",
   "execution_count": 4,
   "id": "26bcb44e",
   "metadata": {},
   "outputs": [],
   "source": [
    "# Two types of tasks:\n",
    "# 1. CPU bound → heavy computations (big datasets, calculations)\n",
    "# 2. I/O bound → waiting tasks (file read/write, network, downloads)\n",
    "\n",
    "# Threading works best for I/O bound tasks.\n",
    "# Not great for CPU bound work (thread overhead slows things down).\n",
    "# For CPU-heavy work, multiprocessing is better (true parallelism).\n",
    "\n",
    "# THREADS:\n",
    "# Threads don’t actually run code at the exact same time.\n",
    "# They switch quickly, so it *feels* like parallel work.\n",
    "# When one thread waits (I/O), another thread runs in the meantime."
   ]
  },
  {
   "cell_type": "code",
   "execution_count": 1,
   "id": "e988e4ac",
   "metadata": {},
   "outputs": [
    {
     "name": "stdout",
     "output_type": "stream",
     "text": [
      "Sleeping 1 second...Sleeping 1 second...\n",
      "\n",
      "Sleeping 1 second...\n",
      "Sleeping 1 second...\n",
      "Sleeping 1 second...\n",
      "Sleeping 1 second...\n",
      "Sleeping 1 second...\n",
      "Sleeping 1 second...\n",
      "Sleeping 1 second...\n",
      "Sleeping 1 second...\n",
      "Done SleepingDone Sleeping\n",
      "\n",
      "Done SleepingDone Sleeping\n",
      "\n",
      "Done SleepingDone Sleeping\n",
      "\n",
      "Done SleepingDone Sleeping\n",
      "\n",
      "Done Sleeping\n",
      "Done Sleeping\n",
      "Finished in 1.01 seconds\n"
     ]
    }
   ],
   "source": [
    "# Multiple Threads Using a Loop\n",
    "\n",
    "import threading\n",
    "import time\n",
    "\n",
    "start = time.perf_counter()\n",
    "\n",
    "def do_something():\n",
    "    print(\"Sleeping 1 second...\")\n",
    "    time.sleep(1)\n",
    "    print(\"Done Sleeping\")\n",
    "\n",
    "threads = []\n",
    "\n",
    "# Start 10 threads\n",
    "for _ in range(10):\n",
    "    t = threading.Thread(target=do_something)\n",
    "    t.start()\n",
    "    threads.append(t)\n",
    "\n",
    "# Wait for all threads\n",
    "for thread in threads:\n",
    "    thread.join()\n",
    "\n",
    "finish = time.perf_counter()\n",
    "print(f\"Finished in {round(finish-start,2)} seconds\")  # ~1 second"
   ]
  },
  {
   "cell_type": "code",
   "execution_count": 2,
   "id": "e1d123bc",
   "metadata": {},
   "outputs": [
    {
     "name": "stdout",
     "output_type": "stream",
     "text": [
      "Sleeping 1 second...\n",
      "Sleeping 1 second...\n",
      "Done Sleeping\n",
      "Done Sleeping\n",
      "Finished in 1.01 seconds\n"
     ]
    }
   ],
   "source": [
    "\n",
    "# Using join() to Wait for Threads\n",
    "\n",
    "import threading\n",
    "import time\n",
    "\n",
    "start = time.perf_counter()\n",
    "\n",
    "def do_something():\n",
    "    print(\"Sleeping 1 second...\")\n",
    "    time.sleep(1)\n",
    "    print(\"Done Sleeping\")\n",
    "\n",
    "# Creating threads\n",
    "t1 = threading.Thread(target=do_something)\n",
    "t2 = threading.Thread(target=do_something)\n",
    "\n",
    "t1.start()\n",
    "t2.start()\n",
    "\n",
    "# Wait for both threads to finish\n",
    "t1.join()\n",
    "t2.join()\n",
    "\n",
    "finish = time.perf_counter()\n",
    "print(f\"Finished in {round(finish-start,2)} seconds\")  # ~1 second"
   ]
  },
  {
   "cell_type": "code",
   "execution_count": 4,
   "id": "db6f97f1",
   "metadata": {},
   "outputs": [
    {
     "name": "stdout",
     "output_type": "stream",
     "text": [
      "Sleeping 1.5 second(s)...\n",
      "Sleeping 1.5 second(s)...\n",
      "Sleeping 1.5 second(s)...Sleeping 1.5 second(s)...\n",
      "\n",
      "Sleeping 1.5 second(s)...\n",
      "Sleeping 1.5 second(s)...\n",
      "Sleeping 1.5 second(s)...\n",
      "Sleeping 1.5 second(s)...\n",
      "Sleeping 1.5 second(s)...Sleeping 1.5 second(s)...\n",
      "\n",
      "Done SleepingDone Sleeping\n",
      "\n",
      "Done SleepingDone Sleeping\n",
      "Done Sleeping\n",
      "\n",
      "Done SleepingDone Sleeping\n",
      "\n",
      "Done Sleeping\n",
      "Done Sleeping\n",
      "Done Sleeping\n",
      "Finished in 1.51 seconds\n"
     ]
    }
   ],
   "source": [
    "# Threads with Function Arguments\n",
    "\n",
    "import threading\n",
    "import time\n",
    "\n",
    "start = time.perf_counter()\n",
    "\n",
    "def do_something(seconds):\n",
    "    print(f\"Sleeping {seconds} second(s)...\")\n",
    "    time.sleep(seconds)\n",
    "    print(\"Done Sleeping\")\n",
    "\n",
    "threads = []\n",
    "\n",
    "for _ in range(10):\n",
    "    t = threading.Thread(target=do_something, args=[1.5])  # Pass 1.5 as argument\n",
    "    t.start()\n",
    "    threads.append(t)\n",
    "\n",
    "for thread in threads:\n",
    "    thread.join()\n",
    "\n",
    "finish = time.perf_counter()\n",
    "print(f\"Finished in {round(finish-start,2)} seconds\")  # ~1.5 seconds"
   ]
  },
  {
   "cell_type": "code",
   "execution_count": 5,
   "id": "f94e052e",
   "metadata": {},
   "outputs": [
    {
     "name": "stdout",
     "output_type": "stream",
     "text": [
      "Sleeping 1 second(s)...Sleeping 1 second(s)...\n",
      "\n",
      "Sleeping 1 second(s)...\n",
      "Sleeping 1 second(s)...\n",
      "Sleeping 1 second(s)...\n",
      "Done Sleeping for 1 sec\n",
      "Done Sleeping for 1 sec\n",
      "Done Sleeping for 1 sec\n",
      "Done Sleeping for 1 sec\n",
      "Done Sleeping for 1 sec\n",
      "Finished in 1.01 seconds\n"
     ]
    }
   ],
   "source": [
    "# ThreadPoolExecutor (Cleaner Way)\n",
    "\n",
    "import concurrent.futures\n",
    "import time\n",
    "\n",
    "start = time.perf_counter()\n",
    "\n",
    "def do_something(seconds):\n",
    "    print(f\"Sleeping {seconds} second(s)...\")\n",
    "    time.sleep(seconds)\n",
    "    return f\"Done Sleeping for {seconds} sec\"\n",
    "\n",
    "with concurrent.futures.ThreadPoolExecutor() as executor:\n",
    "    results = [executor.submit(do_something, 1) for _ in range(5)]  # 5 threads\n",
    "\n",
    "    for f in concurrent.futures.as_completed(results):\n",
    "        print(f.result())\n",
    "\n",
    "finish = time.perf_counter()\n",
    "print(f\"Finished in {round(finish-start,2)} seconds\")"
   ]
  },
  {
   "cell_type": "code",
   "execution_count": 7,
   "id": "4999857c",
   "metadata": {},
   "outputs": [
    {
     "name": "stdout",
     "output_type": "stream",
     "text": [
      "riya\n",
      "27\n",
      "palak\n",
      "30\n",
      "tanvi\n",
      "37\n",
      "tamanna\n",
      "27\n"
     ]
    }
   ],
   "source": [
    "#Printing Names and Ages in Threads\n",
    "\n",
    "import threading\n",
    "import time\n",
    "import random\n",
    "\n",
    "# Function to print names\n",
    "def print_names():\n",
    "    for name in ('riya', 'palak', 'tanvi', 'tamanna'):\n",
    "        print(name)\n",
    "        time.sleep(random.uniform(0.5, 1.5))  # Sleep between 0.5–1.5 sec\n",
    "\n",
    "# Function to print random ages\n",
    "def print_ages():\n",
    "    for _ in range(4):\n",
    "        print(random.randint(20, 50))\n",
    "        time.sleep(random.uniform(0.5, 1.5))\n",
    "\n",
    "# Creating threads\n",
    "t1 = threading.Thread(target=print_names)\n",
    "t2 = threading.Thread(target=print_ages)\n",
    "\n",
    "t1.start()\n",
    "t2.start()\n",
    "\n",
    "t1.join()\n",
    "t2.join()"
   ]
  },
  {
   "cell_type": "code",
   "execution_count": 9,
   "id": "09c1664b",
   "metadata": {},
   "outputs": [
    {
     "name": "stdout",
     "output_type": "stream",
     "text": [
      "Sleeping 5 second(s)...\n",
      "Sleeping 4 second(s)...\n",
      "Sleeping 3 second(s)...Sleeping 2 second(s)...Sleeping 1 second(s)...\n",
      "\n",
      "\n",
      "Done Sleeping...1\n",
      "Done Sleeping...2\n",
      "Done Sleeping...3\n",
      "Done Sleeping...4\n",
      "Done Sleeping...5\n",
      "Finished in 5.01 seconds\n"
     ]
    }
   ],
   "source": [
    "import concurrent.futures\n",
    "import time\n",
    "\n",
    "start = time.perf_counter()\n",
    "\n",
    "# Function that sleeps for given seconds\n",
    "def do_something(seconds):\n",
    "    print(f'Sleeping {seconds} second(s)...')\n",
    "    time.sleep(seconds)\n",
    "    return f'Done Sleeping...{seconds}'\n",
    "\n",
    "# Using ThreadPoolExecutor to run multiple threads concurrently\n",
    "with concurrent.futures.ThreadPoolExecutor() as executor:\n",
    "    s = [5, 4, 3, 2, 1]  # Different sleep times for threads\n",
    "    # Submit tasks to executor\n",
    "    results = [executor.submit(do_something, sec) for sec in s]  \n",
    "\n",
    "    # Retrieve results as they complete\n",
    "    for f in concurrent.futures.as_completed(results):\n",
    "        print(f.result())\n",
    "\n",
    "finish = time.perf_counter()\n",
    "print(f'Finished in {round(finish - start, 2)} seconds')\n"
   ]
  },
  {
   "cell_type": "code",
   "execution_count": 11,
   "id": "35c59b90",
   "metadata": {},
   "outputs": [
    {
     "name": "stdout",
     "output_type": "stream",
     "text": [
      "Downloading https://raw.githubusercontent.com/riya-123-tech/python/main/1 AUG Activity.ipynb -> downloads/1 AUG Activity.ipynb\n",
      "Downloading https://raw.githubusercontent.com/riya-123-tech/python/main/Lab_Activity_6_Quiz.docx -> downloads/Lab_Activity_6_Quiz.docxDownloading https://raw.githubusercontent.com/riya-123-tech/python/main/README.md -> downloads/README.md\n",
      "\n",
      "Downloading https://raw.githubusercontent.com/riya-123-tech/python/main/lab 12 22mid0356 pandascsv.ipynb -> downloads/lab 12 22mid0356 pandascsv.ipynb\n",
      "Downloading https://raw.githubusercontent.com/riya-123-tech/python/main/lab 13 22mid0356 numpy .ipynb -> downloads/lab 13 22mid0356 numpy .ipynb\n",
      "Downloading https://raw.githubusercontent.com/riya-123-tech/python/main/lab-9_22MID0356.ipynb -> downloads/lab-9_22MID0356.ipynbDownloading https://raw.githubusercontent.com/riya-123-tech/python/main/lab3.ipynb -> downloads/lab3.ipynb\n",
      "\n",
      "Downloading https://raw.githubusercontent.com/riya-123-tech/python/main/lab4_22mid0356.ipynb -> downloads/lab4_22mid0356.ipynb\n",
      "Downloading https://raw.githubusercontent.com/riya-123-tech/python/main/lab4_22mid0356.ipynb.webloc -> downloads/lab4_22mid0356.ipynb.webloc\n",
      "Downloading https://raw.githubusercontent.com/riya-123-tech/python/main/lab5_22mid0356.ipynb -> downloads/lab5_22mid0356.ipynbDownloading https://raw.githubusercontent.com/riya-123-tech/python/main/lab7 22mid0356.ipynb -> downloads/lab7 22mid0356.ipynb\n",
      "\n",
      "Finished Downloading downloads/lab 13 22mid0356 numpy .ipynb\n",
      "Finished Downloading downloads/README.md\n",
      "Finished Downloading downloads/1 AUG Activity.ipynb\n",
      "Finished Downloading downloads/lab 12 22mid0356 pandascsv.ipynb\n",
      "Finished Downloading downloads/lab4_22mid0356.ipynb\n",
      "Finished Downloading downloads/lab4_22mid0356.ipynb.webloc\n",
      "Finished Downloading downloads/lab-9_22MID0356.ipynb\n",
      "Finished Downloading downloads/lab3.ipynb\n",
      "Finished Downloading downloads/lab7 22mid0356.ipynb\n",
      "Finished Downloading downloads/lab5_22mid0356.ipynb\n",
      "Finished Downloading downloads/Lab_Activity_6_Quiz.docx\n",
      " All repo files downloaded successfully!\n"
     ]
    }
   ],
   "source": [
    "# Multi-threaded GitHub Repo Downloader for your repo\n",
    "\n",
    "import threading\n",
    "import requests\n",
    "from pathlib import Path\n",
    "import os\n",
    "\n",
    "# Ensure download folder exists\n",
    "os.makedirs(\"downloads\", exist_ok=True)\n",
    "\n",
    "# Function to download a single file\n",
    "def download_file(url, filename):\n",
    "    \"\"\"Download a file from a URL and save it locally.\"\"\"\n",
    "    print(f\"Downloading {url} -> {filename}\")\n",
    "    response = requests.get(url)\n",
    "    Path(filename).write_bytes(response.content)\n",
    "    print(f\"Finished Downloading {filename}\")\n",
    "\n",
    "# Your GitHub repo info\n",
    "username = \"riya-123-tech\"\n",
    "repo = \"python\"\n",
    "branch = \"main\"\n",
    "\n",
    "# GitHub API URL to list repo contents\n",
    "api_url = f\"https://api.github.com/repos/{username}/{repo}/contents\"\n",
    "\n",
    "# Fetch file list from GitHub API\n",
    "response = requests.get(api_url)\n",
    "if response.status_code != 200:\n",
    "    raise Exception(f\"GitHub API error: {response.status_code}\")\n",
    "\n",
    "files = response.json()\n",
    "\n",
    "# Start threads to download each file\n",
    "threads = []\n",
    "for file in files:\n",
    "    if file[\"type\"] == \"file\":  # only download files, skip folders\n",
    "        raw_url = f\"https://raw.githubusercontent.com/{username}/{repo}/{branch}/{file['name']}\"\n",
    "        filename = \"downloads/\" + file[\"name\"]\n",
    "        t = threading.Thread(target=download_file, args=(raw_url, filename))\n",
    "        t.start()\n",
    "        threads.append(t)\n",
    "\n",
    "# Wait for all downloads to finish\n",
    "for t in threads:\n",
    "    t.join()\n",
    "\n",
    "print(\" All repo files downloaded successfully!\")\n"
   ]
  },
  {
   "cell_type": "code",
   "execution_count": null,
   "id": "30436522",
   "metadata": {},
   "outputs": [],
   "source": []
  }
 ],
 "metadata": {
  "kernelspec": {
   "display_name": "Python 3",
   "language": "python",
   "name": "python3"
  },
  "language_info": {
   "codemirror_mode": {
    "name": "ipython",
    "version": 3
   },
   "file_extension": ".py",
   "mimetype": "text/x-python",
   "name": "python",
   "nbconvert_exporter": "python",
   "pygments_lexer": "ipython3",
   "version": "3.8.8"
  }
 },
 "nbformat": 4,
 "nbformat_minor": 5
}
