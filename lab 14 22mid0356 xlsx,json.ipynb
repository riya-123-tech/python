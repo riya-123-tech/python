{
 "cells": [
  {
   "cell_type": "markdown",
   "id": "73bcfec5",
   "metadata": {},
   "source": [
    "# Handling Excel Data"
   ]
  },
  {
   "cell_type": "code",
   "execution_count": 2,
   "id": "30228023",
   "metadata": {},
   "outputs": [
    {
     "name": "stdout",
     "output_type": "stream",
     "text": [
      "Football Excel file 'football_data.xlsx' created successfully!\n"
     ]
    }
   ],
   "source": [
    "#creating xlsx file \n",
    "import pandas as pd\n",
    "data = {\n",
    "    \"Player\": [\n",
    "        \"Lionel Messi\", \"Cristiano Ronaldo\", \"Kylian Mbappé\", \"Erling Haaland\",\n",
    "        \"Kevin De Bruyne\", \"Robert Lewandowski\", \"Neymar Jr\", \"Mohamed Salah\",\n",
    "        \"Virgil van Dijk\", \"Luka Modrić\", \"Karim Benzema\", \"Harry Kane\",\n",
    "        \"Sadio Mané\", \"Bruno Fernandes\", \"Sergio Ramos\", \"Gianluigi Donnarumma\",\n",
    "        \"Son Heung-min\", \"Pedri\", \"Jude Bellingham\", \"Phil Foden\"\n",
    "    ],\n",
    "    \"Club\": [\n",
    "        \"Inter Miami\", \"Al Nassr\", \"PSG\", \"Manchester City\", \"Manchester City\",\n",
    "        \"Barcelona\", \"Al Hilal\", \"Liverpool\", \"Liverpool\", \"Real Madrid\",\n",
    "        \"Real Madrid\", \"Bayern Munich\", \"Al Nassr\", \"Manchester United\",\n",
    "        \"Sevilla\", \"PSG\", \"Tottenham\", \"Barcelona\", \"Real Madrid\", \"Manchester City\"\n",
    "    ],\n",
    "    \"Country\": [\n",
    "        \"Argentina\", \"Portugal\", \"France\", \"Norway\", \"Belgium\", \"Poland\",\n",
    "        \"Brazil\", \"Egypt\", \"Netherlands\", \"Croatia\", \"France\", \"England\",\n",
    "        \"Senegal\", \"Portugal\", \"Spain\", \"Italy\", \"South Korea\", \"Spain\",\n",
    "        \"England\", \"England\"\n",
    "    ],\n",
    "    \"Goals\": [30, 28, 35, 42, 15, 25, 20, 26, 5, 8, 22, 24, 18, 12, 7, 0, 21, 4, 11, 13],\n",
    "    \"Assists\": [12, 10, 9, 6, 20, 5, 14, 10, 1, 7, 8, 5, 6, 15, 1, 0, 10, 8, 7, 12],\n",
    "    \"Appearances\": [38, 36, 40, 39, 37, 33, 32, 35, 30, 34, 36, 38, 31, 39, 29, 28, 34, 30, 33, 37]\n",
    "}\n",
    "\n",
    "df = pd.DataFrame(data)\n",
    "df.to_excel(\"football_data.xlsx\", index=False)\n",
    "\n",
    "print(\"Football Excel file 'football_data.xlsx' created successfully!\")\n"
   ]
  },
  {
   "cell_type": "code",
   "execution_count": 4,
   "id": "afc548e1",
   "metadata": {},
   "outputs": [],
   "source": [
    "import pandas as pd\n",
    "\n",
    "# Read Excel file\n",
    "df = pd.read_excel(\"football_data.xlsx\")"
   ]
  },
  {
   "cell_type": "code",
   "execution_count": 5,
   "id": "2859ee98",
   "metadata": {},
   "outputs": [
    {
     "name": "stdout",
     "output_type": "stream",
     "text": [
      "              Player             Club    Country  Goals  Assists  Appearances\n",
      "0       Lionel Messi      Inter Miami  Argentina     30       12           38\n",
      "1  Cristiano Ronaldo         Al Nassr   Portugal     28       10           36\n",
      "2      Kylian Mbappé              PSG     France     35        9           40\n",
      "3     Erling Haaland  Manchester City     Norway     42        6           39\n",
      "4    Kevin De Bruyne  Manchester City    Belgium     15       20           37\n"
     ]
    }
   ],
   "source": [
    "print(df.head()) #first five rows"
   ]
  },
  {
   "cell_type": "code",
   "execution_count": 6,
   "id": "8d266bb0",
   "metadata": {},
   "outputs": [
    {
     "name": "stdout",
     "output_type": "stream",
     "text": [
      "                  Player             Club      Country  Goals  Assists  \\\n",
      "15  Gianluigi Donnarumma              PSG        Italy      0        0   \n",
      "16         Son Heung-min        Tottenham  South Korea     21       10   \n",
      "17                 Pedri        Barcelona        Spain      4        8   \n",
      "18       Jude Bellingham      Real Madrid      England     11        7   \n",
      "19            Phil Foden  Manchester City      England     13       12   \n",
      "\n",
      "    Appearances  \n",
      "15           28  \n",
      "16           34  \n",
      "17           30  \n",
      "18           33  \n",
      "19           37  \n"
     ]
    }
   ],
   "source": [
    "print(df.tail())  #last five rows"
   ]
  },
  {
   "cell_type": "code",
   "execution_count": 7,
   "id": "6fb6dba4",
   "metadata": {},
   "outputs": [
    {
     "name": "stdout",
     "output_type": "stream",
     "text": [
      " Players with more than 25 goals:\n",
      "              Player             Club    Country  Goals  Assists  Appearances\n",
      "0       Lionel Messi      Inter Miami  Argentina     30       12           38\n",
      "1  Cristiano Ronaldo         Al Nassr   Portugal     28       10           36\n",
      "2      Kylian Mbappé              PSG     France     35        9           40\n",
      "3     Erling Haaland  Manchester City     Norway     42        6           39\n",
      "7      Mohamed Salah        Liverpool      Egypt     26       10           35\n"
     ]
    }
   ],
   "source": [
    "# Filter players with more than 25 goals\n",
    "top_scorers = df[df[\"Goals\"] > 25]\n",
    "print(\" Players with more than 25 goals:\")\n",
    "print(top_scorers)"
   ]
  },
  {
   "cell_type": "code",
   "execution_count": 8,
   "id": "5a8ebc02",
   "metadata": {},
   "outputs": [],
   "source": [
    "# Add a new player\n",
    "new_player = {\n",
    "    \"Player\": \"Vinícius Jr\",\n",
    "    \"Club\": \"Real Madrid\",\n",
    "    \"Country\": \"Brazil\",\n",
    "    \"Goals\": 19,\n",
    "    \"Assists\": 14,\n",
    "    \"Appearances\": 36\n",
    "}\n",
    "df = df.append(new_player, ignore_index=True)\n",
    "df.to_excel(\"football_data.xlsx\", index=False)"
   ]
  },
  {
   "cell_type": "code",
   "execution_count": 9,
   "id": "8fa2d2c9",
   "metadata": {},
   "outputs": [
    {
     "name": "stdout",
     "output_type": "stream",
     "text": [
      "             Player             Club      Country  Goals  Assists  Appearances\n",
      "16    Son Heung-min        Tottenham  South Korea     21       10           34\n",
      "17            Pedri        Barcelona        Spain      4        8           30\n",
      "18  Jude Bellingham      Real Madrid      England     11        7           33\n",
      "19       Phil Foden  Manchester City      England     13       12           37\n",
      "20      Vinícius Jr      Real Madrid       Brazil     19       14           36\n"
     ]
    }
   ],
   "source": [
    "print(df.tail())  #to check if new player added or not"
   ]
  },
  {
   "cell_type": "code",
   "execution_count": 11,
   "id": "161e563c",
   "metadata": {},
   "outputs": [
    {
     "name": "stdout",
     "output_type": "stream",
     "text": [
      " Average Goals by Club:\n",
      "Club\n",
      "Al Hilal             20.000000\n",
      "Al Nassr             23.000000\n",
      "Barcelona            14.500000\n",
      "Bayern Munich        24.000000\n",
      "Inter Miami          30.000000\n",
      "Liverpool            15.500000\n",
      "Manchester City      23.333333\n",
      "Manchester United    12.000000\n",
      "PSG                  17.500000\n",
      "Real Madrid          15.000000\n",
      "Sevilla               7.000000\n",
      "Tottenham            21.000000\n",
      "Name: Goals, dtype: float64\n"
     ]
    }
   ],
   "source": [
    "# Average goals by Club\n",
    "avg_goals_by_club = df.groupby(\"Club\")[\"Goals\"].mean()\n",
    "print(\" Average Goals by Club:\")\n",
    "print(avg_goals_by_club)"
   ]
  },
  {
   "cell_type": "code",
   "execution_count": 12,
   "id": "cb7b0c32",
   "metadata": {},
   "outputs": [
    {
     "name": "stdout",
     "output_type": "stream",
     "text": [
      "Total Assists by Country:\n",
      "Country\n",
      "Argentina      12\n",
      "Belgium        20\n",
      "Brazil         28\n",
      "Croatia         7\n",
      "Egypt          10\n",
      "England        24\n",
      "France         17\n",
      "Italy           0\n",
      "Netherlands     1\n",
      "Norway          6\n",
      "Poland          5\n",
      "Portugal       25\n",
      "Senegal         6\n",
      "South Korea    10\n",
      "Spain           9\n",
      "Name: Assists, dtype: int64\n"
     ]
    }
   ],
   "source": [
    "# Total assists per country\n",
    "total_assists_by_country = df.groupby(\"Country\")[\"Assists\"].sum()\n",
    "print(\"Total Assists by Country:\")\n",
    "print(total_assists_by_country)"
   ]
  },
  {
   "cell_type": "code",
   "execution_count": 13,
   "id": "6e2837dd",
   "metadata": {},
   "outputs": [
    {
     "name": "stdout",
     "output_type": "stream",
     "text": [
      " Added Goal Contribution column:\n",
      "              Player             Club    Country  Goals  Assists  Appearances  \\\n",
      "0       Lionel Messi      Inter Miami  Argentina     30       12           38   \n",
      "1  Cristiano Ronaldo         Al Nassr   Portugal     28       10           36   \n",
      "2      Kylian Mbappé              PSG     France     35        9           40   \n",
      "3     Erling Haaland  Manchester City     Norway     42        6           39   \n",
      "4    Kevin De Bruyne  Manchester City    Belgium     15       20           37   \n",
      "\n",
      "   Goal_Contribution  \n",
      "0                 42  \n",
      "1                 38  \n",
      "2                 44  \n",
      "3                 48  \n",
      "4                 35  \n"
     ]
    }
   ],
   "source": [
    "# Add a new column: Goal Contribution (Goals + Assists)\n",
    "df[\"Goal_Contribution\"] = df[\"Goals\"] + df[\"Assists\"]\n",
    "print(\" Added Goal Contribution column:\")\n",
    "print(df.head())"
   ]
  },
  {
   "cell_type": "code",
   "execution_count": 14,
   "id": "98182ab2",
   "metadata": {},
   "outputs": [
    {
     "name": "stdout",
     "output_type": "stream",
     "text": [
      "Dropped 'Appearances' column:\n",
      "              Player             Club    Country  Goals  Assists  \\\n",
      "0       Lionel Messi      Inter Miami  Argentina     30       12   \n",
      "1  Cristiano Ronaldo         Al Nassr   Portugal     28       10   \n",
      "2      Kylian Mbappé              PSG     France     35        9   \n",
      "3     Erling Haaland  Manchester City     Norway     42        6   \n",
      "4    Kevin De Bruyne  Manchester City    Belgium     15       20   \n",
      "\n",
      "   Goal_Contribution  \n",
      "0                 42  \n",
      "1                 38  \n",
      "2                 44  \n",
      "3                 48  \n",
      "4                 35  \n"
     ]
    }
   ],
   "source": [
    "# Drop a column\n",
    "df = df.drop(columns=[\"Appearances\"])\n",
    "print(\"Dropped 'Appearances' column:\")\n",
    "print(df.head())"
   ]
  },
  {
   "cell_type": "code",
   "execution_count": 15,
   "id": "63ae0bfa",
   "metadata": {},
   "outputs": [
    {
     "name": "stdout",
     "output_type": "stream",
     "text": [
      "Filled NaN values with 0:\n",
      "              Player             Club    Country  Goals  Assists  \\\n",
      "0       Lionel Messi      Inter Miami  Argentina    0.0       12   \n",
      "1  Cristiano Ronaldo         Al Nassr   Portugal   28.0       10   \n",
      "2      Kylian Mbappé              PSG     France   35.0        9   \n",
      "3     Erling Haaland  Manchester City     Norway   42.0        6   \n",
      "4    Kevin De Bruyne  Manchester City    Belgium   15.0       20   \n",
      "\n",
      "   Goal_Contribution  \n",
      "0                 42  \n",
      "1                 38  \n",
      "2                 44  \n",
      "3                 48  \n",
      "4                 35  \n"
     ]
    }
   ],
   "source": [
    "#Handling missing data\n",
    "df.loc[0, \"Goals\"] = None\n",
    "\n",
    "# Fill NaN values with 0\n",
    "df_filled = df.fillna(0)\n",
    "print(\"Filled NaN values with 0:\")\n",
    "print(df_filled.head())"
   ]
  },
  {
   "cell_type": "code",
   "execution_count": 16,
   "id": "ae607970",
   "metadata": {},
   "outputs": [
    {
     "name": "stdout",
     "output_type": "stream",
     "text": [
      " Dropped rows with NaN values:\n",
      "               Player             Club   Country  Goals  Assists  \\\n",
      "1   Cristiano Ronaldo         Al Nassr  Portugal   28.0       10   \n",
      "2       Kylian Mbappé              PSG    France   35.0        9   \n",
      "3      Erling Haaland  Manchester City    Norway   42.0        6   \n",
      "4     Kevin De Bruyne  Manchester City   Belgium   15.0       20   \n",
      "5  Robert Lewandowski        Barcelona    Poland   25.0        5   \n",
      "\n",
      "   Goal_Contribution  \n",
      "1                 38  \n",
      "2                 44  \n",
      "3                 48  \n",
      "4                 35  \n",
      "5                 30  \n"
     ]
    }
   ],
   "source": [
    "df_dropped = df.dropna()\n",
    "print(\" Dropped rows with NaN values:\")\n",
    "print(df_dropped.head())"
   ]
  },
  {
   "cell_type": "code",
   "execution_count": 17,
   "id": "a6088c81",
   "metadata": {},
   "outputs": [
    {
     "name": "stdout",
     "output_type": "stream",
     "text": [
      "Players ranked 5–10:\n",
      "                Player         Club      Country  Goals  Assists  \\\n",
      "5   Robert Lewandowski    Barcelona       Poland   25.0        5   \n",
      "6            Neymar Jr     Al Hilal       Brazil   20.0       14   \n",
      "7        Mohamed Salah    Liverpool        Egypt   26.0       10   \n",
      "8      Virgil van Dijk    Liverpool  Netherlands    5.0        1   \n",
      "9          Luka Modrić  Real Madrid      Croatia    8.0        7   \n",
      "10       Karim Benzema  Real Madrid       France   22.0        8   \n",
      "\n",
      "    Goal_Contribution  \n",
      "5                  30  \n",
      "6                  34  \n",
      "7                  36  \n",
      "8                   6  \n",
      "9                  15  \n",
      "10                 30  \n"
     ]
    }
   ],
   "source": [
    "# Slice rows(players ranked 5 to 10)\n",
    "print(\"Players ranked 5–10:\")\n",
    "print(df.iloc[5:11])"
   ]
  },
  {
   "cell_type": "markdown",
   "id": "bd67d179",
   "metadata": {},
   "source": [
    "# Handling JSON Data"
   ]
  },
  {
   "cell_type": "code",
   "execution_count": 18,
   "id": "f0e6816c",
   "metadata": {},
   "outputs": [
    {
     "name": "stdout",
     "output_type": "stream",
     "text": [
      "space_missions.json created in your notebook folder!\n"
     ]
    }
   ],
   "source": [
    "#Creating json file\n",
    "import json\n",
    "\n",
    "# Sample space missions data\n",
    "missions = [\n",
    "    {\n",
    "        \"mission\": \"Apollo 11\",\n",
    "        \"agency\": \"NASA\",\n",
    "        \"launch_year\": 1969,\n",
    "        \"duration_days\": 8,\n",
    "        \"crew\": [\"Neil Armstrong\", \"Buzz Aldrin\", \"Michael Collins\"],\n",
    "        \"success\": True\n",
    "    },\n",
    "    {\n",
    "        \"mission\": \"Vostok 1\",\n",
    "        \"agency\": \"Soviet Space Program\",\n",
    "        \"launch_year\": 1961,\n",
    "        \"duration_days\": 0.07,\n",
    "        \"crew\": [\"Yuri Gagarin\"],\n",
    "        \"success\": True\n",
    "    },\n",
    "    {\n",
    "        \"mission\": \"Challenger STS-51-L\",\n",
    "        \"agency\": \"NASA\",\n",
    "        \"launch_year\": 1986,\n",
    "        \"duration_days\": 0.003,\n",
    "        \"crew\": [\"Francis Scobee\", \"Christa McAuliffe\", \"Gregory Jarvis\", \"Judith Resnik\", \"Ellison Onizuka\", \"Ronald McNair\", \"Michael J. Smith\"],\n",
    "        \"success\": False\n",
    "    },\n",
    "    {\n",
    "        \"mission\": \"Tianzhou-1\",\n",
    "        \"agency\": \"CNSA\",\n",
    "        \"launch_year\": 2017,\n",
    "        \"duration_days\": 43,\n",
    "        \"crew\": [],\n",
    "        \"success\": True\n",
    "    },\n",
    "    {\n",
    "        \"mission\": \"SpaceX Crew-1\",\n",
    "        \"agency\": \"SpaceX\",\n",
    "        \"launch_year\": 2020,\n",
    "        \"duration_days\": 168,\n",
    "        \"crew\": [\"Michael Hopkins\", \"Victor Glover\", \"Soichi Noguchi\", \"Shannon Walker\"],\n",
    "        \"success\": True\n",
    "    }\n",
    "]\n",
    "\n",
    "# Save JSON file in the current notebook folder\n",
    "with open(\"space_missions.json\", \"w\") as f:\n",
    "    json.dump(missions, f, indent=4)\n",
    "\n",
    "print(\"space_missions.json created in your notebook folder!\")\n"
   ]
  },
  {
   "cell_type": "code",
   "execution_count": 19,
   "id": "8e97f71e",
   "metadata": {},
   "outputs": [
    {
     "name": "stdout",
     "output_type": "stream",
     "text": [
      "{'mission': 'Apollo 11', 'agency': 'NASA', 'launch_year': 1969, 'duration_days': 8, 'crew': ['Neil Armstrong', 'Buzz Aldrin', 'Michael Collins'], 'success': True}\n",
      "{'mission': 'Vostok 1', 'agency': 'Soviet Space Program', 'launch_year': 1961, 'duration_days': 0.07, 'crew': ['Yuri Gagarin'], 'success': True}\n",
      "{'mission': 'Challenger STS-51-L', 'agency': 'NASA', 'launch_year': 1986, 'duration_days': 0.003, 'crew': ['Francis Scobee', 'Christa McAuliffe', 'Gregory Jarvis', 'Judith Resnik', 'Ellison Onizuka', 'Ronald McNair', 'Michael J. Smith'], 'success': False}\n"
     ]
    }
   ],
   "source": [
    "# Read JSON\n",
    "with open(\"space_missions.json\", \"r\") as f:\n",
    "    data = json.load(f)\n",
    "\n",
    "# Preview first 3 missions\n",
    "for mission in data[:3]:\n",
    "    print(mission)\n"
   ]
  },
  {
   "cell_type": "code",
   "execution_count": 20,
   "id": "0494567c",
   "metadata": {},
   "outputs": [
    {
     "name": "stdout",
     "output_type": "stream",
     "text": [
      "New mission added to space_missions.json\n"
     ]
    }
   ],
   "source": [
    "new_mission = {\n",
    "    \"mission\": \"Artemis II\",\n",
    "    \"agency\": \"NASA\",\n",
    "    \"launch_year\": 2025,\n",
    "    \"duration_days\": 10,\n",
    "    \"crew\": [\"Reid Wiseman\", \"Victor Glover\", \"Christina Koch\", \"Jeremy Hansen\"],\n",
    "    \"success\": False\n",
    "}\n",
    "\n",
    "data.append(new_mission)\n",
    "\n",
    "# Save back to JSON\n",
    "with open(\"space_missions.json\", \"w\") as f:\n",
    "    json.dump(data, f, indent=4)\n",
    "\n",
    "print(\"New mission added to space_missions.json\")\n"
   ]
  },
  {
   "cell_type": "code",
   "execution_count": 21,
   "id": "9901d580",
   "metadata": {},
   "outputs": [
    {
     "name": "stdout",
     "output_type": "stream",
     "text": [
      "Long missions (>7 days):\n",
      "Apollo 11 - 8 days\n",
      "Tianzhou-1 - 43 days\n",
      "SpaceX Crew-1 - 168 days\n",
      "Artemis II - 10 days\n"
     ]
    }
   ],
   "source": [
    "#Filter or Manipulate Data\n",
    "# Missions longer than 7 days\n",
    "long_missions = [m for m in data if m[\"duration_days\"] > 7]\n",
    "print(\"Long missions (>7 days):\")\n",
    "for m in long_missions:\n",
    "    print(m[\"mission\"], \"-\", m[\"duration_days\"], \"days\")\n"
   ]
  },
  {
   "cell_type": "code",
   "execution_count": 22,
   "id": "a3549896",
   "metadata": {},
   "outputs": [
    {
     "name": "stdout",
     "output_type": "stream",
     "text": [
      "Challenger STS-51-L removed\n"
     ]
    }
   ],
   "source": [
    "# Remove mission by name\n",
    "mission_to_remove = \"Challenger STS-51-L\"\n",
    "data = [m for m in data if m[\"mission\"] != mission_to_remove]\n",
    "\n",
    "# Save changes\n",
    "with open(\"space_missions.json\", \"w\") as f:\n",
    "    json.dump(data, f, indent=4)\n",
    "\n",
    "print(f\"{mission_to_remove} removed\")\n"
   ]
  },
  {
   "cell_type": "code",
   "execution_count": 23,
   "id": "35a628e8",
   "metadata": {},
   "outputs": [
    {
     "name": "stdout",
     "output_type": "stream",
     "text": [
      "Updated Artemis II success status\n"
     ]
    }
   ],
   "source": [
    "# Update success status of Artemis II\n",
    "for m in data:\n",
    "    if m[\"mission\"] == \"Artemis II\":\n",
    "        m[\"success\"] = True\n",
    "\n",
    "with open(\"space_missions.json\", \"w\") as f:\n",
    "    json.dump(data, f, indent=4)\n",
    "\n",
    "print(\"Updated Artemis II success status\")\n"
   ]
  },
  {
   "cell_type": "code",
   "execution_count": 25,
   "id": "8d045268",
   "metadata": {},
   "outputs": [
    {
     "name": "stdout",
     "output_type": "stream",
     "text": [
      "Agencies involved in missions:\n",
      "['CNSA', 'SpaceX', 'Soviet Space Program', 'NASA']\n"
     ]
    }
   ],
   "source": [
    "#all unique values\n",
    "agencies = list({m[\"agency\"] for m in data})\n",
    "print(\"Agencies involved in missions:\")\n",
    "print(agencies)\n"
   ]
  },
  {
   "cell_type": "code",
   "execution_count": 26,
   "id": "30fb5f11",
   "metadata": {},
   "outputs": [
    {
     "name": "stdout",
     "output_type": "stream",
     "text": [
      "Number of missions per agency:\n",
      "NASA: 2\n",
      "Soviet Space Program: 1\n",
      "CNSA: 1\n",
      "SpaceX: 1\n"
     ]
    }
   ],
   "source": [
    "#Count\n",
    "agency_counts = {}\n",
    "for m in data:\n",
    "    agency_counts[m[\"agency\"]] = agency_counts.get(m[\"agency\"], 0) + 1\n",
    "\n",
    "print(\"Number of missions per agency:\")\n",
    "for agency, count in agency_counts.items():\n",
    "    print(f\"{agency}: {count}\")\n"
   ]
  },
  {
   "cell_type": "code",
   "execution_count": 27,
   "id": "f1f90191",
   "metadata": {},
   "outputs": [
    {
     "name": "stdout",
     "output_type": "stream",
     "text": [
      "Missions sorted by launch year:\n",
      "1961 - Vostok 1\n",
      "1969 - Apollo 11\n",
      "2017 - Tianzhou-1\n",
      "2020 - SpaceX Crew-1\n",
      "2025 - Artemis II\n"
     ]
    }
   ],
   "source": [
    "data_sorted = sorted(data, key=lambda x: x[\"launch_year\"])\n",
    "print(\"Missions sorted by launch year:\")\n",
    "for m in data_sorted:\n",
    "    print(m[\"launch_year\"], \"-\", m[\"mission\"])\n"
   ]
  },
  {
   "cell_type": "code",
   "execution_count": null,
   "id": "c15cc1f1",
   "metadata": {},
   "outputs": [],
   "source": []
  }
 ],
 "metadata": {
  "kernelspec": {
   "display_name": "Python 3",
   "language": "python",
   "name": "python3"
  },
  "language_info": {
   "codemirror_mode": {
    "name": "ipython",
    "version": 3
   },
   "file_extension": ".py",
   "mimetype": "text/x-python",
   "name": "python",
   "nbconvert_exporter": "python",
   "pygments_lexer": "ipython3",
   "version": "3.8.8"
  }
 },
 "nbformat": 4,
 "nbformat_minor": 5
}
