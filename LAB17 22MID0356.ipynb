{
 "cells": [
  {
   "cell_type": "markdown",
   "id": "4a62bc7b-d0bd-443a-add6-3ffa359bc109",
   "metadata": {},
   "source": [
    "# Pandas Data Manipulation: Handling Missing Values, Grouping, Merging, and Pivot Tables"
   ]
  },
  {
   "cell_type": "code",
   "execution_count": 1,
   "id": "d06e5e28-d010-4477-85a7-c415a5f48345",
   "metadata": {},
   "outputs": [
    {
     "name": "stdout",
     "output_type": "stream",
     "text": [
      "Original DataFrame:\n",
      "      Name   Age  Score\n",
      "0    Riya  24.0   85.0\n",
      "1  Ishaan   NaN   90.0\n",
      "2   Zahir  22.0    NaN \n",
      "\n",
      "Detect missing values:\n",
      "     Name    Age  Score\n",
      "0  False  False  False\n",
      "1  False   True  False\n",
      "2  False  False   True \n",
      "\n",
      "Fill missing values:\n",
      "      Name   Age  Score\n",
      "0    Riya  24.0   85.0\n",
      "1  Ishaan   0.0   90.0\n",
      "2   Zahir  22.0    0.0 \n",
      "\n",
      "Drop rows with missing values:\n",
      "    Name   Age  Score\n",
      "0  Riya  24.0   85.0 \n",
      "\n"
     ]
    }
   ],
   "source": [
    "##Handling Missing Values\n",
    "\n",
    "import pandas as pd\n",
    "import numpy as np\n",
    "\n",
    "df = pd.DataFrame({\n",
    "    \"Name\": [\"Riya\", \"Ishaan\", \"Zahir\"],\n",
    "    \"Age\": [24, np.nan, 22],\n",
    "    \"Score\": [85, 90, np.nan]\n",
    "})\n",
    "\n",
    "print(\"Original DataFrame:\\n\", df, \"\\n\")\n",
    "print(\"Detect missing values:\\n\", df.isnull(), \"\\n\")\n",
    "print(\"Fill missing values:\\n\", df.fillna(0), \"\\n\")\n",
    "print(\"Drop rows with missing values:\\n\", df.dropna(), \"\\n\")\n"
   ]
  },
  {
   "cell_type": "code",
   "execution_count": 2,
   "id": "37453ccc-6dca-490b-8a1f-615ca7648982",
   "metadata": {},
   "outputs": [
    {
     "name": "stdout",
     "output_type": "stream",
     "text": [
      "DataFrame 1:\n",
      "         Score\n",
      "Riya       85\n",
      "Ishaan     90\n",
      "Zahir      88 \n",
      "\n",
      "DataFrame 2:\n",
      "         Score\n",
      "Ishaan     92\n",
      "Sonali     80 \n",
      "\n",
      "Adding df1 and df2:\n",
      "         Score\n",
      "Ishaan  182.0\n",
      "Riya      NaN\n",
      "Sonali    NaN\n",
      "Zahir     NaN \n",
      "\n",
      "Reindexed DataFrame:\n",
      "         Score\n",
      "Riya       85\n",
      "Ishaan     90\n",
      "Zahir      88\n",
      "Sonali      0 \n",
      "\n"
     ]
    }
   ],
   "source": [
    "##Adding DataFrames with Overlaps\n",
    "\n",
    "df1 = pd.DataFrame({\"Score\": [85, 90, 88]}, index=[\"Riya\", \"Ishaan\", \"Zahir\"])\n",
    "df2 = pd.DataFrame({\"Score\": [92, 80]}, index=[\"Ishaan\", \"Sonali\"])\n",
    "\n",
    "print(\"DataFrame 1:\\n\", df1, \"\\n\")\n",
    "print(\"DataFrame 2:\\n\", df2, \"\\n\")\n",
    "\n",
    "print(\"Adding df1 and df2:\\n\", df1 + df2, \"\\n\")\n",
    "\n",
    "df3 = df1.reindex([\"Riya\", \"Ishaan\", \"Zahir\", \"Sonali\"], fill_value=0)\n",
    "print(\"Reindexed DataFrame:\\n\", df3, \"\\n\")\n"
   ]
  },
  {
   "cell_type": "code",
   "execution_count": 3,
   "id": "22d85497-d201-4092-91df-9af8b8456648",
   "metadata": {},
   "outputs": [
    {
     "name": "stdout",
     "output_type": "stream",
     "text": [
      "Original DataFrame:\n",
      "      Name  Age  Score\n",
      "0    Riya   24     85\n",
      "1  Ishaan   27     90\n",
      "2   Zahir   22     88\n",
      "3  Sonali   30     95\n",
      "4   Aarav   28     89 \n",
      "\n",
      "Sorted by Score:\n",
      "      Name  Age  Score\n",
      "0    Riya   24     85\n",
      "2   Zahir   22     88\n",
      "4   Aarav   28     89\n",
      "1  Ishaan   27     90\n",
      "3  Sonali   30     95 \n",
      "\n",
      "Average score grouped by Age:\n",
      " Age\n",
      "22    88\n",
      "24    85\n",
      "27    90\n",
      "28    89\n",
      "30    95\n",
      "Name: Score, dtype: int64 \n",
      "\n"
     ]
    }
   ],
   "source": [
    "##Grouping and Aggregation\n",
    "\n",
    "df = pd.DataFrame({\n",
    "    \"Name\": [\"Riya\", \"Ishaan\", \"Zahir\", \"Sonali\", \"Aarav\"],\n",
    "    \"Age\": [24, 27, 22, 30, 28],\n",
    "    \"Score\": [85, 90, 88, 95, 89]\n",
    "})\n",
    "\n",
    "print(\"Original DataFrame:\\n\", df, \"\\n\")\n",
    "print(\"Sorted by Score:\\n\", df.sort_values(by=\"Score\"), \"\\n\")\n",
    "\n",
    "grouped = df.groupby(\"Age\")[\"Score\"].mean()\n",
    "print(\"Average score grouped by Age:\\n\", grouped, \"\\n\")\n"
   ]
  },
  {
   "cell_type": "code",
   "execution_count": 4,
   "id": "13d5f430-99ca-4343-803d-29c85f0a7464",
   "metadata": {},
   "outputs": [
    {
     "name": "stdout",
     "output_type": "stream",
     "text": [
      "Grouped Series:\n",
      " <pandas.core.groupby.generic.SeriesGroupBy object at 0x7f9bc8cb40d0> \n",
      "\n",
      "HR group:\n",
      " Riya      50000\n",
      "Ishaan    55000\n",
      "dtype: int64 \n",
      "\n"
     ]
    }
   ],
   "source": [
    "##Grouping a Series\n",
    "\n",
    "salary = pd.Series([50000, 55000, 60000, 62000],\n",
    "                   index=[\"Riya\", \"Ishaan\", \"Zahir\", \"Sonali\"])\n",
    "department = pd.Series([\"HR\", \"HR\", \"IT\", \"IT\"],\n",
    "                       index=[\"Riya\", \"Ishaan\", \"Zahir\", \"Sonali\"])\n",
    "\n",
    "grouped_series = salary.groupby(department)\n",
    "print(\"Grouped Series:\\n\", grouped_series, \"\\n\")\n",
    "print(\"HR group:\\n\", grouped_series.get_group(\"HR\"), \"\\n\")\n"
   ]
  },
  {
   "cell_type": "code",
   "execution_count": 5,
   "id": "13d4e3ee-fa8f-4072-a7bf-fcd27de6f60e",
   "metadata": {},
   "outputs": [
    {
     "name": "stdout",
     "output_type": "stream",
     "text": [
      "Mean per department:\n",
      " HR    52500\n",
      "IT    61000\n",
      "dtype: int64 \n",
      "\n",
      "Sum per department:\n",
      " HR    105000\n",
      "IT    122000\n",
      "dtype: int64 \n",
      "\n",
      "Max per department:\n",
      " HR    55000\n",
      "IT    62000\n",
      "dtype: int64 \n",
      "\n"
     ]
    }
   ],
   "source": [
    "##Aggregating a Grouped Series\n",
    "\n",
    "print(\"Mean per department:\\n\", grouped_series.mean(), \"\\n\")\n",
    "print(\"Sum per department:\\n\", grouped_series.sum(), \"\\n\")\n",
    "print(\"Max per department:\\n\", grouped_series.max(), \"\\n\")\n"
   ]
  },
  {
   "cell_type": "code",
   "execution_count": 6,
   "id": "5e1fbd34-f1b0-4a64-a7bf-84af3b901fbd",
   "metadata": {},
   "outputs": [
    {
     "name": "stdout",
     "output_type": "stream",
     "text": [
      "Mean salary by department (MultiLevel Series):\n",
      " Dept\n",
      "HR    52500\n",
      "IT    61000\n",
      "dtype: int64 \n",
      "\n"
     ]
    }
   ],
   "source": [
    "##MultiIndex Series Grouping\n",
    "\n",
    "arrays = [[\"HR\", \"HR\", \"IT\", \"IT\"], [\"Riya\", \"Ishaan\", \"Zahir\", \"Sonali\"]]\n",
    "index = pd.MultiIndex.from_arrays(arrays, names=(\"Dept\", \"Employee\"))\n",
    "multi_s = pd.Series([50000, 55000, 60000, 62000], index=index)\n",
    "\n",
    "grouped_multi = multi_s.groupby(level=0).mean()\n",
    "print(\"Mean salary by department (MultiLevel Series):\\n\", grouped_multi, \"\\n\")\n"
   ]
  },
  {
   "cell_type": "code",
   "execution_count": 8,
   "id": "e0487139-82db-4747-812e-542e992e2b07",
   "metadata": {},
   "outputs": [
    {
     "name": "stdout",
     "output_type": "stream",
     "text": [
      "HR group in DataFrame:\n",
      "   Department Employee  Salary\n",
      "0         HR     Riya   50000\n",
      "1         HR   Ishaan   55000 \n",
      "\n",
      "Mean salary per department:\n",
      " Department\n",
      "HR    52500\n",
      "IT    61000\n",
      "Name: Salary, dtype: int64 \n",
      "\n"
     ]
    }
   ],
   "source": [
    "##Grouping a DataFrame\n",
    "\n",
    "df = pd.DataFrame({\n",
    "    \"Department\": [\"HR\", \"HR\", \"IT\", \"IT\"],\n",
    "    \"Employee\": [\"Riya\", \"Ishaan\", \"Zahir\", \"Sonali\"],\n",
    "    \"Salary\": [50000, 55000, 60000, 62000]\n",
    "})\n",
    "\n",
    "grouped_df = df.groupby(\"Department\")\n",
    "print(\"HR group in DataFrame:\\n\", grouped_df.get_group(\"HR\"), \"\\n\")\n",
    "print(\"Mean salary per department:\\n\", grouped_df[\"Salary\"].mean(), \"\\n\")\n"
   ]
  },
  {
   "cell_type": "code",
   "execution_count": 10,
   "id": "f8a478d7-0aef-4985-b680-bd23ed6c338a",
   "metadata": {},
   "outputs": [
    {
     "name": "stdout",
     "output_type": "stream",
     "text": [
      "Aggregated DataFrame (mean salary per department):\n",
      " Department\n",
      "HR    52500\n",
      "IT    61000\n",
      "Name: Salary, dtype: int64 \n",
      "\n",
      "Aggregated DataFrame (multiple stats):\n",
      "            Salary               \n",
      "             mean     sum    max\n",
      "Department                      \n",
      "HR          52500  105000  55000\n",
      "IT          61000  122000  62000 \n",
      "\n"
     ]
    }
   ],
   "source": [
    " ## Aggregated DataFrame\n",
    "aggregated_df = grouped_df[\"Salary\"].mean()\n",
    "print(\"Aggregated DataFrame (mean salary per department):\\n\", aggregated_df, \"\\n\")\n",
    "\n",
    "multi_agg_df = grouped_df.agg({\"Salary\": [\"mean\", \"sum\", \"max\"]})\n",
    "print(\"Aggregated DataFrame (multiple stats):\\n\", multi_agg_df, \"\\n\")\n"
   ]
  },
  {
   "cell_type": "code",
   "execution_count": 11,
   "id": "93b4395b-0847-44ae-9b2d-1e06dabf7f98",
   "metadata": {},
   "outputs": [
    {
     "name": "stdout",
     "output_type": "stream",
     "text": [
      "Mean Salary per Department:\n",
      " Department\n",
      "HR    54333.333333\n",
      "IT    61000.000000\n",
      "Name: Salary, dtype: float64 \n",
      "\n",
      "Aggregated stats per Department:\n",
      "                   Salary                Bonus      \n",
      "                    mean    max    min    sum  mean\n",
      "Department                                         \n",
      "HR          54333.333333  58000  50000  16500  5500\n",
      "IT          61000.000000  62000  60000  22500  7500 \n",
      "\n",
      "Departments with mean salary > 55000:\n",
      "   Department Employee  Salary  Bonus\n",
      "2         IT    Zahir   60000   7000\n",
      "3         IT   Sonali   62000   8000\n",
      "5         IT    Aarav   61000   7500 \n",
      "\n"
     ]
    }
   ],
   "source": [
    "##Grouping, aggregation, filtering\n",
    "df = pd.DataFrame({\n",
    "    \"Department\": [\"HR\", \"HR\", \"IT\", \"IT\", \"HR\", \"IT\"],\n",
    "    \"Employee\": [\"Riya\", \"Ishaan\", \"Zahir\", \"Sonali\", \"Eva\", \"Aarav\"],\n",
    "    \"Salary\": [50000, 55000, 60000, 62000, 58000, 61000],\n",
    "    \"Bonus\": [5000, 6000, 7000, 8000, 5500, 7500]\n",
    "})\n",
    "\n",
    "grouped = df.groupby(\"Department\")\n",
    "mean_salary = grouped[\"Salary\"].mean()\n",
    "agg_stats = grouped.agg({\n",
    "    \"Salary\": [\"mean\", \"max\", \"min\"],\n",
    "    \"Bonus\": [\"sum\", \"mean\"]\n",
    "})\n",
    "high_salary_dept = grouped.filter(lambda x: x[\"Salary\"].mean() > 55000)\n",
    "\n",
    "print(\"Mean Salary per Department:\\n\", mean_salary, \"\\n\")\n",
    "print(\"Aggregated stats per Department:\\n\", agg_stats, \"\\n\")\n",
    "print(\"Departments with mean salary > 55000:\\n\", high_salary_dept, \"\\n\")\n"
   ]
  },
  {
   "cell_type": "code",
   "execution_count": 12,
   "id": "61872433-7a97-4333-8be3-ba93b34b4613",
   "metadata": {},
   "outputs": [
    {
     "name": "stdout",
     "output_type": "stream",
     "text": [
      "HR:\n",
      "Riya      50000\n",
      "Ishaan    55000\n",
      "dtype: int64\n",
      "\n",
      "IT:\n",
      "Zahir     60000\n",
      "Sonali    62000\n",
      "dtype: int64\n",
      "\n",
      "Mean salary per department:\n",
      " HR    52500\n",
      "IT    61000\n",
      "dtype: int64\n"
     ]
    }
   ],
   "source": [
    "## Grouping without aggregation\n",
    "salary = pd.Series([50000, 55000, 60000, 62000],\n",
    "                   index=[\"Riya\", \"Ishaan\", \"Zahir\", \"Sonali\"])\n",
    "department = pd.Series([\"HR\", \"HR\", \"IT\", \"IT\"],\n",
    "                       index=[\"Riya\", \"Ishaan\", \"Zahir\", \"Sonali\"])\n",
    "\n",
    "grouped_series = salary.groupby(department)\n",
    "for dept, values in grouped_series:\n",
    "    print(f\"{dept}:\\n{values}\\n\")\n",
    "\n",
    "print(\"Mean salary per department:\\n\", grouped_series.mean())\n"
   ]
  },
  {
   "cell_type": "code",
   "execution_count": 9,
   "id": "9fb6fb3a-056a-4c6c-b993-59665d34ae23",
   "metadata": {},
   "outputs": [
    {
     "name": "stdout",
     "output_type": "stream",
     "text": [
      "Pivot Table (Average Salary):\n",
      " Team            A      B\n",
      "Department              \n",
      "HR          54000  55000\n",
      "IT          60000  61500\n"
     ]
    }
   ],
   "source": [
    "##Pivot Table \n",
    "\n",
    "df = pd.DataFrame({\n",
    "    \"Department\": [\"HR\", \"HR\", \"IT\", \"IT\", \"HR\", \"IT\"],\n",
    "    \"Team\": [\"A\", \"B\", \"A\", \"B\", \"A\", \"B\"],\n",
    "    \"Salary\": [50000, 55000, 60000, 62000, 58000, 61000]\n",
    "})\n",
    "\n",
    "pivot_table = df.pivot_table(values=\"Salary\", index=\"Department\", columns=\"Team\", aggfunc=\"mean\")\n",
    "print(\"Pivot Table (Average Salary):\\n\", pivot_table)\n"
   ]
  },
  {
   "cell_type": "code",
   "execution_count": 13,
   "id": "88f20a2b-a6cb-48bf-95a4-be7597c36f0d",
   "metadata": {},
   "outputs": [
    {
     "name": "stdout",
     "output_type": "stream",
     "text": [
      "HR:\n",
      "  Department Employee  Salary\n",
      "0         HR     Riya   50000\n",
      "1         HR   Ishaan   55000\n",
      "\n",
      "IT:\n",
      "  Department Employee  Salary\n",
      "2         IT    Zahir   60000\n",
      "3         IT   Sonali   62000\n",
      "\n",
      "Mean salary per department:\n",
      " Department\n",
      "HR    52500\n",
      "IT    61000\n",
      "Name: Salary, dtype: int64\n"
     ]
    }
   ],
   "source": [
    "## Group DataFrame and iterate\n",
    "df = pd.DataFrame({\n",
    "    \"Department\": [\"HR\", \"HR\", \"IT\", \"IT\"],\n",
    "    \"Employee\": [\"Riya\", \"Ishaan\", \"Zahir\", \"Sonali\"],\n",
    "    \"Salary\": [50000, 55000, 60000, 62000]\n",
    "})\n",
    "grouped_df = df.groupby(\"Department\")\n",
    "for dept, group in grouped_df:\n",
    "    print(f\"{dept}:\\n{group}\\n\")\n",
    "print(\"Mean salary per department:\\n\", grouped_df[\"Salary\"].mean())\n"
   ]
  },
  {
   "cell_type": "code",
   "execution_count": 14,
   "id": "13800c8b-b585-4327-9ba6-284674dfcaa3",
   "metadata": {},
   "outputs": [
    {
     "name": "stdout",
     "output_type": "stream",
     "text": [
      "HR: [50000 55000]\n",
      "IT: [60000 62000]\n",
      "Aggregated Series (mean salary per department):\n",
      " HR    52500\n",
      "IT    61000\n",
      "dtype: int64\n",
      "HR group:\n",
      "  Department Employee  Salary  Bonus\n",
      "0         HR     Riya   50000   5000\n",
      "1         HR   Ishaan   55000   6000\n",
      "\n",
      "IT group:\n",
      "  Department Employee  Salary  Bonus\n",
      "2         IT    Zahir   60000   7000\n",
      "3         IT   Sonali   62000   8000\n",
      "\n",
      "Aggregated DataFrame (Salary and Bonus stats per Department):\n",
      "            Salary         Bonus       \n",
      "             mean     sum  mean    sum\n",
      "Department                            \n",
      "HR          52500  105000  5500  11000\n",
      "IT          61000  122000  7500  15000\n"
     ]
    }
   ],
   "source": [
    "##Grouping Series and DataFrame\n",
    "salary_series = pd.Series([50000, 55000, 60000, 62000],\n",
    "                          index=[\"Riya\", \"Ishaan\", \"Zahir\", \"Sonali\"])\n",
    "department_series = pd.Series([\"HR\", \"HR\", \"IT\", \"IT\"],\n",
    "                              index=[\"Riya\", \"Ishaan\", \"Zahir\", \"Sonali\"])\n",
    "\n",
    "grouped_series = salary_series.groupby(department_series)\n",
    "for dept, group in grouped_series:\n",
    "    print(f\"{dept}: {group.values}\")\n",
    "aggregated_series = grouped_series.mean()\n",
    "print(\"Aggregated Series (mean salary per department):\\n\", aggregated_series)\n",
    "\n",
    "df = pd.DataFrame({\n",
    "    \"Department\": [\"HR\", \"HR\", \"IT\", \"IT\"],\n",
    "    \"Employee\": [\"Riya\", \"Ishaan\", \"Zahir\", \"Sonali\"],\n",
    "    \"Salary\": [50000, 55000, 60000, 62000],\n",
    "    \"Bonus\": [5000, 6000, 7000, 8000]\n",
    "})\n",
    "grouped_df = df.groupby(\"Department\")\n",
    "for dept, group in grouped_df:\n",
    "    print(f\"{dept} group:\\n{group}\\n\")\n",
    "aggregated_df = grouped_df.agg({\"Salary\": [\"mean\", \"sum\"], \"Bonus\": [\"mean\", \"sum\"]})\n",
    "print(\"Aggregated DataFrame (Salary and Bonus stats per Department):\\n\", aggregated_df)\n"
   ]
  },
  {
   "cell_type": "code",
   "execution_count": 15,
   "id": "a8443b93-f7c7-41c1-b2e2-152f16f89136",
   "metadata": {},
   "outputs": [
    {
     "name": "stdout",
     "output_type": "stream",
     "text": [
      "Inner Merge:\n",
      "   Employee Department  Salary\n",
      "0     Riya         HR   50000\n",
      "1   Ishaan         IT   60000\n",
      "2    Zahir         HR   55000\n",
      "Outer Merge:\n",
      "   Employee Department   Salary\n",
      "0     Riya         HR  50000.0\n",
      "1   Ishaan         IT  60000.0\n",
      "2    Zahir         HR  55000.0\n",
      "3   Sonali         IT      NaN\n",
      "4      Eva        NaN  58000.0\n"
     ]
    }
   ],
   "source": [
    "## Merge two DataFrames\n",
    "df1 = pd.DataFrame({\n",
    "    \"Employee\": [\"Riya\", \"Ishaan\", \"Zahir\", \"Sonali\"],\n",
    "    \"Department\": [\"HR\", \"IT\", \"HR\", \"IT\"]\n",
    "})\n",
    "df2 = pd.DataFrame({\n",
    "    \"Employee\": [\"Riya\", \"Ishaan\", \"Zahir\", \"Eva\"],\n",
    "    \"Salary\": [50000, 60000, 55000, 58000]\n",
    "})\n",
    "inner_merge = pd.merge(df1, df2, on=\"Employee\", how=\"inner\")\n",
    "outer_merge = pd.merge(df1, df2, on=\"Employee\", how=\"outer\")\n",
    "print(\"Inner Merge:\\n\", inner_merge)\n",
    "print(\"Outer Merge:\\n\", outer_merge)\n"
   ]
  },
  {
   "cell_type": "code",
   "execution_count": 16,
   "id": "2442b148-2e5d-44a7-90a6-61268a6e8676",
   "metadata": {},
   "outputs": [
    {
     "name": "stdout",
     "output_type": "stream",
     "text": [
      "Merge on different keys:\n",
      "    EmpID    Name  EmployeeID  Salary\n",
      "0      2  Ishaan           2   60000\n",
      "1      3   Zahir           3   55000\n"
     ]
    }
   ],
   "source": [
    "# # Merge on different key columns\n",
    "df1 = pd.DataFrame({\"EmpID\": [1, 2, 3], \"Name\": [\"Riya\", \"Ishaan\", \"Zahir\"]})\n",
    "df2 = pd.DataFrame({\"EmployeeID\": [2, 3, 4], \"Salary\": [60000, 55000, 58000]})\n",
    "merged_df = pd.merge(df1, df2, left_on=\"EmpID\", right_on=\"EmployeeID\", how=\"inner\")\n",
    "print(\"Merge on different keys:\\n\", merged_df)\n"
   ]
  },
  {
   "cell_type": "code",
   "execution_count": 17,
   "id": "82e99e2e-773e-4174-8eaf-7394d86fbf0d",
   "metadata": {},
   "outputs": [
    {
     "name": "stdout",
     "output_type": "stream",
     "text": [
      "Merge using indexes:\n",
      "         Salary Department\n",
      "Riya     50000         HR\n",
      "Ishaan   60000         IT\n"
     ]
    }
   ],
   "source": [
    "## Merge using indexes\n",
    "df1 = pd.DataFrame({\"Salary\": [50000, 60000]}, index=[\"Riya\", \"Ishaan\"])\n",
    "df2 = pd.DataFrame({\"Department\": [\"HR\", \"IT\"]}, index=[\"Riya\", \"Ishaan\"])\n",
    "merged_index_df = pd.merge(df1, df2, left_index=True, right_index=True)\n",
    "print(\"Merge using indexes:\\n\", merged_index_df)\n"
   ]
  },
  {
   "cell_type": "code",
   "execution_count": 18,
   "id": "fe49cd4c-fca1-462c-9b80-31bde0856f71",
   "metadata": {},
   "outputs": [
    {
     "name": "stdout",
     "output_type": "stream",
     "text": [
      "Team            A      B\n",
      "Department              \n",
      "HR          50000  55000\n",
      "IT          60000  62000\n"
     ]
    }
   ],
   "source": [
    "# Pivot table showing means\n",
    "df = pd.DataFrame({\n",
    "    \"Department\": [\"HR\",\"HR\",\"IT\",\"IT\"],\n",
    "    \"Team\": [\"A\",\"B\",\"A\",\"B\"],\n",
    "    \"Salary\": [50000,55000,60000,62000]\n",
    "})\n",
    "summary = df.pivot_table(values=\"Salary\", index=\"Department\", columns=\"Team\", aggfunc=\"mean\")\n",
    "print(summary)\n"
   ]
  },
  {
   "cell_type": "code",
   "execution_count": 19,
   "id": "4f8acb74-c0f0-48be-a6d1-9cfa9759e60a",
   "metadata": {},
   "outputs": [
    {
     "name": "stdout",
     "output_type": "stream",
     "text": [
      "\n",
      "--- df.head() ---\n"
     ]
    },
    {
     "data": {
      "text/html": [
       "<div>\n",
       "<style scoped>\n",
       "    .dataframe tbody tr th:only-of-type {\n",
       "        vertical-align: middle;\n",
       "    }\n",
       "\n",
       "    .dataframe tbody tr th {\n",
       "        vertical-align: top;\n",
       "    }\n",
       "\n",
       "    .dataframe thead th {\n",
       "        text-align: right;\n",
       "    }\n",
       "</style>\n",
       "<table border=\"1\" class=\"dataframe\">\n",
       "  <thead>\n",
       "    <tr style=\"text-align: right;\">\n",
       "      <th></th>\n",
       "      <th>Category</th>\n",
       "      <th>Value</th>\n",
       "      <th>Date</th>\n",
       "    </tr>\n",
       "  </thead>\n",
       "  <tbody>\n",
       "    <tr>\n",
       "      <th>0</th>\n",
       "      <td>A</td>\n",
       "      <td>10.0</td>\n",
       "      <td>2020-01-01</td>\n",
       "    </tr>\n",
       "    <tr>\n",
       "      <th>1</th>\n",
       "      <td>B</td>\n",
       "      <td>20.0</td>\n",
       "      <td>2020-01-02</td>\n",
       "    </tr>\n",
       "    <tr>\n",
       "      <th>2</th>\n",
       "      <td>A</td>\n",
       "      <td>NaN</td>\n",
       "      <td>2020-02-01</td>\n",
       "    </tr>\n",
       "    <tr>\n",
       "      <th>3</th>\n",
       "      <td>C</td>\n",
       "      <td>40.0</td>\n",
       "      <td>None</td>\n",
       "    </tr>\n",
       "    <tr>\n",
       "      <th>4</th>\n",
       "      <td>None</td>\n",
       "      <td>50.0</td>\n",
       "      <td>2020-02-03</td>\n",
       "    </tr>\n",
       "  </tbody>\n",
       "</table>\n",
       "</div>"
      ],
      "text/plain": [
       "  Category  Value        Date\n",
       "0        A   10.0  2020-01-01\n",
       "1        B   20.0  2020-01-02\n",
       "2        A    NaN  2020-02-01\n",
       "3        C   40.0        None\n",
       "4     None   50.0  2020-02-03"
      ]
     },
     "metadata": {},
     "output_type": "display_data"
    },
    {
     "name": "stdout",
     "output_type": "stream",
     "text": [
      "\n",
      "df.info()\n",
      "<class 'pandas.core.frame.DataFrame'>\n",
      "RangeIndex: 5 entries, 0 to 4\n",
      "Data columns (total 3 columns):\n",
      " #   Column    Non-Null Count  Dtype  \n",
      "---  ------    --------------  -----  \n",
      " 0   Category  4 non-null      object \n",
      " 1   Value     4 non-null      float64\n",
      " 2   Date      4 non-null      object \n",
      "dtypes: float64(1), object(2)\n",
      "memory usage: 248.0+ bytes\n",
      "\n",
      "df.describe() \n"
     ]
    },
    {
     "data": {
      "text/html": [
       "<div>\n",
       "<style scoped>\n",
       "    .dataframe tbody tr th:only-of-type {\n",
       "        vertical-align: middle;\n",
       "    }\n",
       "\n",
       "    .dataframe tbody tr th {\n",
       "        vertical-align: top;\n",
       "    }\n",
       "\n",
       "    .dataframe thead th {\n",
       "        text-align: right;\n",
       "    }\n",
       "</style>\n",
       "<table border=\"1\" class=\"dataframe\">\n",
       "  <thead>\n",
       "    <tr style=\"text-align: right;\">\n",
       "      <th></th>\n",
       "      <th>Category</th>\n",
       "      <th>Value</th>\n",
       "      <th>Date</th>\n",
       "    </tr>\n",
       "  </thead>\n",
       "  <tbody>\n",
       "    <tr>\n",
       "      <th>count</th>\n",
       "      <td>4</td>\n",
       "      <td>4.000000</td>\n",
       "      <td>4</td>\n",
       "    </tr>\n",
       "    <tr>\n",
       "      <th>unique</th>\n",
       "      <td>3</td>\n",
       "      <td>NaN</td>\n",
       "      <td>4</td>\n",
       "    </tr>\n",
       "    <tr>\n",
       "      <th>top</th>\n",
       "      <td>A</td>\n",
       "      <td>NaN</td>\n",
       "      <td>2020-02-01</td>\n",
       "    </tr>\n",
       "    <tr>\n",
       "      <th>freq</th>\n",
       "      <td>2</td>\n",
       "      <td>NaN</td>\n",
       "      <td>1</td>\n",
       "    </tr>\n",
       "    <tr>\n",
       "      <th>mean</th>\n",
       "      <td>NaN</td>\n",
       "      <td>30.000000</td>\n",
       "      <td>NaN</td>\n",
       "    </tr>\n",
       "    <tr>\n",
       "      <th>std</th>\n",
       "      <td>NaN</td>\n",
       "      <td>18.257419</td>\n",
       "      <td>NaN</td>\n",
       "    </tr>\n",
       "    <tr>\n",
       "      <th>min</th>\n",
       "      <td>NaN</td>\n",
       "      <td>10.000000</td>\n",
       "      <td>NaN</td>\n",
       "    </tr>\n",
       "    <tr>\n",
       "      <th>25%</th>\n",
       "      <td>NaN</td>\n",
       "      <td>17.500000</td>\n",
       "      <td>NaN</td>\n",
       "    </tr>\n",
       "    <tr>\n",
       "      <th>50%</th>\n",
       "      <td>NaN</td>\n",
       "      <td>30.000000</td>\n",
       "      <td>NaN</td>\n",
       "    </tr>\n",
       "    <tr>\n",
       "      <th>75%</th>\n",
       "      <td>NaN</td>\n",
       "      <td>42.500000</td>\n",
       "      <td>NaN</td>\n",
       "    </tr>\n",
       "    <tr>\n",
       "      <th>max</th>\n",
       "      <td>NaN</td>\n",
       "      <td>50.000000</td>\n",
       "      <td>NaN</td>\n",
       "    </tr>\n",
       "  </tbody>\n",
       "</table>\n",
       "</div>"
      ],
      "text/plain": [
       "       Category      Value        Date\n",
       "count         4   4.000000           4\n",
       "unique        3        NaN           4\n",
       "top           A        NaN  2020-02-01\n",
       "freq          2        NaN           1\n",
       "mean        NaN  30.000000         NaN\n",
       "std         NaN  18.257419         NaN\n",
       "min         NaN  10.000000         NaN\n",
       "25%         NaN  17.500000         NaN\n",
       "50%         NaN  30.000000         NaN\n",
       "75%         NaN  42.500000         NaN\n",
       "max         NaN  50.000000         NaN"
      ]
     },
     "metadata": {},
     "output_type": "display_data"
    },
    {
     "name": "stdout",
     "output_type": "stream",
     "text": [
      "\n",
      "Missing values per column \n",
      "Category    1\n",
      "Value       1\n",
      "Date        1\n",
      "dtype: int64\n"
     ]
    },
    {
     "data": {
      "text/html": [
       "<div>\n",
       "<style scoped>\n",
       "    .dataframe tbody tr th:only-of-type {\n",
       "        vertical-align: middle;\n",
       "    }\n",
       "\n",
       "    .dataframe tbody tr th {\n",
       "        vertical-align: top;\n",
       "    }\n",
       "\n",
       "    .dataframe thead th {\n",
       "        text-align: right;\n",
       "    }\n",
       "</style>\n",
       "<table border=\"1\" class=\"dataframe\">\n",
       "  <thead>\n",
       "    <tr style=\"text-align: right;\">\n",
       "      <th></th>\n",
       "      <th>Value</th>\n",
       "      <th>Value_filled</th>\n",
       "    </tr>\n",
       "  </thead>\n",
       "  <tbody>\n",
       "    <tr>\n",
       "      <th>0</th>\n",
       "      <td>10.0</td>\n",
       "      <td>10.0</td>\n",
       "    </tr>\n",
       "    <tr>\n",
       "      <th>1</th>\n",
       "      <td>20.0</td>\n",
       "      <td>20.0</td>\n",
       "    </tr>\n",
       "    <tr>\n",
       "      <th>2</th>\n",
       "      <td>NaN</td>\n",
       "      <td>30.0</td>\n",
       "    </tr>\n",
       "    <tr>\n",
       "      <th>3</th>\n",
       "      <td>40.0</td>\n",
       "      <td>40.0</td>\n",
       "    </tr>\n",
       "    <tr>\n",
       "      <th>4</th>\n",
       "      <td>50.0</td>\n",
       "      <td>50.0</td>\n",
       "    </tr>\n",
       "  </tbody>\n",
       "</table>\n",
       "</div>"
      ],
      "text/plain": [
       "   Value  Value_filled\n",
       "0   10.0          10.0\n",
       "1   20.0          20.0\n",
       "2    NaN          30.0\n",
       "3   40.0          40.0\n",
       "4   50.0          50.0"
      ]
     },
     "metadata": {},
     "output_type": "display_data"
    },
    {
     "name": "stdout",
     "output_type": "stream",
     "text": [
      "\n",
      " Group by Category and compute mean of Value \n"
     ]
    },
    {
     "data": {
      "text/html": [
       "<div>\n",
       "<style scoped>\n",
       "    .dataframe tbody tr th:only-of-type {\n",
       "        vertical-align: middle;\n",
       "    }\n",
       "\n",
       "    .dataframe tbody tr th {\n",
       "        vertical-align: top;\n",
       "    }\n",
       "\n",
       "    .dataframe thead th {\n",
       "        text-align: right;\n",
       "    }\n",
       "</style>\n",
       "<table border=\"1\" class=\"dataframe\">\n",
       "  <thead>\n",
       "    <tr style=\"text-align: right;\">\n",
       "      <th></th>\n",
       "      <th>Value</th>\n",
       "    </tr>\n",
       "    <tr>\n",
       "      <th>Category</th>\n",
       "      <th></th>\n",
       "    </tr>\n",
       "  </thead>\n",
       "  <tbody>\n",
       "    <tr>\n",
       "      <th>A</th>\n",
       "      <td>10.0</td>\n",
       "    </tr>\n",
       "    <tr>\n",
       "      <th>B</th>\n",
       "      <td>20.0</td>\n",
       "    </tr>\n",
       "    <tr>\n",
       "      <th>C</th>\n",
       "      <td>40.0</td>\n",
       "    </tr>\n",
       "    <tr>\n",
       "      <th>NaN</th>\n",
       "      <td>50.0</td>\n",
       "    </tr>\n",
       "  </tbody>\n",
       "</table>\n",
       "</div>"
      ],
      "text/plain": [
       "          Value\n",
       "Category       \n",
       "A          10.0\n",
       "B          20.0\n",
       "C          40.0\n",
       "NaN        50.0"
      ]
     },
     "metadata": {},
     "output_type": "display_data"
    },
    {
     "name": "stdout",
     "output_type": "stream",
     "text": [
      "\n",
      "Convert Date column to datetime and show min/max \n"
     ]
    },
    {
     "data": {
      "text/html": [
       "<div>\n",
       "<style scoped>\n",
       "    .dataframe tbody tr th:only-of-type {\n",
       "        vertical-align: middle;\n",
       "    }\n",
       "\n",
       "    .dataframe tbody tr th {\n",
       "        vertical-align: top;\n",
       "    }\n",
       "\n",
       "    .dataframe thead th {\n",
       "        text-align: right;\n",
       "    }\n",
       "</style>\n",
       "<table border=\"1\" class=\"dataframe\">\n",
       "  <thead>\n",
       "    <tr style=\"text-align: right;\">\n",
       "      <th></th>\n",
       "      <th>Date</th>\n",
       "      <th>Date_parsed</th>\n",
       "    </tr>\n",
       "  </thead>\n",
       "  <tbody>\n",
       "    <tr>\n",
       "      <th>0</th>\n",
       "      <td>2020-01-01</td>\n",
       "      <td>2020-01-01</td>\n",
       "    </tr>\n",
       "    <tr>\n",
       "      <th>1</th>\n",
       "      <td>2020-01-02</td>\n",
       "      <td>2020-01-02</td>\n",
       "    </tr>\n",
       "    <tr>\n",
       "      <th>2</th>\n",
       "      <td>2020-02-01</td>\n",
       "      <td>2020-02-01</td>\n",
       "    </tr>\n",
       "    <tr>\n",
       "      <th>3</th>\n",
       "      <td>None</td>\n",
       "      <td>NaT</td>\n",
       "    </tr>\n",
       "    <tr>\n",
       "      <th>4</th>\n",
       "      <td>2020-02-03</td>\n",
       "      <td>2020-02-03</td>\n",
       "    </tr>\n",
       "  </tbody>\n",
       "</table>\n",
       "</div>"
      ],
      "text/plain": [
       "         Date Date_parsed\n",
       "0  2020-01-01  2020-01-01\n",
       "1  2020-01-02  2020-01-02\n",
       "2  2020-02-01  2020-02-01\n",
       "3        None         NaT\n",
       "4  2020-02-03  2020-02-03"
      ]
     },
     "metadata": {},
     "output_type": "display_data"
    },
    {
     "name": "stdout",
     "output_type": "stream",
     "text": [
      "Date range: 2020-01-01 00:00:00 to 2020-02-03 00:00:00\n",
      "\n",
      "Example value_counts for Category\n",
      "A      2\n",
      "NaN    1\n",
      "C      1\n",
      "B      1\n",
      "Name: Category, dtype: int64\n"
     ]
    }
   ],
   "source": [
    "# Cell 22: Additional demonstration\n",
    "df = pd.DataFrame({\n",
    "    'Category': ['A', 'B', 'A', 'C', None],\n",
    "    'Value': [10, 20, None, 40, 50],\n",
    "    'Date': ['2020-01-01', '2020-01-02', '2020-02-01', None, '2020-02-03']\n",
    "})\n",
    "\n",
    "print('\\n--- df.head() ---')\n",
    "display(df.head())\n",
    "\n",
    "print('\\ndf.info()')\n",
    "df.info()\n",
    "\n",
    "print('\\ndf.describe() ')\n",
    "display(df.describe(include='all'))\n",
    "\n",
    "print('\\nMissing values per column ')\n",
    "print(df.isnull().sum())\n",
    "\n",
    "if 'Value' in df.columns and df['Value'].isnull().any():\n",
    "    df['Value_filled'] = df['Value'].fillna(df['Value'].median())\n",
    "    display(df[['Value', 'Value_filled']].head())\n",
    "\n",
    "print('\\n Group by Category and compute mean of Value ')\n",
    "if 'Category' in df.columns and 'Value' in df.columns:\n",
    "    display(df.groupby('Category', dropna=False).agg({'Value': 'mean'}))\n",
    "\n",
    "print('\\nConvert Date column to datetime and show min/max ')\n",
    "if 'Date' in df.columns:\n",
    "    df['Date_parsed'] = pd.to_datetime(df['Date'], errors='coerce')\n",
    "    display(df[['Date', 'Date_parsed']].head())\n",
    "    print('Date range:', df['Date_parsed'].min(), 'to', df['Date_parsed'].max())\n",
    "\n",
    "print('\\nExample value_counts for Category')\n",
    "if 'Category' in df.columns:\n",
    "    print(df['Category'].value_counts(dropna=False))\n"
   ]
  },
  {
   "cell_type": "code",
   "execution_count": null,
   "id": "301e8eea-cec0-46c8-9395-6daa2bc83d72",
   "metadata": {},
   "outputs": [],
   "source": []
  }
 ],
 "metadata": {
  "kernelspec": {
   "display_name": "Python 3 (ipykernel)",
   "language": "python",
   "name": "python3"
  },
  "language_info": {
   "codemirror_mode": {
    "name": "ipython",
    "version": 3
   },
   "file_extension": ".py",
   "mimetype": "text/x-python",
   "name": "python",
   "nbconvert_exporter": "python",
   "pygments_lexer": "ipython3",
   "version": "3.8.8"
  }
 },
 "nbformat": 4,
 "nbformat_minor": 5
}
