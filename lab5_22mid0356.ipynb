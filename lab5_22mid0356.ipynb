{
 "cells": [
  {
   "cell_type": "code",
   "execution_count": 1,
   "id": "bb517ea8",
   "metadata": {},
   "outputs": [
    {
     "name": "stdout",
     "output_type": "stream",
     "text": [
      "1\n",
      "3\n",
      "5\n",
      "7\n"
     ]
    }
   ],
   "source": [
    "odds = [1, 3, 5, 7]\n",
    "\n",
    "# Unpacking the list: 'a' gets 1, 'b' gets 3, 'c' gets 5, and 'd' gets 7\n",
    "a, b, c, d = odds\n",
    "print(a)  # 1\n",
    "print(b)  # 3\n",
    "print(c)  # 5\n",
    "print(d)  # 7"
   ]
  },
  {
   "cell_type": "code",
   "execution_count": 2,
   "id": "a80ad227",
   "metadata": {},
   "outputs": [
    {
     "name": "stdout",
     "output_type": "stream",
     "text": [
      "1\n",
      "3\n",
      "[5, 7]\n"
     ]
    }
   ],
   "source": [
    "odds = [1, 3, 5, 7]\n",
    "\n",
    "# 'a' gets 1, 'b' gets 3, and the rest (5, 7) go into list 'c'\n",
    "a, b, *c = odds\n",
    "print(a)  # 1\n",
    "print(b)  # 3\n",
    "print(c)  # [5, 7] — a list containing the remaining elements"
   ]
  },
  {
   "cell_type": "code",
   "execution_count": 3,
   "id": "dce1b9d9",
   "metadata": {},
   "outputs": [
    {
     "name": "stdout",
     "output_type": "stream",
     "text": [
      "3\n",
      "[5, 7]\n",
      "9\n"
     ]
    }
   ],
   "source": [
    "# 'a' gets the first item (3), \n",
    "# '*b' captures the middle items (5, 7),\n",
    "# and 'c' gets the last item (9)\n",
    "a, *b, c = [3, 5, 7, 9]\n",
    "print(a)  # 3\n",
    "print(b)  # [5, 7]\n",
    "print(c)  # 9"
   ]
  },
  {
   "cell_type": "code",
   "execution_count": 4,
   "id": "917e07eb",
   "metadata": {},
   "outputs": [
    {
     "name": "stdout",
     "output_type": "stream",
     "text": [
      "9\n"
     ]
    }
   ],
   "source": [
    "def a(x, y, z):\n",
    "    return (x + y + z)\n",
    "\n",
    "odds = [1, 3, 5]\n",
    "\n",
    "# Unpacks the list and sends it as arguments: a(1, 3, 5)\n",
    "print(a(*odds))  # 9"
   ]
  },
  {
   "cell_type": "code",
   "execution_count": 5,
   "id": "96e911f1",
   "metadata": {},
   "outputs": [
    {
     "name": "stdout",
     "output_type": "stream",
     "text": [
      "hello,riya\n",
      "hello,harshini\n",
      "hello,dev\n"
     ]
    }
   ],
   "source": [
    "def say_hi(*names):  # *names means it can take any number of names\n",
    "    for n in names:\n",
    "        print(f\"hello,{n}\")\n",
    "\n",
    "say_hi(\"riya\", \"harshini\", \"dev\")\n",
    "# Output:\n",
    "# hello,dev\n",
    "# hello,harshini\n",
    "# hello,riya\n"
   ]
  },
  {
   "cell_type": "code",
   "execution_count": 6,
   "id": "69e4f503",
   "metadata": {},
   "outputs": [
    {
     "name": "stdout",
     "output_type": "stream",
     "text": [
      "alice\n",
      "30\n"
     ]
    }
   ],
   "source": [
    "#dictionary with two key-value pairs\n",
    "person = {\"name\": \"alice\", \"age\": 30}\n",
    "\n",
    "# person.values() gives us ['alice', 30]\n",
    "name, age = person.values()\n",
    "\n",
    "print(name)  # alice\n",
    "print(age)   # 30"
   ]
  },
  {
   "cell_type": "code",
   "execution_count": 8,
   "id": "db12fc01",
   "metadata": {},
   "outputs": [
    {
     "name": "stdout",
     "output_type": "stream",
     "text": [
      "{'name': 'riya', 'age': 21}\n"
     ]
    }
   ],
   "source": [
    "# Another way to create a dictionary\n",
    "dic = {}\n",
    "dic[\"name\"] = \"riya\"\n",
    "dic[\"age\"] = 21\n",
    "\n",
    "print(dic)  \n"
   ]
  },
  {
   "cell_type": "code",
   "execution_count": null,
   "id": "c049261b",
   "metadata": {},
   "outputs": [],
   "source": []
  }
 ],
 "metadata": {
  "kernelspec": {
   "display_name": "Python 3",
   "language": "python",
   "name": "python3"
  },
  "language_info": {
   "codemirror_mode": {
    "name": "ipython",
    "version": 3
   },
   "file_extension": ".py",
   "mimetype": "text/x-python",
   "name": "python",
   "nbconvert_exporter": "python",
   "pygments_lexer": "ipython3",
   "version": "3.8.8"
  }
 },
 "nbformat": 4,
 "nbformat_minor": 5
}
